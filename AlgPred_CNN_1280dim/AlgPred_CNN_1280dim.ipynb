{
  "cells": [
    {
      "cell_type": "code",
      "execution_count": 2,
      "metadata": {
        "colab": {
          "base_uri": "https://localhost:8080/"
        },
        "collapsed": true,
        "id": "GWihiZlc0iLM",
        "outputId": "5dd26515-2f1b-476d-ba01-380f1b73b4e7"
      },
      "outputs": [
        {
          "name": "stdout",
          "output_type": "stream",
          "text": [
            "Requirement already satisfied: fair-esm in /opt/anaconda3/lib/python3.12/site-packages (2.0.0)\n",
            "Requirement already satisfied: torch in /opt/anaconda3/lib/python3.12/site-packages (2.6.0)\n",
            "Requirement already satisfied: pandas in /opt/anaconda3/lib/python3.12/site-packages (2.2.2)\n",
            "Requirement already satisfied: tqdm in /opt/anaconda3/lib/python3.12/site-packages (4.66.5)\n",
            "Requirement already satisfied: filelock in /opt/anaconda3/lib/python3.12/site-packages (from torch) (3.13.1)\n",
            "Requirement already satisfied: typing-extensions>=4.10.0 in /opt/anaconda3/lib/python3.12/site-packages (from torch) (4.11.0)\n",
            "Requirement already satisfied: networkx in /opt/anaconda3/lib/python3.12/site-packages (from torch) (3.3)\n",
            "Requirement already satisfied: jinja2 in /opt/anaconda3/lib/python3.12/site-packages (from torch) (3.1.4)\n",
            "Requirement already satisfied: fsspec in /opt/anaconda3/lib/python3.12/site-packages (from torch) (2024.6.1)\n",
            "Requirement already satisfied: setuptools in /opt/anaconda3/lib/python3.12/site-packages (from torch) (75.8.2)\n",
            "Requirement already satisfied: sympy==1.13.1 in /opt/anaconda3/lib/python3.12/site-packages (from torch) (1.13.1)\n",
            "Requirement already satisfied: mpmath<1.4,>=1.1.0 in /opt/anaconda3/lib/python3.12/site-packages (from sympy==1.13.1->torch) (1.3.0)\n",
            "Requirement already satisfied: numpy>=1.26.0 in /opt/anaconda3/lib/python3.12/site-packages (from pandas) (1.26.4)\n",
            "Requirement already satisfied: python-dateutil>=2.8.2 in /opt/anaconda3/lib/python3.12/site-packages (from pandas) (2.9.0.post0)\n",
            "Requirement already satisfied: pytz>=2020.1 in /opt/anaconda3/lib/python3.12/site-packages (from pandas) (2024.1)\n",
            "Requirement already satisfied: tzdata>=2022.7 in /opt/anaconda3/lib/python3.12/site-packages (from pandas) (2023.3)\n",
            "Requirement already satisfied: six>=1.5 in /opt/anaconda3/lib/python3.12/site-packages (from python-dateutil>=2.8.2->pandas) (1.16.0)\n",
            "Requirement already satisfied: MarkupSafe>=2.0 in /opt/anaconda3/lib/python3.12/site-packages (from jinja2->torch) (2.1.3)\n",
            "Note: you may need to restart the kernel to use updated packages.\n"
          ]
        }
      ],
      "source": [
        "pip install fair-esm torch pandas tqdm"
      ]
    },
    {
      "cell_type": "code",
      "execution_count": 8,
      "metadata": {
        "colab": {
          "base_uri": "https://localhost:8080/"
        },
        "collapsed": true,
        "id": "1_Jv62ty0mrA",
        "outputId": "d3dc380c-4d96-4870-df6c-c58da8a90c08"
      },
      "outputs": [
        {
          "name": "stdout",
          "output_type": "stream",
          "text": [
            "🖥️  Using device: mps\n",
            "⬇️  Loading ESM-2 model (650M)...\n",
            "✅ Model loaded\n",
            "🔁 Resuming from algpred2_train_esm2_embeddings_temp.csv — 1934 entries already processed.\n",
            "⚙️  Extracting embeddings for algpred2_train.csv... (14186 remaining)\n"
          ]
        },
        {
          "name": "stderr",
          "output_type": "stream",
          "text": [
            "  1%|          | 27/3547 [01:27<3:10:06,  3.24s/it]\n"
          ]
        },
        {
          "ename": "KeyboardInterrupt",
          "evalue": "",
          "output_type": "error",
          "traceback": [
            "\u001b[0;31m---------------------------------------------------------------------------\u001b[0m",
            "\u001b[0;31mKeyboardInterrupt\u001b[0m                         Traceback (most recent call last)",
            "Cell \u001b[0;32mIn[8], line 70\u001b[0m\n\u001b[1;32m     67\u001b[0m rows \u001b[38;5;241m=\u001b[39m []\n\u001b[1;32m     68\u001b[0m \u001b[38;5;28;01mfor\u001b[39;00m j, (_, seq) \u001b[38;5;129;01min\u001b[39;00m \u001b[38;5;28menumerate\u001b[39m(batch_data):\n\u001b[1;32m     69\u001b[0m     \u001b[38;5;66;03m# Mean over amino acid tokens (1:len+1)\u001b[39;00m\n\u001b[0;32m---> 70\u001b[0m     representation \u001b[38;5;241m=\u001b[39m token_representations[j, \u001b[38;5;241m1\u001b[39m:\u001b[38;5;28mlen\u001b[39m(seq) \u001b[38;5;241m+\u001b[39m \u001b[38;5;241m1\u001b[39m]\u001b[38;5;241m.\u001b[39mmean(\u001b[38;5;241m0\u001b[39m)\n\u001b[1;32m     71\u001b[0m     entry \u001b[38;5;241m=\u001b[39m {\n\u001b[1;32m     72\u001b[0m         \u001b[38;5;124m\"\u001b[39m\u001b[38;5;124mid\u001b[39m\u001b[38;5;124m\"\u001b[39m: batch_ids[j],\n\u001b[1;32m     73\u001b[0m         \u001b[38;5;124m\"\u001b[39m\u001b[38;5;124mlabel\u001b[39m\u001b[38;5;124m\"\u001b[39m: batch_labels[j],\n\u001b[1;32m     74\u001b[0m     }\n\u001b[1;32m     75\u001b[0m     \u001b[38;5;28;01mfor\u001b[39;00m k \u001b[38;5;129;01min\u001b[39;00m \u001b[38;5;28mrange\u001b[39m(feature_dim):\n",
            "\u001b[0;31mKeyboardInterrupt\u001b[0m: "
          ]
        }
      ],
      "source": [
        "import pandas as pd\n",
        "import torch\n",
        "import esm\n",
        "from tqdm import tqdm\n",
        "import os\n",
        "import csv\n",
        "\n",
        "# Use MPS on Apple Silicon if available\n",
        "device = torch.device(\"mps\" if torch.backends.mps.is_available() else \"cpu\")\n",
        "print(f\"🖥️  Using device: {device}\")\n",
        "\n",
        "# Load ESM-2 model\n",
        "print(\"⬇️  Loading ESM-2 model (650M)...\")\n",
        "model, alphabet = esm.pretrained.esm2_t33_650M_UR50D()\n",
        "batch_converter = alphabet.get_batch_converter()\n",
        "model = model.to(device)\n",
        "model.eval()\n",
        "print(\"✅ Model loaded\")\n",
        "\n",
        "# Process both datasets\n",
        "for dataset in [\"algpred2_train.csv\", \"algpred2_test.csv\"]:\n",
        "    base = os.path.splitext(os.path.basename(dataset))[0]\n",
        "    df = pd.read_csv(dataset)\n",
        "    sequences = list(df[\"sequence\"])\n",
        "    labels = list(df[\"label\"])\n",
        "    ids = list(df[\"id\"])\n",
        "\n",
        "    temp_file = f\"{base}_esm2_embeddings_temp.csv\"\n",
        "    final_file = f\"{base}_esm2_embeddings.csv\"\n",
        "\n",
        "    # Track already processed IDs\n",
        "    if os.path.exists(temp_file):\n",
        "        processed_ids = set(pd.read_csv(temp_file, usecols=[\"id\"])[\"id\"])\n",
        "        print(f\"🔁 Resuming from {temp_file} — {len(processed_ids)} entries already processed.\")\n",
        "    else:\n",
        "        processed_ids = set()\n",
        "\n",
        "    # Filter out processed entries\n",
        "    remaining_data = [(ids[i], sequences[i], labels[i]) for i in range(len(ids)) if ids[i] not in processed_ids]\n",
        "\n",
        "    print(f\"⚙️  Extracting embeddings for {dataset}... ({len(remaining_data)} remaining)\")\n",
        "\n",
        "    batch_size = 4\n",
        "    feature_dim = 1280\n",
        "    write_header = not os.path.exists(temp_file)\n",
        "    fieldnames = [\"id\", \"label\"] + [f\"f{k}\" for k in range(feature_dim)]\n",
        "\n",
        "    with open(temp_file, mode=\"a\", newline=\"\") as f:\n",
        "        writer = csv.DictWriter(f, fieldnames=fieldnames)\n",
        "        if write_header:\n",
        "            writer.writeheader()\n",
        "\n",
        "        for i in tqdm(range(0, len(remaining_data), batch_size)):\n",
        "            batch = remaining_data[i:i + batch_size]\n",
        "            batch_ids = [x[0] for x in batch]\n",
        "            batch_seqs = [x[1] for x in batch]\n",
        "            batch_labels = [x[2] for x in batch]\n",
        "\n",
        "            batch_data = [(batch_ids[j], batch_seqs[j]) for j in range(len(batch_seqs))]\n",
        "            _, _, batch_tokens = batch_converter(batch_data)\n",
        "            batch_tokens = batch_tokens.to(device)\n",
        "\n",
        "            with torch.no_grad():\n",
        "                outputs = model(batch_tokens, repr_layers=[33])\n",
        "                token_representations = outputs[\"representations\"][33]\n",
        "\n",
        "            rows = []\n",
        "            for j, (_, seq) in enumerate(batch_data):\n",
        "                # Mean over amino acid tokens (1:len+1)\n",
        "                representation = token_representations[j, 1:len(seq) + 1].mean(0)\n",
        "                entry = {\n",
        "                    \"id\": batch_ids[j],\n",
        "                    \"label\": batch_labels[j],\n",
        "                }\n",
        "                for k in range(feature_dim):\n",
        "                    entry[f\"f{k}\"] = representation[k].item()\n",
        "                rows.append(entry)\n",
        "\n",
        "            writer.writerows(rows)\n",
        "\n",
        "    os.replace(temp_file, final_file)\n",
        "    print(f\"✅ Final embeddings saved to '{final_file}'\\n\")\n"
      ]
    },
    {
      "cell_type": "code",
      "execution_count": null,
      "metadata": {
        "colab": {
          "base_uri": "https://localhost:8080/"
        },
        "collapsed": true,
        "id": "Bbgdtsm87X__",
        "outputId": "b4270396-a363-4706-a737-987c55eb4120"
      },
      "outputs": [
        {
          "name": "stdout",
          "output_type": "stream",
          "text": [
            "     id                                           sequence  label\n",
            "0  P_13  MGKPFTLSLSSLCLLLLSSACFAISSSKLNECQLNNLNALEPDHRV...      1\n",
            "1  P_14  MGVFTFEDEINSPVAPATLYKALVTDADNVIPKALDSFKSVENVEG...      1\n",
            "2  P_17  MAEDEDNQQGQGEGLKYLGFVQDAATYAVTTFSNVYLFAKDKSGPL...      1\n",
            "3  P_46  MGVFNYEVETPSVISAARLFKSYVLDGDKLIPKVAPQAITSVENVG...      1\n",
            "4  P_47  MGVFNYEVETPSVIPAARLFKSYVLDGDKLIPKVAPQAITSVENVE...      1\n",
            "(16120, 3)\n"
          ]
        }
      ],
      "source": [
        "import pandas as pd\n",
        "\n",
        "df = pd.read_csv(\"algpred2_train.csv\")\n",
        "print(df.head())\n",
        "print(df.shape)  # Rows, features"
      ]
    },
    {
      "cell_type": "code",
      "execution_count": null,
      "metadata": {
        "colab": {
          "base_uri": "https://localhost:8080/"
        },
        "id": "dvQ6gYSmeMsx",
        "outputId": "1142ed8f-53ac-4819-df54-1a4aa4c1357e"
      },
      "outputs": [
        {
          "name": "stdout",
          "output_type": "stream",
          "text": [
            "📁 Train+Val size: (16120, 1280), Test size: (4030, 1280)\n",
            "\n",
            "📉 DummyClassifier (Stratified) on Train+Val:\n",
            "\n",
            "📊 Dummy ROC-AUC: 0.4991 ± 0.0000\n",
            "\n",
            "🚀 5-Fold Cross-Validation (XGBoost) on Train+Val...\n",
            "\n"
          ]
        },
        {
          "name": "stderr",
          "output_type": "stream",
          "text": [
            "/usr/local/lib/python3.11/dist-packages/xgboost/core.py:158: UserWarning: [00:28:42] WARNING: /workspace/src/learner.cc:740: \n",
            "Parameters: { \"use_label_encoder\" } are not used.\n",
            "\n",
            "  warnings.warn(smsg, UserWarning)\n"
          ]
        },
        {
          "name": "stdout",
          "output_type": "stream",
          "text": [
            "📂 Fold 1 AUC: 0.9977\n",
            "              precision    recall  f1-score   support\n",
            "\n",
            "           0     0.9900    0.9845    0.9872      1612\n",
            "           1     0.9846    0.9901    0.9873      1612\n",
            "\n",
            "    accuracy                         0.9873      3224\n",
            "   macro avg     0.9873    0.9873    0.9873      3224\n",
            "weighted avg     0.9873    0.9873    0.9873      3224\n",
            "\n",
            "------\n"
          ]
        },
        {
          "name": "stderr",
          "output_type": "stream",
          "text": [
            "/usr/local/lib/python3.11/dist-packages/xgboost/core.py:158: UserWarning: [00:29:16] WARNING: /workspace/src/learner.cc:740: \n",
            "Parameters: { \"use_label_encoder\" } are not used.\n",
            "\n",
            "  warnings.warn(smsg, UserWarning)\n"
          ]
        },
        {
          "name": "stdout",
          "output_type": "stream",
          "text": [
            "📂 Fold 2 AUC: 0.9982\n",
            "              precision    recall  f1-score   support\n",
            "\n",
            "           0     0.9863    0.9845    0.9854      1612\n",
            "           1     0.9845    0.9864    0.9854      1612\n",
            "\n",
            "    accuracy                         0.9854      3224\n",
            "   macro avg     0.9854    0.9854    0.9854      3224\n",
            "weighted avg     0.9854    0.9854    0.9854      3224\n",
            "\n",
            "------\n"
          ]
        },
        {
          "name": "stderr",
          "output_type": "stream",
          "text": [
            "/usr/local/lib/python3.11/dist-packages/xgboost/core.py:158: UserWarning: [00:29:50] WARNING: /workspace/src/learner.cc:740: \n",
            "Parameters: { \"use_label_encoder\" } are not used.\n",
            "\n",
            "  warnings.warn(smsg, UserWarning)\n"
          ]
        },
        {
          "name": "stdout",
          "output_type": "stream",
          "text": [
            "📂 Fold 3 AUC: 0.9988\n",
            "              precision    recall  f1-score   support\n",
            "\n",
            "           0     0.9906    0.9833    0.9869      1612\n",
            "           1     0.9834    0.9907    0.9870      1612\n",
            "\n",
            "    accuracy                         0.9870      3224\n",
            "   macro avg     0.9870    0.9870    0.9870      3224\n",
            "weighted avg     0.9870    0.9870    0.9870      3224\n",
            "\n",
            "------\n"
          ]
        },
        {
          "name": "stderr",
          "output_type": "stream",
          "text": [
            "/usr/local/lib/python3.11/dist-packages/xgboost/core.py:158: UserWarning: [00:30:24] WARNING: /workspace/src/learner.cc:740: \n",
            "Parameters: { \"use_label_encoder\" } are not used.\n",
            "\n",
            "  warnings.warn(smsg, UserWarning)\n"
          ]
        },
        {
          "name": "stdout",
          "output_type": "stream",
          "text": [
            "📂 Fold 4 AUC: 0.9981\n",
            "              precision    recall  f1-score   support\n",
            "\n",
            "           0     0.9839    0.9851    0.9845      1612\n",
            "           1     0.9851    0.9839    0.9845      1612\n",
            "\n",
            "    accuracy                         0.9845      3224\n",
            "   macro avg     0.9845    0.9845    0.9845      3224\n",
            "weighted avg     0.9845    0.9845    0.9845      3224\n",
            "\n",
            "------\n"
          ]
        },
        {
          "name": "stderr",
          "output_type": "stream",
          "text": [
            "/usr/local/lib/python3.11/dist-packages/xgboost/core.py:158: UserWarning: [00:30:58] WARNING: /workspace/src/learner.cc:740: \n",
            "Parameters: { \"use_label_encoder\" } are not used.\n",
            "\n",
            "  warnings.warn(smsg, UserWarning)\n"
          ]
        },
        {
          "name": "stdout",
          "output_type": "stream",
          "text": [
            "📂 Fold 5 AUC: 0.9988\n",
            "              precision    recall  f1-score   support\n",
            "\n",
            "           0     0.9882    0.9864    0.9873      1612\n",
            "           1     0.9864    0.9882    0.9873      1612\n",
            "\n",
            "    accuracy                         0.9873      3224\n",
            "   macro avg     0.9873    0.9873    0.9873      3224\n",
            "weighted avg     0.9873    0.9873    0.9873      3224\n",
            "\n",
            "------\n",
            "\n",
            "✅ Mean CV ROC-AUC: 0.9983 ± 0.0004\n",
            "\n",
            "🔒 Final Evaluation on Hold-Out Test Set...\n",
            "\n"
          ]
        },
        {
          "name": "stderr",
          "output_type": "stream",
          "text": [
            "/usr/local/lib/python3.11/dist-packages/xgboost/core.py:158: UserWarning: [00:31:34] WARNING: /workspace/src/learner.cc:740: \n",
            "Parameters: { \"use_label_encoder\" } are not used.\n",
            "\n",
            "  warnings.warn(smsg, UserWarning)\n"
          ]
        },
        {
          "name": "stdout",
          "output_type": "stream",
          "text": [
            "              precision    recall  f1-score   support\n",
            "\n",
            "           0     0.7800    0.9906    0.8728      2015\n",
            "           1     0.9871    0.7206    0.8330      2015\n",
            "\n",
            "    accuracy                         0.8556      4030\n",
            "   macro avg     0.8835    0.8556    0.8529      4030\n",
            "weighted avg     0.8835    0.8556    0.8529      4030\n",
            "\n",
            "🎯 Final Test ROC-AUC: 0.9793\n",
            "\n",
            "🧪 Y-Scrambling (sanity check) on Train+Val...\n",
            "\n"
          ]
        },
        {
          "name": "stderr",
          "output_type": "stream",
          "text": [
            "/usr/local/lib/python3.11/dist-packages/xgboost/core.py:158: UserWarning: [00:32:13] WARNING: /workspace/src/learner.cc:740: \n",
            "Parameters: { \"use_label_encoder\" } are not used.\n",
            "\n",
            "  warnings.warn(smsg, UserWarning)\n",
            "/usr/local/lib/python3.11/dist-packages/xgboost/core.py:158: UserWarning: [00:33:03] WARNING: /workspace/src/learner.cc:740: \n",
            "Parameters: { \"use_label_encoder\" } are not used.\n",
            "\n",
            "  warnings.warn(smsg, UserWarning)\n",
            "/usr/local/lib/python3.11/dist-packages/xgboost/core.py:158: UserWarning: [00:33:54] WARNING: /workspace/src/learner.cc:740: \n",
            "Parameters: { \"use_label_encoder\" } are not used.\n",
            "\n",
            "  warnings.warn(smsg, UserWarning)\n",
            "/usr/local/lib/python3.11/dist-packages/xgboost/core.py:158: UserWarning: [00:34:43] WARNING: /workspace/src/learner.cc:740: \n",
            "Parameters: { \"use_label_encoder\" } are not used.\n",
            "\n",
            "  warnings.warn(smsg, UserWarning)\n",
            "/usr/local/lib/python3.11/dist-packages/xgboost/core.py:158: UserWarning: [00:35:32] WARNING: /workspace/src/learner.cc:740: \n",
            "Parameters: { \"use_label_encoder\" } are not used.\n",
            "\n",
            "  warnings.warn(smsg, UserWarning)\n"
          ]
        },
        {
          "name": "stdout",
          "output_type": "stream",
          "text": [
            "🔀 Y-Scrambled ROC-AUC: 0.4913 ± 0.0076\n",
            "👉 This should be near 0.5 if your real model learned something.\n"
          ]
        }
      ],
      "source": [
        "import pandas as pd\n",
        "import numpy as np\n",
        "from sklearn.model_selection import StratifiedKFold, train_test_split\n",
        "from sklearn.metrics import roc_auc_score, classification_report\n",
        "from sklearn.dummy import DummyClassifier\n",
        "import xgboost as xgb\n",
        "import random\n",
        "\n",
        "# ====================================\n",
        "# Step 1: Load Data (Proper Separation)\n",
        "# ====================================\n",
        "df_train = pd.read_csv(\"algpred2_train_esm2_embeddings.csv\")\n",
        "df_test = pd.read_csv(\"algpred2_test_esm2_embeddings.csv\")\n",
        "\n",
        "feature_cols = [f\"f{i}\" for i in range(1280)]  # Adjust if using larger model\n",
        "X_temp = df_train[feature_cols].values\n",
        "y_temp = df_train[\"label\"].values\n",
        "\n",
        "X_test = df_test[feature_cols].values\n",
        "y_test = df_test[\"label\"].values\n",
        "\n",
        "print(f\"📁 Train+Val size: {X_temp.shape}, Test size: {X_test.shape}\")\n",
        "\n",
        "\n",
        "# ====================================\n",
        "# Step 3: Dummy Classifier Baseline (on Train+Val)\n",
        "# ====================================\n",
        "print(\"\\n📉 DummyClassifier (Stratified) on Train+Val:\\n\")\n",
        "dummy = DummyClassifier(strategy=\"stratified\", random_state=42)\n",
        "dummy_aucs = []\n",
        "cv = StratifiedKFold(n_splits=5, shuffle=True, random_state=42)\n",
        "\n",
        "for train_idx, val_idx in cv.split(X_temp, y_temp):\n",
        "    dummy.fit(X_temp[train_idx], y_temp[train_idx])\n",
        "    y_dummy_proba = dummy.predict_proba(X_temp[val_idx])[:, 1]\n",
        "    auc = roc_auc_score(y_temp[val_idx], y_dummy_proba)\n",
        "    dummy_aucs.append(auc)\n",
        "\n",
        "print(f\"📊 Dummy ROC-AUC: {np.mean(dummy_aucs):.4f} ± {np.std(dummy_aucs):.4f}\")\n",
        "\n",
        "# ====================================\n",
        "# Step 4: Cross-Validation on Train+Val (XGBoost)\n",
        "# ====================================\n",
        "print(\"\\n🚀 5-Fold Cross-Validation (XGBoost) on Train+Val...\\n\")\n",
        "xgb_aucs = []\n",
        "\n",
        "for fold, (train_idx, val_idx) in enumerate(cv.split(X_temp, y_temp)):\n",
        "    X_train, X_val = X_temp[train_idx], X_temp[val_idx]\n",
        "    y_train, y_val = y_temp[train_idx], y_temp[val_idx]\n",
        "\n",
        "    clf = xgb.XGBClassifier(use_label_encoder=False, eval_metric=\"logloss\", random_state=42)\n",
        "    clf.fit(X_train, y_train)\n",
        "\n",
        "    y_pred = clf.predict(X_val)\n",
        "    y_proba = clf.predict_proba(X_val)[:, 1]\n",
        "\n",
        "    auc = roc_auc_score(y_val, y_proba)\n",
        "    xgb_aucs.append(auc)\n",
        "\n",
        "    print(f\"📂 Fold {fold+1} AUC: {auc:.4f}\")\n",
        "    print(classification_report(y_val, y_pred, digits=4))\n",
        "    print(\"------\")\n",
        "\n",
        "print(f\"\\n✅ Mean CV ROC-AUC: {np.mean(xgb_aucs):.4f} ± {np.std(xgb_aucs):.4f}\")\n",
        "\n",
        "# ====================================\n",
        "# Step 5: Final Test Set Evaluation\n",
        "# ====================================\n",
        "print(\"\\n🔒 Final Evaluation on Hold-Out Test Set...\\n\")\n",
        "clf_final = xgb.XGBClassifier(use_label_encoder=False, eval_metric=\"logloss\", random_state=42)\n",
        "clf_final.fit(X_temp, y_temp)\n",
        "\n",
        "y_test_pred = clf_final.predict(X_test)\n",
        "y_test_proba = clf_final.predict_proba(X_test)[:, 1]\n",
        "\n",
        "test_auc = roc_auc_score(y_test, y_test_proba)\n",
        "print(classification_report(y_test, y_test_pred, digits=4))\n",
        "print(f\"🎯 Final Test ROC-AUC: {test_auc:.4f}\")\n",
        "\n",
        "# ====================================\n",
        "# Step 6: Y-Scrambling Control\n",
        "# ====================================\n",
        "print(\"\\n🧪 Y-Scrambling (sanity check) on Train+Val...\\n\")\n",
        "y_temp_scrambled = y_temp.copy()\n",
        "random.seed(42)\n",
        "random.shuffle(y_temp_scrambled)\n",
        "\n",
        "scrambled_aucs = []\n",
        "for train_idx, val_idx in cv.split(X_temp, y_temp_scrambled):\n",
        "    X_train, X_val = X_temp[train_idx], X_temp[val_idx]\n",
        "    y_train, y_val = y_temp_scrambled[train_idx], y_temp_scrambled[val_idx]\n",
        "\n",
        "    clf_scrambled = xgb.XGBClassifier(use_label_encoder=False, eval_metric=\"logloss\", random_state=42)\n",
        "    clf_scrambled.fit(X_train, y_train)\n",
        "    y_proba_scrambled = clf_scrambled.predict_proba(X_val)[:, 1]\n",
        "\n",
        "    auc = roc_auc_score(y_val, y_proba_scrambled)\n",
        "    scrambled_aucs.append(auc)\n",
        "\n",
        "print(f\"🔀 Y-Scrambled ROC-AUC: {np.mean(scrambled_aucs):.4f} ± {np.std(scrambled_aucs):.4f}\")\n",
        "print(\"👉 This should be near 0.5 if your real model learned something.\")\n"
      ]
    },
    {
      "cell_type": "code",
      "execution_count": null,
      "metadata": {
        "id": "v1qxkMygeYDt"
      },
      "outputs": [],
      "source": []
    }
  ],
  "metadata": {
    "accelerator": "GPU",
    "colab": {
      "gpuType": "T4",
      "provenance": []
    },
    "kernelspec": {
      "display_name": "base",
      "language": "python",
      "name": "python3"
    },
    "language_info": {
      "codemirror_mode": {
        "name": "ipython",
        "version": 3
      },
      "file_extension": ".py",
      "mimetype": "text/x-python",
      "name": "python",
      "nbconvert_exporter": "python",
      "pygments_lexer": "ipython3",
      "version": "3.12.7"
    }
  },
  "nbformat": 4,
  "nbformat_minor": 0
}
