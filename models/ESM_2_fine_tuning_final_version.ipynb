{
  "nbformat": 4,
  "nbformat_minor": 0,
  "metadata": {
    "colab": {
      "provenance": [],
      "gpuType": "A100"
    },
    "kernelspec": {
      "name": "python3",
      "display_name": "Python 3"
    },
    "language_info": {
      "name": "python"
    },
    "accelerator": "GPU"
  },
  "cells": [
    {
      "cell_type": "code",
      "source": [
        "!pip install fair-esm optuna"
      ],
      "metadata": {
        "colab": {
          "base_uri": "https://localhost:8080/"
        },
        "id": "wpWoPbMjrAAQ",
        "outputId": "9be4dbaf-a7a7-43bd-d8ec-c25efb556dca",
        "collapsed": true
      },
      "execution_count": 1,
      "outputs": [
        {
          "output_type": "stream",
          "name": "stdout",
          "text": [
            "Collecting fair-esm\n",
            "  Downloading fair_esm-2.0.0-py3-none-any.whl.metadata (37 kB)\n",
            "Collecting optuna\n",
            "  Downloading optuna-4.3.0-py3-none-any.whl.metadata (17 kB)\n",
            "Collecting alembic>=1.5.0 (from optuna)\n",
            "  Downloading alembic-1.15.2-py3-none-any.whl.metadata (7.3 kB)\n",
            "Collecting colorlog (from optuna)\n",
            "  Downloading colorlog-6.9.0-py3-none-any.whl.metadata (10 kB)\n",
            "Requirement already satisfied: numpy in /usr/local/lib/python3.11/dist-packages (from optuna) (2.0.2)\n",
            "Requirement already satisfied: packaging>=20.0 in /usr/local/lib/python3.11/dist-packages (from optuna) (24.2)\n",
            "Requirement already satisfied: sqlalchemy>=1.4.2 in /usr/local/lib/python3.11/dist-packages (from optuna) (2.0.40)\n",
            "Requirement already satisfied: tqdm in /usr/local/lib/python3.11/dist-packages (from optuna) (4.67.1)\n",
            "Requirement already satisfied: PyYAML in /usr/local/lib/python3.11/dist-packages (from optuna) (6.0.2)\n",
            "Requirement already satisfied: Mako in /usr/lib/python3/dist-packages (from alembic>=1.5.0->optuna) (1.1.3)\n",
            "Requirement already satisfied: typing-extensions>=4.12 in /usr/local/lib/python3.11/dist-packages (from alembic>=1.5.0->optuna) (4.13.2)\n",
            "Requirement already satisfied: greenlet>=1 in /usr/local/lib/python3.11/dist-packages (from sqlalchemy>=1.4.2->optuna) (3.2.2)\n",
            "Downloading fair_esm-2.0.0-py3-none-any.whl (93 kB)\n",
            "\u001b[2K   \u001b[90m━━━━━━━━━━━━━━━━━━━━━━━━━━━━━━━━━━━━━━━━\u001b[0m \u001b[32m93.1/93.1 kB\u001b[0m \u001b[31m7.5 MB/s\u001b[0m eta \u001b[36m0:00:00\u001b[0m\n",
            "\u001b[?25hDownloading optuna-4.3.0-py3-none-any.whl (386 kB)\n",
            "\u001b[2K   \u001b[90m━━━━━━━━━━━━━━━━━━━━━━━━━━━━━━━━━━━━━━━━\u001b[0m \u001b[32m386.6/386.6 kB\u001b[0m \u001b[31m30.3 MB/s\u001b[0m eta \u001b[36m0:00:00\u001b[0m\n",
            "\u001b[?25hDownloading alembic-1.15.2-py3-none-any.whl (231 kB)\n",
            "\u001b[2K   \u001b[90m━━━━━━━━━━━━━━━━━━━━━━━━━━━━━━━━━━━━━━━━\u001b[0m \u001b[32m231.9/231.9 kB\u001b[0m \u001b[31m19.8 MB/s\u001b[0m eta \u001b[36m0:00:00\u001b[0m\n",
            "\u001b[?25hDownloading colorlog-6.9.0-py3-none-any.whl (11 kB)\n",
            "Installing collected packages: fair-esm, colorlog, alembic, optuna\n",
            "Successfully installed alembic-1.15.2 colorlog-6.9.0 fair-esm-2.0.0 optuna-4.3.0\n"
          ]
        }
      ]
    },
    {
      "cell_type": "code",
      "execution_count": 2,
      "metadata": {
        "id": "zAg9ZTNhNlBT"
      },
      "outputs": [],
      "source": [
        "import torch\n",
        "import optuna\n",
        "from sklearn.model_selection import KFold, train_test_split\n",
        "from sklearn.metrics import roc_auc_score, accuracy_score, f1_score, precision_score, recall_score, matthews_corrcoef\n",
        "from torch.utils.data import DataLoader, TensorDataset, Dataset\n",
        "import matplotlib.pyplot as plt\n",
        "from sklearn.metrics import RocCurveDisplay\n",
        "import numpy as np\n",
        "import random\n",
        "import pandas as pd\n",
        "import torch.nn as nn\n",
        "import esm\n",
        "from esm import Alphabet\n",
        "from torch.utils.data import TensorDataset\n",
        "from optuna.samplers import TPESampler\n",
        "from scipy import stats\n",
        "from torch.cuda.amp import autocast, GradScaler\n",
        "from tqdm import tqdm"
      ]
    },
    {
      "cell_type": "code",
      "source": [
        "from google.colab import drive\n",
        "drive.mount('/content/drive', force_remount=True)"
      ],
      "metadata": {
        "colab": {
          "base_uri": "https://localhost:8080/"
        },
        "id": "QgIaIq2epV43",
        "outputId": "b120b111-dc7f-421d-ce04-9604ffb3775e"
      },
      "execution_count": 3,
      "outputs": [
        {
          "output_type": "stream",
          "name": "stdout",
          "text": [
            "Mounted at /content/drive\n"
          ]
        }
      ]
    },
    {
      "cell_type": "code",
      "source": [
        "#Reproducibility\n",
        "SEED = 42\n",
        "random.seed(SEED)\n",
        "torch.manual_seed(SEED)"
      ],
      "metadata": {
        "colab": {
          "base_uri": "https://localhost:8080/"
        },
        "id": "gDbNLhHt9BAX",
        "outputId": "d67eec59-6197-4ffa-e097-5b8713c331f3"
      },
      "execution_count": 4,
      "outputs": [
        {
          "output_type": "execute_result",
          "data": {
            "text/plain": [
              "<torch._C.Generator at 0x7810ae7974f0>"
            ]
          },
          "metadata": {},
          "execution_count": 4
        }
      ]
    },
    {
      "cell_type": "code",
      "source": [
        "# === Step 1: Load Pretrained ESM-2 Model ===\n",
        "MODEL_NAME = \"esm2_t6_8M_UR50D\"  # smallest esm-2 model\n",
        "MAX_LEN = 1022\n",
        "model, alphabet = esm.pretrained.load_model_and_alphabet(MODEL_NAME)\n",
        "model = model.cuda()\n",
        "batch_converter = alphabet.get_batch_converter()\n",
        "\n",
        "\n",
        "# Dataset Class\n",
        "class ProteinDataset(torch.utils.data.Dataset):\n",
        "    def __init__(self, sequences, labels, max_length):\n",
        "        self.sequences = sequences\n",
        "        self.labels = labels\n",
        "        self.max_length = max_length\n",
        "\n",
        "    def __len__(self):\n",
        "        return len(self.sequences)\n",
        "\n",
        "    def __getitem__(self, idx):\n",
        "        seq = self.sequences[idx]\n",
        "        label = self.labels[idx]\n",
        "        return seq, label  # return the sequence and label as a tuple\n",
        "\n",
        "# Collate Function with Batch Conversion\n",
        "def collate_fn(batch):\n",
        "    # Prepare the data to be in the (label, sequence) format\n",
        "    batch_labels = [(str(i), seq) for i, (seq, _) in enumerate(batch)]\n",
        "\n",
        "    # Use batch_converter to tokenize the batch\n",
        "    _, _, tokens = batch_converter(batch_labels)\n",
        "\n",
        "    tokens = tokens[:, :MAX_LEN]\n",
        "\n",
        "    # Get the labels and convert them to tensor\n",
        "    labels = torch.tensor([label for _, label in batch], dtype=torch.float)\n",
        "\n",
        "    return tokens.cuda(), labels.cuda()\n",
        "\n"
      ],
      "metadata": {
        "id": "a52GSL6nNpi8",
        "colab": {
          "base_uri": "https://localhost:8080/"
        },
        "outputId": "25d7369e-0864-4c51-a4be-185e4358af44"
      },
      "execution_count": 5,
      "outputs": [
        {
          "output_type": "stream",
          "name": "stderr",
          "text": [
            "Downloading: \"https://dl.fbaipublicfiles.com/fair-esm/models/esm2_t6_8M_UR50D.pt\" to /root/.cache/torch/hub/checkpoints/esm2_t6_8M_UR50D.pt\n",
            "Downloading: \"https://dl.fbaipublicfiles.com/fair-esm/regression/esm2_t6_8M_UR50D-contact-regression.pt\" to /root/.cache/torch/hub/checkpoints/esm2_t6_8M_UR50D-contact-regression.pt\n"
          ]
        }
      ]
    },
    {
      "cell_type": "code",
      "source": [
        "# === Step 4: Classification Model ===\n",
        "class ESMClassifier(nn.Module):\n",
        "    def __init__(self, esm_model, hidden_dim, num_layers, dropout):\n",
        "        super().__init__()\n",
        "        self.esm = esm_model  # Keep ESM model as is (for fine-tuning)\n",
        "\n",
        "        input_dim = self.esm.embed_dim  # Correctly get input dimension from ESM\n",
        "\n",
        "        layers = []\n",
        "        for _ in range(num_layers):\n",
        "            layers.append(nn.Linear(input_dim, hidden_dim))\n",
        "            layers.append(nn.ReLU())\n",
        "            layers.append(nn.Dropout(dropout))\n",
        "            input_dim = hidden_dim  # Update for next layer\n",
        "\n",
        "        layers.append(nn.Linear(hidden_dim, 1))\n",
        "        self.classifier = nn.Sequential(*layers)\n",
        "\n",
        "    def forward(self, tokens):\n",
        "        results = self.esm(tokens, repr_layers=[6], return_contacts=True)\n",
        "        embeddings = results[\"representations\"][6]\n",
        "        cls_rep = embeddings[:, 0, :]  # CLS token representation\n",
        "        logits = self.classifier(cls_rep)\n",
        "        return logits.view(-1)  # Output shape is [batch_size]\n"
      ],
      "metadata": {
        "id": "zaScz4WlGe0C"
      },
      "execution_count": 6,
      "outputs": []
    },
    {
      "cell_type": "code",
      "source": [
        "# === Step 5: Training Function ===\n",
        "def train_epoch(model, loader, criterion, optimizer, scaler, device):\n",
        "    model.train()\n",
        "    total_loss = 0\n",
        "    correct = 0\n",
        "    total = 0\n",
        "\n",
        "    progress_bar = tqdm(loader, desc=\"Training\")\n",
        "    for x, y in progress_bar:\n",
        "        x = x.to(device)\n",
        "        y = y.to(device)\n",
        "\n",
        "        optimizer.zero_grad()\n",
        "\n",
        "        with torch.amp.autocast(device_type=device):\n",
        "            logits = model(x)\n",
        "            loss = criterion(logits, y.float())\n",
        "\n",
        "        scaler.scale(loss).backward()\n",
        "        scaler.step(optimizer)\n",
        "        scaler.update()\n",
        "\n",
        "        # Metrics\n",
        "        total_loss += loss.item()\n",
        "        pred = torch.sigmoid(logits) >= 0.5\n",
        "        correct += (pred == y).sum().item()\n",
        "        total += y.size(0)\n",
        "\n",
        "        progress_bar.set_postfix({\"loss\": f\"{loss.item():.4f}\", \"acc\": f\"{correct/total:.4f}\"})\n",
        "\n",
        "\n",
        "    return total_loss / len(loader), correct / total"
      ],
      "metadata": {
        "id": "J3T4EI6uzZ-s"
      },
      "execution_count": 7,
      "outputs": []
    },
    {
      "cell_type": "code",
      "source": [
        "def evaluate(model, loader, criterion, device):\n",
        "    model.eval()\n",
        "    total_loss = 0\n",
        "    y_true, y_pred, y_prob = [], [], []\n",
        "\n",
        "    with torch.no_grad():\n",
        "        for x, y in loader:\n",
        "            x = x.to(device)\n",
        "            y = y.to(device)\n",
        "\n",
        "            # Forward pass\n",
        "            logits = model(x)\n",
        "            loss = criterion(logits, y.float())\n",
        "            total_loss += loss.item()\n",
        "\n",
        "            # Convert logits to probabilities and predictions\n",
        "            probs = torch.sigmoid(logits)\n",
        "            preds = (probs >= 0.5).long()\n",
        "\n",
        "            # Store results\n",
        "            y_true.extend(y.cpu().numpy())\n",
        "            y_prob.extend(probs.cpu().numpy())\n",
        "            y_pred.extend(preds.cpu().numpy())\n",
        "\n",
        "    # Calculate metrics\n",
        "    metrics = {\n",
        "        \"loss\": total_loss / len(loader),\n",
        "        \"accuracy\": accuracy_score(y_true, y_pred),\n",
        "        \"auc\": roc_auc_score(y_true, y_prob),\n",
        "        \"f1\": f1_score(y_true, y_pred),\n",
        "        \"precision\": precision_score(y_true, y_pred),\n",
        "        \"recall\": recall_score(y_true, y_pred),\n",
        "        \"mcc\": matthews_corrcoef(y_true, y_pred),\n",
        "    }\n",
        "\n",
        "    for name, value in metrics.items():\n",
        "        print(f\"{name:12}: {value:.4f}\")\n",
        "\n",
        "    return metrics\n"
      ],
      "metadata": {
        "id": "LKtg6LnKSgdo"
      },
      "execution_count": 8,
      "outputs": []
    },
    {
      "cell_type": "code",
      "source": [
        "def objective(trial):\n",
        "    # Hyperparameters\n",
        "    hidden_dim = trial.suggest_categorical(\"hidden_dim\", [64, 128, 256])\n",
        "    num_layers = trial.suggest_int(\"num_layers\", 1, 3)\n",
        "    dropout = trial.suggest_float(\"dropout\", 0.1, 0.5)\n",
        "    lr = trial.suggest_loguniform(\"lr\", 1e-6, 1e-5)\n",
        "    batch_size = trial.suggest_categorical(\"batch_size\", [4,8]) #Due to limited computation resources available\n",
        "    max_epochs = trial.suggest_int(\"max_epochs\", 3, 10)\n",
        "\n",
        "    # 5-Fold CV on training dataset\n",
        "    kf = KFold(n_splits=5, shuffle=True, random_state=SEED)\n",
        "    val_scores = []\n",
        "    plt.figure(figsize=(10, 8))\n",
        "\n",
        "    for fold, (train_idx, val_idx) in enumerate(kf.split(train_sequences)):\n",
        "        fold_train_seqs = [train_sequences[i] for i in train_idx]\n",
        "        fold_train_labels = [train_labels[i] for i in train_idx]\n",
        "        fold_val_seqs = [train_sequences[i] for i in val_idx]\n",
        "        fold_val_labels = [train_labels[i] for i in val_idx]\n",
        "\n",
        "        fold_train_dataset = ProteinDataset(fold_train_seqs, fold_train_labels, MAX_LEN)\n",
        "        fold_val_dataset = ProteinDataset(fold_val_seqs, fold_val_labels, MAX_LEN)\n",
        "\n",
        "        train_loader = DataLoader(fold_train_dataset, batch_size=batch_size, shuffle=True, collate_fn=collate_fn)\n",
        "        val_loader = DataLoader(fold_val_dataset, batch_size=batch_size, collate_fn=collate_fn)\n",
        "\n",
        "        # Load ESM model\n",
        "        esm_model, alphabet = esm.pretrained.esm2_t6_8M_UR50D()\n",
        "        esm_model = esm_model.cuda()\n",
        "        model = ESMClassifier(esm_model, hidden_dim, num_layers, dropout).cuda()\n",
        "\n",
        "        optimizer = torch.optim.AdamW(model.parameters(), lr=lr)\n",
        "        criterion = nn.BCEWithLogitsLoss()\n",
        "        scaler = GradScaler()\n",
        "        early_stopping = EarlyStopping(patience=3, min_delta=1e-3)\n",
        "\n",
        "        for epoch in range(max_epochs):\n",
        "            train_epoch(model, train_loader, criterion, optimizer, scaler, device)\n",
        "            metrics = evaluate(model, val_loader, criterion, device=\"cuda\")\n",
        "\n",
        "            # Report intermediate value to Optuna (key for pruning)\n",
        "            trial.report(metrics[\"loss\"], step=epoch)\n",
        "\n",
        "            # Check if trial should be pruned\n",
        "            if trial.should_prune():\n",
        "                print(f\"Pruned fold {fold+1} at epoch {epoch+1}\")\n",
        "                raise optuna.exceptions.TrialPruned()\n",
        "\n",
        "            print(f\"Fold {fold+1}, Epoch {epoch+1}: AUC = {metrics['auc']:.4f}\")\n",
        "            early_stopping.step(metrics[\"auc\"])\n",
        "            if early_stopping.early_stop:\n",
        "                print(f\"Early stopping at epoch {epoch+1} for fold {fold+1}\")\n",
        "                break\n",
        "\n",
        "        val_scores.append(metrics[\"loss\"])\n",
        "\n",
        "        # ROC curve\n",
        "        model.eval()\n",
        "        all_probs, all_labels = [], []\n",
        "        with torch.no_grad():\n",
        "            for xb, yb in val_loader:\n",
        "                logits = model(xb)\n",
        "                probs = torch.sigmoid(logits).view(-1)\n",
        "                all_probs.extend(probs.cpu().numpy())\n",
        "                all_labels.extend(yb.cpu().numpy())\n",
        "\n",
        "        RocCurveDisplay.from_predictions(all_labels, all_probs, name=f\"Fold {fold+1}\", ax=plt.gca())\n",
        "\n",
        "    plt.title(\"ROC Curve - Cross-Validation Folds\")\n",
        "    plt.legend()\n",
        "    plt.show()\n",
        "\n",
        "    # Save the CV scores\n",
        "    trial.set_user_attr(\"cv_scores\", val_scores)\n",
        "\n",
        "    mean_loss = np.mean(val_scores)\n",
        "    print(f\"Cross-Validation Losses: {val_scores}\")\n",
        "    return mean_loss\n"
      ],
      "metadata": {
        "id": "a2t7yQXXOQJm"
      },
      "execution_count": null,
      "outputs": []
    },
    {
      "cell_type": "code",
      "source": [
        "class EarlyStopping:\n",
        "    def __init__(self, patience=3, min_delta=0.0):\n",
        "        self.patience = patience\n",
        "        self.min_delta = min_delta\n",
        "        self.best_score = None\n",
        "        self.counter = 0\n",
        "        self.early_stop = False\n",
        "\n",
        "    def step(self, score):\n",
        "        if self.best_score is None or score > self.best_score + self.min_delta:\n",
        "            self.best_score = score\n",
        "            self.counter = 0\n",
        "        else:\n",
        "            self.counter += 1\n",
        "            if self.counter >= self.patience:\n",
        "                self.early_stop = True"
      ],
      "metadata": {
        "id": "vNtyb2dqIC5h"
      },
      "execution_count": 13,
      "outputs": []
    },
    {
      "cell_type": "code",
      "source": [
        "device = 'cuda' if torch.cuda.is_available() else 'cpu'\n",
        "\n",
        "# === Load Your Data ===\n",
        "# Load pre-split datasets\n",
        "train_csv_path = \"/content/drive/MyDrive/algpred2_fine-tuning_train.csv\"\n",
        "test_csv_path = \"/content/drive/MyDrive/algpred2_fine-tuning_test.csv\"\n",
        "df_train = pd.read_csv(train_csv_path)\n",
        "df_test = pd.read_csv(test_csv_path)\n",
        "\n",
        "# Extract sequences and labels\n",
        "train_sequences = df_train[\"sequence\"].tolist()\n",
        "train_labels = df_train[\"label\"].tolist()\n",
        "\n",
        "\n",
        "test_sequences = df_test[\"sequence\"].tolist()\n",
        "test_labels = df_test[\"label\"].tolist()\n",
        "\n",
        "\n",
        "\n",
        "train_sequences, val_sequences, train_labels, val_labels = train_test_split(\n",
        "    train_sequences, train_labels, test_size=0.2, random_state=SEED, stratify=train_labels\n",
        ")"
      ],
      "metadata": {
        "id": "GIsyi3xGwWst"
      },
      "execution_count": 9,
      "outputs": []
    },
    {
      "cell_type": "code",
      "source": [
        "# Start Optuna study\n",
        "criterion = nn.BCEWithLogitsLoss()\n",
        "sampler = TPESampler(seed=12)\n",
        "study = optuna.create_study(direction=\"minimize\", sampler=sampler, pruner=optuna.pruners.HyperbandPruner(min_resource=1, max_resource=10, reduction_factor=3))\n",
        "study.optimize(objective, n_trials=5)  # <-- adjust n_trials as you want"
      ],
      "metadata": {
        "id": "lvN-xEkbONMU",
        "colab": {
          "base_uri": "https://localhost:8080/",
          "height": 1000
        },
        "collapsed": true,
        "outputId": "c95819d4-a7d1-4536-85ab-cb31173075bb"
      },
      "execution_count": null,
      "outputs": [
        {
          "output_type": "stream",
          "name": "stderr",
          "text": [
            "[I 2025-05-14 21:53:11,246] A new study created in memory with name: no-name-d615ba6d-401a-4480-abec-e6d37f40baa2\n",
            "<ipython-input-19-abad7e40b256>:6: FutureWarning: suggest_loguniform has been deprecated in v3.0.0. This feature will be removed in v6.0.0. See https://github.com/optuna/optuna/releases/tag/v3.0.0. Use suggest_float(..., log=True) instead.\n",
            "  lr = trial.suggest_loguniform(\"lr\", 1e-6, 1e-5)\n",
            "<ipython-input-19-abad7e40b256>:34: FutureWarning: `torch.cuda.amp.GradScaler(args...)` is deprecated. Please use `torch.amp.GradScaler('cuda', args...)` instead.\n",
            "  scaler = GradScaler()\n",
            "Training: 100%|██████████| 2398/2398 [02:05<00:00, 19.11it/s, loss=0.0276, acc=0.9137]\n"
          ]
        },
        {
          "output_type": "stream",
          "name": "stdout",
          "text": [
            "loss        : 0.1547\n",
            "accuracy    : 0.9558\n",
            "auc         : 0.9879\n",
            "f1          : 0.9562\n",
            "precision   : 0.9469\n",
            "recall      : 0.9658\n",
            "mcc         : 0.9118\n",
            "Fold 1, Epoch 1: AUC = 0.9879\n"
          ]
        },
        {
          "output_type": "stream",
          "name": "stderr",
          "text": [
            "Training: 100%|██████████| 2398/2398 [02:05<00:00, 19.10it/s, loss=0.0201, acc=0.9661]\n"
          ]
        },
        {
          "output_type": "stream",
          "name": "stdout",
          "text": [
            "loss        : 0.1152\n",
            "accuracy    : 0.9616\n",
            "auc         : 0.9917\n",
            "f1          : 0.9614\n",
            "precision   : 0.9679\n",
            "recall      : 0.9550\n",
            "mcc         : 0.9234\n",
            "Fold 1, Epoch 2: AUC = 0.9917\n"
          ]
        },
        {
          "output_type": "stream",
          "name": "stderr",
          "text": [
            "Training: 100%|██████████| 2398/2398 [02:05<00:00, 19.08it/s, loss=0.0182, acc=0.9798]\n"
          ]
        },
        {
          "output_type": "stream",
          "name": "stdout",
          "text": [
            "loss        : 0.0986\n",
            "accuracy    : 0.9683\n",
            "auc         : 0.9945\n",
            "f1          : 0.9679\n",
            "precision   : 0.9811\n",
            "recall      : 0.9550\n",
            "mcc         : 0.9369\n",
            "Fold 1, Epoch 3: AUC = 0.9945\n"
          ]
        },
        {
          "output_type": "stream",
          "name": "stderr",
          "text": [
            "Training: 100%|██████████| 2398/2398 [02:06<00:00, 18.96it/s, loss=0.0056, acc=0.9878]\n"
          ]
        },
        {
          "output_type": "stream",
          "name": "stdout",
          "text": [
            "loss        : 0.0965\n",
            "accuracy    : 0.9708\n",
            "auc         : 0.9940\n",
            "f1          : 0.9709\n",
            "precision   : 0.9669\n",
            "recall      : 0.9750\n",
            "mcc         : 0.9417\n",
            "Fold 1, Epoch 4: AUC = 0.9940\n"
          ]
        },
        {
          "output_type": "stream",
          "name": "stderr",
          "text": [
            "Training: 100%|██████████| 2398/2398 [02:05<00:00, 19.04it/s, loss=0.0086, acc=0.9929]\n"
          ]
        },
        {
          "output_type": "stream",
          "name": "stdout",
          "text": [
            "loss        : 0.1179\n",
            "accuracy    : 0.9687\n",
            "auc         : 0.9938\n",
            "f1          : 0.9691\n",
            "precision   : 0.9577\n",
            "recall      : 0.9808\n",
            "mcc         : 0.9377\n",
            "Fold 1, Epoch 5: AUC = 0.9938\n"
          ]
        },
        {
          "output_type": "stream",
          "name": "stderr",
          "text": [
            "Training: 100%|██████████| 2398/2398 [02:05<00:00, 19.09it/s, loss=0.0062, acc=0.9955]\n"
          ]
        },
        {
          "output_type": "stream",
          "name": "stdout",
          "text": [
            "loss        : 0.1037\n",
            "accuracy    : 0.9729\n",
            "auc         : 0.9942\n",
            "f1          : 0.9732\n",
            "precision   : 0.9640\n",
            "recall      : 0.9825\n",
            "mcc         : 0.9460\n",
            "Fold 1, Epoch 6: AUC = 0.9942\n",
            "Early stopping at epoch 6 for fold 1\n"
          ]
        },
        {
          "output_type": "stream",
          "name": "stderr",
          "text": [
            "<ipython-input-19-abad7e40b256>:34: FutureWarning: `torch.cuda.amp.GradScaler(args...)` is deprecated. Please use `torch.amp.GradScaler('cuda', args...)` instead.\n",
            "  scaler = GradScaler()\n",
            "Training: 100%|██████████| 2398/2398 [02:06<00:00, 18.94it/s, loss=0.0601, acc=0.9198]\n",
            "/usr/local/lib/python3.11/dist-packages/optuna/trial/_trial.py:497: UserWarning: The reported value is ignored because this `step` 0 is already reported.\n",
            "  warnings.warn(\n"
          ]
        },
        {
          "output_type": "stream",
          "name": "stdout",
          "text": [
            "loss        : 0.1454\n",
            "accuracy    : 0.9583\n",
            "auc         : 0.9876\n",
            "f1          : 0.9572\n",
            "precision   : 0.9696\n",
            "recall      : 0.9451\n",
            "mcc         : 0.9168\n",
            "Fold 2, Epoch 1: AUC = 0.9876\n"
          ]
        },
        {
          "output_type": "stream",
          "name": "stderr",
          "text": [
            "Training: 100%|██████████| 2398/2398 [02:06<00:00, 19.00it/s, loss=0.0231, acc=0.9648]\n",
            "/usr/local/lib/python3.11/dist-packages/optuna/trial/_trial.py:497: UserWarning: The reported value is ignored because this `step` 1 is already reported.\n",
            "  warnings.warn(\n"
          ]
        },
        {
          "output_type": "stream",
          "name": "stdout",
          "text": [
            "loss        : 0.1235\n",
            "accuracy    : 0.9621\n",
            "auc         : 0.9905\n",
            "f1          : 0.9617\n",
            "precision   : 0.9573\n",
            "recall      : 0.9662\n",
            "mcc         : 0.9241\n",
            "Fold 2, Epoch 2: AUC = 0.9905\n"
          ]
        },
        {
          "output_type": "stream",
          "name": "stderr",
          "text": [
            "Training: 100%|██████████| 2398/2398 [02:06<00:00, 18.99it/s, loss=0.0137, acc=0.9770]\n",
            "/usr/local/lib/python3.11/dist-packages/optuna/trial/_trial.py:497: UserWarning: The reported value is ignored because this `step` 2 is already reported.\n",
            "  warnings.warn(\n"
          ]
        },
        {
          "output_type": "stream",
          "name": "stdout",
          "text": [
            "loss        : 0.1021\n",
            "accuracy    : 0.9666\n",
            "auc         : 0.9931\n",
            "f1          : 0.9665\n",
            "precision   : 0.9577\n",
            "recall      : 0.9755\n",
            "mcc         : 0.9334\n",
            "Fold 2, Epoch 3: AUC = 0.9931\n"
          ]
        },
        {
          "output_type": "stream",
          "name": "stderr",
          "text": [
            "Training: 100%|██████████| 2398/2398 [02:06<00:00, 18.98it/s, loss=0.0042, acc=0.9852]\n",
            "/usr/local/lib/python3.11/dist-packages/optuna/trial/_trial.py:497: UserWarning: The reported value is ignored because this `step` 3 is already reported.\n",
            "  warnings.warn(\n"
          ]
        },
        {
          "output_type": "stream",
          "name": "stdout",
          "text": [
            "loss        : 0.0904\n",
            "accuracy    : 0.9708\n",
            "auc         : 0.9945\n",
            "f1          : 0.9707\n",
            "precision   : 0.9603\n",
            "recall      : 0.9814\n",
            "mcc         : 0.9418\n",
            "Fold 2, Epoch 4: AUC = 0.9945\n"
          ]
        },
        {
          "output_type": "stream",
          "name": "stderr",
          "text": [
            "Training: 100%|██████████| 2398/2398 [02:06<00:00, 19.00it/s, loss=0.0017, acc=0.9919]\n",
            "/usr/local/lib/python3.11/dist-packages/optuna/trial/_trial.py:497: UserWarning: The reported value is ignored because this `step` 4 is already reported.\n",
            "  warnings.warn(\n"
          ]
        },
        {
          "output_type": "stream",
          "name": "stdout",
          "text": [
            "loss        : 0.1104\n",
            "accuracy    : 0.9712\n",
            "auc         : 0.9934\n",
            "f1          : 0.9712\n",
            "precision   : 0.9596\n",
            "recall      : 0.9831\n",
            "mcc         : 0.9427\n",
            "Fold 2, Epoch 5: AUC = 0.9934\n"
          ]
        },
        {
          "output_type": "stream",
          "name": "stderr",
          "text": [
            "Training: 100%|██████████| 2398/2398 [02:06<00:00, 18.91it/s, loss=0.0015, acc=0.9946]\n",
            "/usr/local/lib/python3.11/dist-packages/optuna/trial/_trial.py:497: UserWarning: The reported value is ignored because this `step` 5 is already reported.\n",
            "  warnings.warn(\n"
          ]
        },
        {
          "output_type": "stream",
          "name": "stdout",
          "text": [
            "loss        : 0.0957\n",
            "accuracy    : 0.9754\n",
            "auc         : 0.9941\n",
            "f1          : 0.9751\n",
            "precision   : 0.9739\n",
            "recall      : 0.9763\n",
            "mcc         : 0.9508\n",
            "Fold 2, Epoch 6: AUC = 0.9941\n"
          ]
        },
        {
          "output_type": "stream",
          "name": "stderr",
          "text": [
            "Training: 100%|██████████| 2398/2398 [02:06<00:00, 19.00it/s, loss=0.0008, acc=0.9982]\n"
          ]
        },
        {
          "output_type": "stream",
          "name": "stdout",
          "text": [
            "loss        : 0.1085\n",
            "accuracy    : 0.9779\n",
            "auc         : 0.9950\n",
            "f1          : 0.9778\n",
            "precision   : 0.9708\n",
            "recall      : 0.9848\n",
            "mcc         : 0.9559\n",
            "Fold 2, Epoch 7: AUC = 0.9950\n",
            "Early stopping at epoch 7 for fold 2\n"
          ]
        },
        {
          "output_type": "stream",
          "name": "stderr",
          "text": [
            "<ipython-input-19-abad7e40b256>:34: FutureWarning: `torch.cuda.amp.GradScaler(args...)` is deprecated. Please use `torch.amp.GradScaler('cuda', args...)` instead.\n",
            "  scaler = GradScaler()\n",
            "Training: 100%|██████████| 2398/2398 [02:07<00:00, 18.74it/s, loss=0.0402, acc=0.9236]\n",
            "/usr/local/lib/python3.11/dist-packages/optuna/trial/_trial.py:497: UserWarning: The reported value is ignored because this `step` 0 is already reported.\n",
            "  warnings.warn(\n"
          ]
        },
        {
          "output_type": "stream",
          "name": "stdout",
          "text": [
            "loss        : 0.1707\n",
            "accuracy    : 0.9454\n",
            "auc         : 0.9815\n",
            "f1          : 0.9454\n",
            "precision   : 0.9635\n",
            "recall      : 0.9280\n",
            "mcc         : 0.8914\n",
            "Fold 3, Epoch 1: AUC = 0.9815\n"
          ]
        },
        {
          "output_type": "stream",
          "name": "stderr",
          "text": [
            "Training: 100%|██████████| 2398/2398 [02:07<00:00, 18.76it/s, loss=0.0419, acc=0.9663]\n",
            "/usr/local/lib/python3.11/dist-packages/optuna/trial/_trial.py:497: UserWarning: The reported value is ignored because this `step` 1 is already reported.\n",
            "  warnings.warn(\n"
          ]
        },
        {
          "output_type": "stream",
          "name": "stdout",
          "text": [
            "loss        : 0.1327\n",
            "accuracy    : 0.9629\n",
            "auc         : 0.9891\n",
            "f1          : 0.9638\n",
            "precision   : 0.9587\n",
            "recall      : 0.9689\n",
            "mcc         : 0.9258\n",
            "Fold 3, Epoch 2: AUC = 0.9891\n"
          ]
        },
        {
          "output_type": "stream",
          "name": "stderr",
          "text": [
            "Training: 100%|██████████| 2398/2398 [02:07<00:00, 18.79it/s, loss=0.0097, acc=0.9782]\n",
            "/usr/local/lib/python3.11/dist-packages/optuna/trial/_trial.py:497: UserWarning: The reported value is ignored because this `step` 2 is already reported.\n",
            "  warnings.warn(\n"
          ]
        },
        {
          "output_type": "stream",
          "name": "stdout",
          "text": [
            "loss        : 0.1008\n",
            "accuracy    : 0.9696\n",
            "auc         : 0.9921\n",
            "f1          : 0.9702\n",
            "precision   : 0.9675\n",
            "recall      : 0.9730\n",
            "mcc         : 0.9391\n",
            "Fold 3, Epoch 3: AUC = 0.9921\n"
          ]
        },
        {
          "output_type": "stream",
          "name": "stderr",
          "text": [
            "Training: 100%|██████████| 2398/2398 [02:08<00:00, 18.69it/s, loss=0.0056, acc=0.9860]\n",
            "/usr/local/lib/python3.11/dist-packages/optuna/trial/_trial.py:497: UserWarning: The reported value is ignored because this `step` 3 is already reported.\n",
            "  warnings.warn(\n"
          ]
        },
        {
          "output_type": "stream",
          "name": "stdout",
          "text": [
            "loss        : 0.0907\n",
            "accuracy    : 0.9771\n",
            "auc         : 0.9921\n",
            "f1          : 0.9775\n",
            "precision   : 0.9763\n",
            "recall      : 0.9787\n",
            "mcc         : 0.9541\n",
            "Fold 3, Epoch 4: AUC = 0.9921\n"
          ]
        },
        {
          "output_type": "stream",
          "name": "stderr",
          "text": [
            "Training: 100%|██████████| 2398/2398 [02:07<00:00, 18.76it/s, loss=0.0043, acc=0.9918]\n",
            "/usr/local/lib/python3.11/dist-packages/optuna/trial/_trial.py:497: UserWarning: The reported value is ignored because this `step` 4 is already reported.\n",
            "  warnings.warn(\n"
          ]
        },
        {
          "output_type": "stream",
          "name": "stdout",
          "text": [
            "loss        : 0.0985\n",
            "accuracy    : 0.9791\n",
            "auc         : 0.9930\n",
            "f1          : 0.9797\n",
            "precision   : 0.9726\n",
            "recall      : 0.9869\n",
            "mcc         : 0.9584\n",
            "Fold 3, Epoch 5: AUC = 0.9930\n"
          ]
        },
        {
          "output_type": "stream",
          "name": "stderr",
          "text": [
            "Training: 100%|██████████| 2398/2398 [02:07<00:00, 18.74it/s, loss=0.0041, acc=0.9950]\n",
            "/usr/local/lib/python3.11/dist-packages/optuna/trial/_trial.py:497: UserWarning: The reported value is ignored because this `step` 5 is already reported.\n",
            "  warnings.warn(\n"
          ]
        },
        {
          "output_type": "stream",
          "name": "stdout",
          "text": [
            "loss        : 0.0961\n",
            "accuracy    : 0.9808\n",
            "auc         : 0.9932\n",
            "f1          : 0.9813\n",
            "precision   : 0.9765\n",
            "recall      : 0.9861\n",
            "mcc         : 0.9617\n",
            "Fold 3, Epoch 6: AUC = 0.9932\n"
          ]
        },
        {
          "output_type": "stream",
          "name": "stderr",
          "text": [
            "Training: 100%|██████████| 2398/2398 [02:07<00:00, 18.77it/s, loss=0.0006, acc=0.9958]\n",
            "/usr/local/lib/python3.11/dist-packages/optuna/trial/_trial.py:497: UserWarning: The reported value is ignored because this `step` 6 is already reported.\n",
            "  warnings.warn(\n"
          ]
        },
        {
          "output_type": "stream",
          "name": "stdout",
          "text": [
            "loss        : 0.1177\n",
            "accuracy    : 0.9741\n",
            "auc         : 0.9916\n",
            "f1          : 0.9746\n",
            "precision   : 0.9762\n",
            "recall      : 0.9730\n",
            "mcc         : 0.9483\n",
            "Fold 3, Epoch 7: AUC = 0.9916\n"
          ]
        },
        {
          "output_type": "stream",
          "name": "stderr",
          "text": [
            "Training: 100%|██████████| 2398/2398 [02:07<00:00, 18.87it/s, loss=0.0006, acc=0.9979]\n"
          ]
        },
        {
          "output_type": "stream",
          "name": "stdout",
          "text": [
            "loss        : 0.1376\n",
            "accuracy    : 0.9737\n",
            "auc         : 0.9903\n",
            "f1          : 0.9744\n",
            "precision   : 0.9670\n",
            "recall      : 0.9820\n",
            "mcc         : 0.9475\n",
            "Fold 3, Epoch 8: AUC = 0.9903\n"
          ]
        },
        {
          "output_type": "stream",
          "name": "stderr",
          "text": [
            "Training: 100%|██████████| 2398/2398 [02:07<00:00, 18.77it/s, loss=0.0004, acc=0.9973]\n"
          ]
        },
        {
          "output_type": "stream",
          "name": "stdout",
          "text": [
            "loss        : 0.1199\n",
            "accuracy    : 0.9766\n",
            "auc         : 0.9931\n",
            "f1          : 0.9773\n",
            "precision   : 0.9679\n",
            "recall      : 0.9869\n",
            "mcc         : 0.9534\n",
            "Fold 3, Epoch 9: AUC = 0.9931\n",
            "Early stopping at epoch 9 for fold 3\n"
          ]
        },
        {
          "output_type": "stream",
          "name": "stderr",
          "text": [
            "<ipython-input-19-abad7e40b256>:34: FutureWarning: `torch.cuda.amp.GradScaler(args...)` is deprecated. Please use `torch.amp.GradScaler('cuda', args...)` instead.\n",
            "  scaler = GradScaler()\n",
            "Training: 100%|██████████| 2398/2398 [02:07<00:00, 18.87it/s, loss=0.0486, acc=0.9245]\n",
            "/usr/local/lib/python3.11/dist-packages/optuna/trial/_trial.py:497: UserWarning: The reported value is ignored because this `step` 0 is already reported.\n",
            "  warnings.warn(\n"
          ]
        },
        {
          "output_type": "stream",
          "name": "stdout",
          "text": [
            "loss        : 0.1421\n",
            "accuracy    : 0.9599\n",
            "auc         : 0.9864\n",
            "f1          : 0.9598\n",
            "precision   : 0.9606\n",
            "recall      : 0.9590\n",
            "mcc         : 0.9199\n",
            "Fold 4, Epoch 1: AUC = 0.9864\n"
          ]
        },
        {
          "output_type": "stream",
          "name": "stderr",
          "text": [
            "Training: 100%|██████████| 2398/2398 [02:07<00:00, 18.86it/s, loss=0.0365, acc=0.9689]\n",
            "/usr/local/lib/python3.11/dist-packages/optuna/trial/_trial.py:497: UserWarning: The reported value is ignored because this `step` 1 is already reported.\n",
            "  warnings.warn(\n"
          ]
        },
        {
          "output_type": "stream",
          "name": "stdout",
          "text": [
            "loss        : 0.1067\n",
            "accuracy    : 0.9708\n",
            "auc         : 0.9929\n",
            "f1          : 0.9708\n",
            "precision   : 0.9699\n",
            "recall      : 0.9716\n",
            "mcc         : 0.9416\n",
            "Fold 4, Epoch 2: AUC = 0.9929\n"
          ]
        },
        {
          "output_type": "stream",
          "name": "stderr",
          "text": [
            "Training: 100%|██████████| 2398/2398 [02:06<00:00, 18.89it/s, loss=0.1419, acc=0.9788]\n",
            "/usr/local/lib/python3.11/dist-packages/optuna/trial/_trial.py:497: UserWarning: The reported value is ignored because this `step` 2 is already reported.\n",
            "  warnings.warn(\n"
          ]
        },
        {
          "output_type": "stream",
          "name": "stdout",
          "text": [
            "loss        : 0.1121\n",
            "accuracy    : 0.9633\n",
            "auc         : 0.9943\n",
            "f1          : 0.9638\n",
            "precision   : 0.9475\n",
            "recall      : 0.9808\n",
            "mcc         : 0.9271\n",
            "Fold 4, Epoch 3: AUC = 0.9943\n"
          ]
        },
        {
          "output_type": "stream",
          "name": "stderr",
          "text": [
            "Training: 100%|██████████| 2398/2398 [02:07<00:00, 18.88it/s, loss=0.0058, acc=0.9875]\n",
            "/usr/local/lib/python3.11/dist-packages/optuna/trial/_trial.py:497: UserWarning: The reported value is ignored because this `step` 3 is already reported.\n",
            "  warnings.warn(\n"
          ]
        },
        {
          "output_type": "stream",
          "name": "stdout",
          "text": [
            "loss        : 0.0783\n",
            "accuracy    : 0.9787\n",
            "auc         : 0.9948\n",
            "f1          : 0.9786\n",
            "precision   : 0.9831\n",
            "recall      : 0.9741\n",
            "mcc         : 0.9575\n",
            "Fold 4, Epoch 4: AUC = 0.9948\n"
          ]
        },
        {
          "output_type": "stream",
          "name": "stderr",
          "text": [
            "Training: 100%|██████████| 2398/2398 [02:06<00:00, 18.91it/s, loss=0.0194, acc=0.9944]\n",
            "/usr/local/lib/python3.11/dist-packages/optuna/trial/_trial.py:497: UserWarning: The reported value is ignored because this `step` 4 is already reported.\n",
            "  warnings.warn(\n"
          ]
        },
        {
          "output_type": "stream",
          "name": "stdout",
          "text": [
            "loss        : 0.0824\n",
            "accuracy    : 0.9804\n",
            "auc         : 0.9959\n",
            "f1          : 0.9804\n",
            "precision   : 0.9776\n",
            "recall      : 0.9833\n",
            "mcc         : 0.9608\n",
            "Fold 4, Epoch 5: AUC = 0.9959\n"
          ]
        },
        {
          "output_type": "stream",
          "name": "stderr",
          "text": [
            "Training: 100%|██████████| 2398/2398 [02:07<00:00, 18.87it/s, loss=0.0029, acc=0.9954]\n",
            "/usr/local/lib/python3.11/dist-packages/optuna/trial/_trial.py:497: UserWarning: The reported value is ignored because this `step` 5 is already reported.\n",
            "  warnings.warn(\n"
          ]
        },
        {
          "output_type": "stream",
          "name": "stdout",
          "text": [
            "loss        : 0.0822\n",
            "accuracy    : 0.9808\n",
            "auc         : 0.9953\n",
            "f1          : 0.9809\n",
            "precision   : 0.9760\n",
            "recall      : 0.9858\n",
            "mcc         : 0.9617\n",
            "Fold 4, Epoch 6: AUC = 0.9953\n"
          ]
        },
        {
          "output_type": "stream",
          "name": "stderr",
          "text": [
            "Training: 100%|██████████| 2398/2398 [02:07<00:00, 18.87it/s, loss=0.0042, acc=0.9970]\n",
            "/usr/local/lib/python3.11/dist-packages/optuna/trial/_trial.py:497: UserWarning: The reported value is ignored because this `step` 6 is already reported.\n",
            "  warnings.warn(\n"
          ]
        },
        {
          "output_type": "stream",
          "name": "stdout",
          "text": [
            "loss        : 0.1118\n",
            "accuracy    : 0.9741\n",
            "auc         : 0.9950\n",
            "f1          : 0.9745\n",
            "precision   : 0.9602\n",
            "recall      : 0.9891\n",
            "mcc         : 0.9487\n",
            "Fold 4, Epoch 7: AUC = 0.9950\n"
          ]
        },
        {
          "output_type": "stream",
          "name": "stderr",
          "text": [
            "Training: 100%|██████████| 2398/2398 [02:06<00:00, 18.92it/s, loss=0.0018, acc=0.9973]\n"
          ]
        },
        {
          "output_type": "stream",
          "name": "stdout",
          "text": [
            "loss        : 0.0951\n",
            "accuracy    : 0.9804\n",
            "auc         : 0.9945\n",
            "f1          : 0.9804\n",
            "precision   : 0.9760\n",
            "recall      : 0.9849\n",
            "mcc         : 0.9608\n",
            "Fold 4, Epoch 8: AUC = 0.9945\n",
            "Early stopping at epoch 8 for fold 4\n"
          ]
        },
        {
          "output_type": "stream",
          "name": "stderr",
          "text": [
            "/usr/local/lib/python3.11/dist-packages/optuna/trial/_trial.py:497: UserWarning: The reported value is ignored because this `step` 7 is already reported.\n",
            "  warnings.warn(\n",
            "<ipython-input-19-abad7e40b256>:34: FutureWarning: `torch.cuda.amp.GradScaler(args...)` is deprecated. Please use `torch.amp.GradScaler('cuda', args...)` instead.\n",
            "  scaler = GradScaler()\n",
            "Training: 100%|██████████| 2398/2398 [02:06<00:00, 18.97it/s, loss=0.0522, acc=0.9197]\n",
            "/usr/local/lib/python3.11/dist-packages/optuna/trial/_trial.py:497: UserWarning: The reported value is ignored because this `step` 0 is already reported.\n",
            "  warnings.warn(\n"
          ]
        },
        {
          "output_type": "stream",
          "name": "stdout",
          "text": [
            "loss        : 0.1465\n",
            "accuracy    : 0.9537\n",
            "auc         : 0.9879\n",
            "f1          : 0.9534\n",
            "precision   : 0.9554\n",
            "recall      : 0.9514\n",
            "mcc         : 0.9074\n",
            "Fold 5, Epoch 1: AUC = 0.9879\n"
          ]
        },
        {
          "output_type": "stream",
          "name": "stderr",
          "text": [
            "Training: 100%|██████████| 2398/2398 [02:06<00:00, 18.89it/s, loss=0.1403, acc=0.9668]\n",
            "/usr/local/lib/python3.11/dist-packages/optuna/trial/_trial.py:497: UserWarning: The reported value is ignored because this `step` 1 is already reported.\n",
            "  warnings.warn(\n"
          ]
        },
        {
          "output_type": "stream",
          "name": "stdout",
          "text": [
            "loss        : 0.1444\n",
            "accuracy    : 0.9537\n",
            "auc         : 0.9915\n",
            "f1          : 0.9546\n",
            "precision   : 0.9321\n",
            "recall      : 0.9782\n",
            "mcc         : 0.9085\n",
            "Fold 5, Epoch 2: AUC = 0.9915\n"
          ]
        },
        {
          "output_type": "stream",
          "name": "stderr",
          "text": [
            "Training: 100%|██████████| 2398/2398 [02:06<00:00, 18.91it/s, loss=0.0062, acc=0.9779]\n",
            "/usr/local/lib/python3.11/dist-packages/optuna/trial/_trial.py:497: UserWarning: The reported value is ignored because this `step` 2 is already reported.\n",
            "  warnings.warn(\n"
          ]
        },
        {
          "output_type": "stream",
          "name": "stdout",
          "text": [
            "loss        : 0.0996\n",
            "accuracy    : 0.9679\n",
            "auc         : 0.9927\n",
            "f1          : 0.9674\n",
            "precision   : 0.9786\n",
            "recall      : 0.9564\n",
            "mcc         : 0.9360\n",
            "Fold 5, Epoch 3: AUC = 0.9927\n"
          ]
        },
        {
          "output_type": "stream",
          "name": "stderr",
          "text": [
            "Training: 100%|██████████| 2398/2398 [02:06<00:00, 18.89it/s, loss=0.0074, acc=0.9877]\n",
            "/usr/local/lib/python3.11/dist-packages/optuna/trial/_trial.py:497: UserWarning: The reported value is ignored because this `step` 3 is already reported.\n",
            "  warnings.warn(\n"
          ]
        },
        {
          "output_type": "stream",
          "name": "stdout",
          "text": [
            "loss        : 0.1097\n",
            "accuracy    : 0.9658\n",
            "auc         : 0.9931\n",
            "f1          : 0.9661\n",
            "precision   : 0.9520\n",
            "recall      : 0.9807\n",
            "mcc         : 0.9320\n",
            "Fold 5, Epoch 4: AUC = 0.9931\n"
          ]
        },
        {
          "output_type": "stream",
          "name": "stderr",
          "text": [
            "Training: 100%|██████████| 2398/2398 [02:06<00:00, 18.99it/s, loss=0.0023, acc=0.9910]\n",
            "/usr/local/lib/python3.11/dist-packages/optuna/trial/_trial.py:497: UserWarning: The reported value is ignored because this `step` 4 is already reported.\n",
            "  warnings.warn(\n"
          ]
        },
        {
          "output_type": "stream",
          "name": "stdout",
          "text": [
            "loss        : 0.1090\n",
            "accuracy    : 0.9704\n",
            "auc         : 0.9932\n",
            "f1          : 0.9707\n",
            "precision   : 0.9554\n",
            "recall      : 0.9866\n",
            "mcc         : 0.9413\n",
            "Fold 5, Epoch 5: AUC = 0.9932\n"
          ]
        },
        {
          "output_type": "stream",
          "name": "stderr",
          "text": [
            "Training: 100%|██████████| 2398/2398 [02:06<00:00, 18.93it/s, loss=0.0005, acc=0.9964]\n"
          ]
        },
        {
          "output_type": "stream",
          "name": "stdout",
          "text": [
            "loss        : 0.1500\n",
            "accuracy    : 0.9650\n",
            "auc         : 0.9927\n",
            "f1          : 0.9656\n",
            "precision   : 0.9440\n",
            "recall      : 0.9883\n",
            "mcc         : 0.9309\n",
            "Fold 5, Epoch 6: AUC = 0.9927\n",
            "Early stopping at epoch 6 for fold 5\n"
          ]
        },
        {
          "output_type": "stream",
          "name": "stderr",
          "text": [
            "/usr/local/lib/python3.11/dist-packages/optuna/trial/_trial.py:497: UserWarning: The reported value is ignored because this `step` 5 is already reported.\n",
            "  warnings.warn(\n"
          ]
        },
        {
          "output_type": "display_data",
          "data": {
            "text/plain": [
              "<Figure size 1000x800 with 1 Axes>"
            ],
            "image/png": "[encoded data removed]"
          },
          "metadata": {}
        },
        {
          "output_type": "stream",
          "name": "stderr",
          "text": [
            "[I 2025-05-14 23:23:46,558] Trial 0 finished with value: 0.11541547279738493 and parameters: {'hidden_dim': 128, 'num_layers': 2, 'dropout': 0.10582998499416787, 'lr': 8.293674908605468e-06, 'batch_size': 4, 'max_epochs': 10}. Best is trial 0 with value: 0.11541547279738493.\n",
            "<ipython-input-19-abad7e40b256>:6: FutureWarning: suggest_loguniform has been deprecated in v3.0.0. This feature will be removed in v6.0.0. See https://github.com/optuna/optuna/releases/tag/v3.0.0. Use suggest_float(..., log=True) instead.\n",
            "  lr = trial.suggest_loguniform(\"lr\", 1e-6, 1e-5)\n",
            "<ipython-input-19-abad7e40b256>:34: FutureWarning: `torch.cuda.amp.GradScaler(args...)` is deprecated. Please use `torch.amp.GradScaler('cuda', args...)` instead.\n",
            "  scaler = GradScaler()\n"
          ]
        },
        {
          "output_type": "stream",
          "name": "stdout",
          "text": [
            "Cross-Validation Losses: [0.1036558879223109, 0.10848582465332583, 0.11990968063544036, 0.09506684942888873, 0.14995912134695877]\n"
          ]
        },
        {
          "output_type": "stream",
          "name": "stderr",
          "text": [
            "Training: 100%|██████████| 1199/1199 [02:03<00:00,  9.72it/s, loss=0.6977, acc=0.5262]\n",
            "/usr/local/lib/python3.11/dist-packages/sklearn/metrics/_classification.py:1565: UndefinedMetricWarning: Precision is ill-defined and being set to 0.0 due to no predicted samples. Use `zero_division` parameter to control this behavior.\n",
            "  _warn_prf(average, modifier, f\"{metric.capitalize()} is\", len(result))\n"
          ]
        },
        {
          "output_type": "stream",
          "name": "stdout",
          "text": [
            "loss        : 0.6882\n",
            "accuracy    : 0.5000\n",
            "auc         : 0.9123\n",
            "f1          : 0.0000\n",
            "precision   : 0.0000\n",
            "recall      : 0.0000\n",
            "mcc         : 0.0000\n",
            "Fold 1, Epoch 1: AUC = 0.9123\n"
          ]
        },
        {
          "output_type": "stream",
          "name": "stderr",
          "text": [
            "Training: 100%|██████████| 1199/1199 [02:03<00:00,  9.75it/s, loss=0.6960, acc=0.6654]\n"
          ]
        },
        {
          "output_type": "stream",
          "name": "stdout",
          "text": [
            "loss        : 0.6658\n",
            "accuracy    : 0.8824\n",
            "auc         : 0.9309\n",
            "f1          : 0.8797\n",
            "precision   : 0.9004\n",
            "recall      : 0.8599\n",
            "mcc         : 0.7656\n",
            "Fold 1, Epoch 2: AUC = 0.9309\n"
          ]
        },
        {
          "output_type": "stream",
          "name": "stderr",
          "text": [
            "Training: 100%|██████████| 1199/1199 [02:02<00:00,  9.77it/s, loss=0.6186, acc=0.8670]\n"
          ]
        },
        {
          "output_type": "stream",
          "name": "stdout",
          "text": [
            "loss        : 0.6080\n",
            "accuracy    : 0.9116\n",
            "auc         : 0.9686\n",
            "f1          : 0.9140\n",
            "precision   : 0.8895\n",
            "recall      : 0.9399\n",
            "mcc         : 0.8245\n",
            "Fold 1, Epoch 3: AUC = 0.9686\n"
          ]
        },
        {
          "output_type": "stream",
          "name": "stderr",
          "text": [
            "Training: 100%|██████████| 1199/1199 [02:03<00:00,  9.71it/s, loss=0.5532, acc=0.9194]\n"
          ]
        },
        {
          "output_type": "stream",
          "name": "stdout",
          "text": [
            "loss        : 0.5326\n",
            "accuracy    : 0.9312\n",
            "auc         : 0.9758\n",
            "f1          : 0.9321\n",
            "precision   : 0.9196\n",
            "recall      : 0.9450\n",
            "mcc         : 0.8627\n",
            "Fold 1, Epoch 4: AUC = 0.9758\n"
          ]
        },
        {
          "output_type": "stream",
          "name": "stderr",
          "text": [
            "Training: 100%|██████████| 1199/1199 [02:03<00:00,  9.74it/s, loss=0.4813, acc=0.9373]\n"
          ]
        },
        {
          "output_type": "stream",
          "name": "stdout",
          "text": [
            "loss        : 0.4457\n",
            "accuracy    : 0.9416\n",
            "auc         : 0.9782\n",
            "f1          : 0.9423\n",
            "precision   : 0.9308\n",
            "recall      : 0.9541\n",
            "mcc         : 0.8835\n",
            "Fold 1, Epoch 5: AUC = 0.9782\n"
          ]
        },
        {
          "output_type": "stream",
          "name": "stderr",
          "text": [
            "Training: 100%|██████████| 1199/1199 [02:03<00:00,  9.73it/s, loss=0.3619, acc=0.9501]\n"
          ]
        },
        {
          "output_type": "stream",
          "name": "stdout",
          "text": [
            "loss        : 0.3614\n",
            "accuracy    : 0.9520\n",
            "auc         : 0.9767\n",
            "f1          : 0.9517\n",
            "precision   : 0.9585\n",
            "recall      : 0.9450\n",
            "mcc         : 0.9042\n",
            "Fold 1, Epoch 6: AUC = 0.9767\n"
          ]
        },
        {
          "output_type": "stream",
          "name": "stderr",
          "text": [
            "<ipython-input-19-abad7e40b256>:34: FutureWarning: `torch.cuda.amp.GradScaler(args...)` is deprecated. Please use `torch.amp.GradScaler('cuda', args...)` instead.\n",
            "  scaler = GradScaler()\n",
            "Training: 100%|██████████| 1199/1199 [02:03<00:00,  9.67it/s, loss=0.6889, acc=0.5163]\n",
            "/usr/local/lib/python3.11/dist-packages/optuna/trial/_trial.py:497: UserWarning: The reported value is ignored because this `step` 0 is already reported.\n",
            "  warnings.warn(\n"
          ]
        },
        {
          "output_type": "stream",
          "name": "stdout",
          "text": [
            "loss        : 0.6889\n",
            "accuracy    : 0.6501\n",
            "auc         : 0.8615\n",
            "f1          : 0.4912\n",
            "precision   : 0.8691\n",
            "recall      : 0.3423\n",
            "mcc         : 0.3691\n",
            "Fold 2, Epoch 1: AUC = 0.8615\n"
          ]
        },
        {
          "output_type": "stream",
          "name": "stderr",
          "text": [
            "Training: 100%|██████████| 1199/1199 [02:03<00:00,  9.71it/s, loss=0.6875, acc=0.6454]\n",
            "/usr/local/lib/python3.11/dist-packages/optuna/trial/_trial.py:497: UserWarning: The reported value is ignored because this `step` 1 is already reported.\n",
            "  warnings.warn(\n"
          ]
        },
        {
          "output_type": "stream",
          "name": "stdout",
          "text": [
            "loss        : 0.6728\n",
            "accuracy    : 0.8636\n",
            "auc         : 0.9101\n",
            "f1          : 0.8592\n",
            "precision   : 0.8754\n",
            "recall      : 0.8436\n",
            "mcc         : 0.7276\n",
            "Fold 2, Epoch 2: AUC = 0.9101\n"
          ]
        },
        {
          "output_type": "stream",
          "name": "stderr",
          "text": [
            "Training: 100%|██████████| 1199/1199 [02:04<00:00,  9.61it/s, loss=0.6369, acc=0.8319]\n",
            "/usr/local/lib/python3.11/dist-packages/optuna/trial/_trial.py:497: UserWarning: The reported value is ignored because this `step` 2 is already reported.\n",
            "  warnings.warn(\n"
          ]
        },
        {
          "output_type": "stream",
          "name": "stdout",
          "text": [
            "loss        : 0.6306\n",
            "accuracy    : 0.9087\n",
            "auc         : 0.9457\n",
            "f1          : 0.9096\n",
            "precision   : 0.8887\n",
            "recall      : 0.9315\n",
            "mcc         : 0.8184\n",
            "Fold 2, Epoch 3: AUC = 0.9457\n"
          ]
        },
        {
          "output_type": "stream",
          "name": "stderr",
          "text": [
            "Training: 100%|██████████| 1199/1199 [02:03<00:00,  9.69it/s, loss=0.5504, acc=0.9114]\n",
            "/usr/local/lib/python3.11/dist-packages/optuna/trial/_trial.py:497: UserWarning: The reported value is ignored because this `step` 3 is already reported.\n",
            "  warnings.warn(\n"
          ]
        },
        {
          "output_type": "stream",
          "name": "stdout",
          "text": [
            "loss        : 0.5616\n",
            "accuracy    : 0.9212\n",
            "auc         : 0.9629\n",
            "f1          : 0.9213\n",
            "precision   : 0.9080\n",
            "recall      : 0.9349\n",
            "mcc         : 0.8428\n",
            "Fold 2, Epoch 4: AUC = 0.9629\n"
          ]
        },
        {
          "output_type": "stream",
          "name": "stderr",
          "text": [
            "Training: 100%|██████████| 1199/1199 [02:03<00:00,  9.72it/s, loss=0.6968, acc=0.9308]\n",
            "/usr/local/lib/python3.11/dist-packages/optuna/trial/_trial.py:497: UserWarning: The reported value is ignored because this `step` 4 is already reported.\n",
            "  warnings.warn(\n"
          ]
        },
        {
          "output_type": "stream",
          "name": "stdout",
          "text": [
            "loss        : 0.4717\n",
            "accuracy    : 0.9379\n",
            "auc         : 0.9698\n",
            "f1          : 0.9378\n",
            "precision   : 0.9259\n",
            "recall      : 0.9501\n",
            "mcc         : 0.8760\n",
            "Fold 2, Epoch 5: AUC = 0.9698\n"
          ]
        },
        {
          "output_type": "stream",
          "name": "stderr",
          "text": [
            "Training: 100%|██████████| 1199/1199 [02:04<00:00,  9.66it/s, loss=0.3554, acc=0.9426]\n"
          ]
        },
        {
          "output_type": "stream",
          "name": "stdout",
          "text": [
            "loss        : 0.3798\n",
            "accuracy    : 0.9454\n",
            "auc         : 0.9747\n",
            "f1          : 0.9448\n",
            "precision   : 0.9413\n",
            "recall      : 0.9484\n",
            "mcc         : 0.8908\n",
            "Fold 2, Epoch 6: AUC = 0.9747\n"
          ]
        },
        {
          "output_type": "stream",
          "name": "stderr",
          "text": [
            "/usr/local/lib/python3.11/dist-packages/optuna/trial/_trial.py:497: UserWarning: The reported value is ignored because this `step` 5 is already reported.\n",
            "  warnings.warn(\n",
            "<ipython-input-19-abad7e40b256>:34: FutureWarning: `torch.cuda.amp.GradScaler(args...)` is deprecated. Please use `torch.amp.GradScaler('cuda', args...)` instead.\n",
            "  scaler = GradScaler()\n",
            "Training: 100%|██████████| 1199/1199 [02:06<00:00,  9.48it/s, loss=0.6898, acc=0.5315]\n",
            "/usr/local/lib/python3.11/dist-packages/optuna/trial/_trial.py:497: UserWarning: The reported value is ignored because this `step` 0 is already reported.\n",
            "  warnings.warn(\n"
          ]
        },
        {
          "output_type": "stream",
          "name": "stdout",
          "text": [
            "loss        : 0.6815\n",
            "accuracy    : 0.7335\n",
            "auc         : 0.8973\n",
            "f1          : 0.7899\n",
            "precision   : 0.6606\n",
            "recall      : 0.9820\n",
            "mcc         : 0.5334\n",
            "Fold 3, Epoch 1: AUC = 0.8973\n"
          ]
        },
        {
          "output_type": "stream",
          "name": "stderr",
          "text": [
            "Training: 100%|██████████| 1199/1199 [02:05<00:00,  9.58it/s, loss=0.6381, acc=0.7096]\n",
            "/usr/local/lib/python3.11/dist-packages/optuna/trial/_trial.py:497: UserWarning: The reported value is ignored because this `step` 1 is already reported.\n",
            "  warnings.warn(\n"
          ]
        },
        {
          "output_type": "stream",
          "name": "stdout",
          "text": [
            "loss        : 0.6453\n",
            "accuracy    : 0.8907\n",
            "auc         : 0.9396\n",
            "f1          : 0.8992\n",
            "precision   : 0.8489\n",
            "recall      : 0.9558\n",
            "mcc         : 0.7874\n",
            "Fold 3, Epoch 2: AUC = 0.9396\n"
          ]
        },
        {
          "output_type": "stream",
          "name": "stderr",
          "text": [
            "Training: 100%|██████████| 1199/1199 [02:06<00:00,  9.50it/s, loss=0.5858, acc=0.8765]\n",
            "/usr/local/lib/python3.11/dist-packages/optuna/trial/_trial.py:497: UserWarning: The reported value is ignored because this `step` 2 is already reported.\n",
            "  warnings.warn(\n"
          ]
        },
        {
          "output_type": "stream",
          "name": "stdout",
          "text": [
            "loss        : 0.5828\n",
            "accuracy    : 0.9195\n",
            "auc         : 0.9646\n",
            "f1          : 0.9235\n",
            "precision   : 0.8962\n",
            "recall      : 0.9526\n",
            "mcc         : 0.8405\n",
            "Fold 3, Epoch 3: AUC = 0.9646\n"
          ]
        },
        {
          "output_type": "stream",
          "name": "stderr",
          "text": [
            "Training: 100%|██████████| 1199/1199 [02:05<00:00,  9.55it/s, loss=0.5202, acc=0.9251]\n",
            "/usr/local/lib/python3.11/dist-packages/optuna/trial/_trial.py:497: UserWarning: The reported value is ignored because this `step` 3 is already reported.\n",
            "  warnings.warn(\n"
          ]
        },
        {
          "output_type": "stream",
          "name": "stdout",
          "text": [
            "loss        : 0.4992\n",
            "accuracy    : 0.9316\n",
            "auc         : 0.9711\n",
            "f1          : 0.9338\n",
            "precision   : 0.9219\n",
            "recall      : 0.9460\n",
            "mcc         : 0.8634\n",
            "Fold 3, Epoch 4: AUC = 0.9711\n"
          ]
        },
        {
          "output_type": "stream",
          "name": "stderr",
          "text": [
            "Training: 100%|██████████| 1199/1199 [02:05<00:00,  9.55it/s, loss=0.4919, acc=0.9434]\n",
            "/usr/local/lib/python3.11/dist-packages/optuna/trial/_trial.py:497: UserWarning: The reported value is ignored because this `step` 4 is already reported.\n",
            "  warnings.warn(\n"
          ]
        },
        {
          "output_type": "stream",
          "name": "stdout",
          "text": [
            "loss        : 0.4070\n",
            "accuracy    : 0.9383\n",
            "auc         : 0.9748\n",
            "f1          : 0.9396\n",
            "precision   : 0.9381\n",
            "recall      : 0.9411\n",
            "mcc         : 0.8765\n",
            "Fold 3, Epoch 5: AUC = 0.9748\n"
          ]
        },
        {
          "output_type": "stream",
          "name": "stderr",
          "text": [
            "Training: 100%|██████████| 1199/1199 [02:04<00:00,  9.62it/s, loss=0.3271, acc=0.9498]\n"
          ]
        },
        {
          "output_type": "stream",
          "name": "stdout",
          "text": [
            "loss        : 0.3230\n",
            "accuracy    : 0.9475\n",
            "auc         : 0.9768\n",
            "f1          : 0.9482\n",
            "precision   : 0.9537\n",
            "recall      : 0.9428\n",
            "mcc         : 0.8950\n",
            "Fold 3, Epoch 6: AUC = 0.9768\n"
          ]
        },
        {
          "output_type": "stream",
          "name": "stderr",
          "text": [
            "/usr/local/lib/python3.11/dist-packages/optuna/trial/_trial.py:497: UserWarning: The reported value is ignored because this `step` 5 is already reported.\n",
            "  warnings.warn(\n",
            "<ipython-input-19-abad7e40b256>:34: FutureWarning: `torch.cuda.amp.GradScaler(args...)` is deprecated. Please use `torch.amp.GradScaler('cuda', args...)` instead.\n",
            "  scaler = GradScaler()\n",
            "Training: 100%|██████████| 1199/1199 [02:04<00:00,  9.67it/s, loss=0.6879, acc=0.5051]\n",
            "/usr/local/lib/python3.11/dist-packages/sklearn/metrics/_classification.py:1565: UndefinedMetricWarning: Precision is ill-defined and being set to 0.0 due to no predicted samples. Use `zero_division` parameter to control this behavior.\n",
            "  _warn_prf(average, modifier, f\"{metric.capitalize()} is\", len(result))\n",
            "/usr/local/lib/python3.11/dist-packages/optuna/trial/_trial.py:497: UserWarning: The reported value is ignored because this `step` 0 is already reported.\n",
            "  warnings.warn(\n"
          ]
        },
        {
          "output_type": "stream",
          "name": "stdout",
          "text": [
            "loss        : 0.6836\n",
            "accuracy    : 0.5010\n",
            "auc         : 0.9418\n",
            "f1          : 0.0000\n",
            "precision   : 0.0000\n",
            "recall      : 0.0000\n",
            "mcc         : 0.0000\n",
            "Fold 4, Epoch 1: AUC = 0.9418\n"
          ]
        },
        {
          "output_type": "stream",
          "name": "stderr",
          "text": [
            "Training: 100%|██████████| 1199/1199 [02:05<00:00,  9.55it/s, loss=0.5891, acc=0.6026]\n",
            "/usr/local/lib/python3.11/dist-packages/optuna/trial/_trial.py:497: UserWarning: The reported value is ignored because this `step` 1 is already reported.\n",
            "  warnings.warn(\n"
          ]
        },
        {
          "output_type": "stream",
          "name": "stdout",
          "text": [
            "loss        : 0.6323\n",
            "accuracy    : 0.9057\n",
            "auc         : 0.9681\n",
            "f1          : 0.9003\n",
            "precision   : 0.9533\n",
            "recall      : 0.8528\n",
            "mcc         : 0.8159\n",
            "Fold 4, Epoch 2: AUC = 0.9681\n"
          ]
        },
        {
          "output_type": "stream",
          "name": "stderr",
          "text": [
            "Training: 100%|██████████| 1199/1199 [02:04<00:00,  9.64it/s, loss=0.5068, acc=0.8341]\n",
            "/usr/local/lib/python3.11/dist-packages/optuna/trial/_trial.py:497: UserWarning: The reported value is ignored because this `step` 2 is already reported.\n",
            "  warnings.warn(\n"
          ]
        },
        {
          "output_type": "stream",
          "name": "stdout",
          "text": [
            "loss        : 0.5495\n",
            "accuracy    : 0.9378\n",
            "auc         : 0.9738\n",
            "f1          : 0.9366\n",
            "precision   : 0.9540\n",
            "recall      : 0.9197\n",
            "mcc         : 0.8762\n",
            "Fold 4, Epoch 3: AUC = 0.9738\n"
          ]
        },
        {
          "output_type": "stream",
          "name": "stderr",
          "text": [
            "Training: 100%|██████████| 1199/1199 [02:04<00:00,  9.66it/s, loss=0.4037, acc=0.9322]\n",
            "/usr/local/lib/python3.11/dist-packages/optuna/trial/_trial.py:497: UserWarning: The reported value is ignored because this `step` 3 is already reported.\n",
            "  warnings.warn(\n"
          ]
        },
        {
          "output_type": "stream",
          "name": "stdout",
          "text": [
            "loss        : 0.4579\n",
            "accuracy    : 0.9416\n",
            "auc         : 0.9750\n",
            "f1          : 0.9415\n",
            "precision   : 0.9415\n",
            "recall      : 0.9415\n",
            "mcc         : 0.8832\n",
            "Fold 4, Epoch 4: AUC = 0.9750\n"
          ]
        },
        {
          "output_type": "stream",
          "name": "stderr",
          "text": [
            "Training: 100%|██████████| 1199/1199 [02:04<00:00,  9.60it/s, loss=0.4520, acc=0.9501]\n",
            "/usr/local/lib/python3.11/dist-packages/optuna/trial/_trial.py:497: UserWarning: The reported value is ignored because this `step` 4 is already reported.\n",
            "  warnings.warn(\n"
          ]
        },
        {
          "output_type": "stream",
          "name": "stdout",
          "text": [
            "loss        : 0.3674\n",
            "accuracy    : 0.9516\n",
            "auc         : 0.9773\n",
            "f1          : 0.9511\n",
            "precision   : 0.9584\n",
            "recall      : 0.9440\n",
            "mcc         : 0.9033\n",
            "Fold 4, Epoch 5: AUC = 0.9773\n"
          ]
        },
        {
          "output_type": "stream",
          "name": "stderr",
          "text": [
            "Training: 100%|██████████| 1199/1199 [02:04<00:00,  9.65it/s, loss=0.2874, acc=0.9576]\n"
          ]
        },
        {
          "output_type": "stream",
          "name": "stdout",
          "text": [
            "loss        : 0.2943\n",
            "accuracy    : 0.9524\n",
            "auc         : 0.9788\n",
            "f1          : 0.9523\n",
            "precision   : 0.9531\n",
            "recall      : 0.9515\n",
            "mcc         : 0.9049\n",
            "Fold 4, Epoch 6: AUC = 0.9788\n"
          ]
        },
        {
          "output_type": "stream",
          "name": "stderr",
          "text": [
            "/usr/local/lib/python3.11/dist-packages/optuna/trial/_trial.py:497: UserWarning: The reported value is ignored because this `step` 5 is already reported.\n",
            "  warnings.warn(\n",
            "<ipython-input-19-abad7e40b256>:34: FutureWarning: `torch.cuda.amp.GradScaler(args...)` is deprecated. Please use `torch.amp.GradScaler('cuda', args...)` instead.\n",
            "  scaler = GradScaler()\n",
            "Training: 100%|██████████| 1199/1199 [02:03<00:00,  9.72it/s, loss=0.6931, acc=0.5187]\n",
            "/usr/local/lib/python3.11/dist-packages/optuna/trial/_trial.py:497: UserWarning: The reported value is ignored because this `step` 0 is already reported.\n",
            "  warnings.warn(\n"
          ]
        },
        {
          "output_type": "stream",
          "name": "stdout",
          "text": [
            "loss        : 0.6797\n",
            "accuracy    : 0.6249\n",
            "auc         : 0.9435\n",
            "f1          : 0.4066\n",
            "precision   : 0.9565\n",
            "recall      : 0.2582\n",
            "mcc         : 0.3615\n",
            "Fold 5, Epoch 1: AUC = 0.9435\n"
          ]
        },
        {
          "output_type": "stream",
          "name": "stderr",
          "text": [
            "Training: 100%|██████████| 1199/1199 [02:03<00:00,  9.68it/s, loss=0.6139, acc=0.7258]\n",
            "/usr/local/lib/python3.11/dist-packages/optuna/trial/_trial.py:497: UserWarning: The reported value is ignored because this `step` 1 is already reported.\n",
            "  warnings.warn(\n"
          ]
        },
        {
          "output_type": "stream",
          "name": "stdout",
          "text": [
            "loss        : 0.6194\n",
            "accuracy    : 0.9241\n",
            "auc         : 0.9700\n",
            "f1          : 0.9232\n",
            "precision   : 0.9295\n",
            "recall      : 0.9170\n",
            "mcc         : 0.8482\n",
            "Fold 5, Epoch 2: AUC = 0.9700\n"
          ]
        },
        {
          "output_type": "stream",
          "name": "stderr",
          "text": [
            "Training: 100%|██████████| 1199/1199 [02:03<00:00,  9.68it/s, loss=0.4625, acc=0.8982]\n",
            "/usr/local/lib/python3.11/dist-packages/optuna/trial/_trial.py:497: UserWarning: The reported value is ignored because this `step` 2 is already reported.\n",
            "  warnings.warn(\n"
          ]
        },
        {
          "output_type": "stream",
          "name": "stdout",
          "text": [
            "loss        : 0.5333\n",
            "accuracy    : 0.9353\n",
            "auc         : 0.9728\n",
            "f1          : 0.9341\n",
            "precision   : 0.9474\n",
            "recall      : 0.9212\n",
            "mcc         : 0.8710\n",
            "Fold 5, Epoch 3: AUC = 0.9728\n"
          ]
        },
        {
          "output_type": "stream",
          "name": "stderr",
          "text": [
            "Training: 100%|██████████| 1199/1199 [02:03<00:00,  9.70it/s, loss=0.3771, acc=0.9387]\n",
            "/usr/local/lib/python3.11/dist-packages/optuna/trial/_trial.py:497: UserWarning: The reported value is ignored because this `step` 3 is already reported.\n",
            "  warnings.warn(\n"
          ]
        },
        {
          "output_type": "stream",
          "name": "stdout",
          "text": [
            "loss        : 0.4426\n",
            "accuracy    : 0.9441\n",
            "auc         : 0.9752\n",
            "f1          : 0.9442\n",
            "precision   : 0.9380\n",
            "recall      : 0.9505\n",
            "mcc         : 0.8883\n",
            "Fold 5, Epoch 4: AUC = 0.9752\n"
          ]
        },
        {
          "output_type": "stream",
          "name": "stderr",
          "text": [
            "Training: 100%|██████████| 1199/1199 [02:04<00:00,  9.63it/s, loss=0.3728, acc=0.9504]\n",
            "/usr/local/lib/python3.11/dist-packages/optuna/trial/_trial.py:497: UserWarning: The reported value is ignored because this `step` 4 is already reported.\n",
            "  warnings.warn(\n"
          ]
        },
        {
          "output_type": "stream",
          "name": "stdout",
          "text": [
            "loss        : 0.3553\n",
            "accuracy    : 0.9508\n",
            "auc         : 0.9778\n",
            "f1          : 0.9504\n",
            "precision   : 0.9536\n",
            "recall      : 0.9472\n",
            "mcc         : 0.9016\n",
            "Fold 5, Epoch 5: AUC = 0.9778\n"
          ]
        },
        {
          "output_type": "stream",
          "name": "stderr",
          "text": [
            "Training: 100%|██████████| 1199/1199 [02:04<00:00,  9.63it/s, loss=0.2462, acc=0.9537]\n"
          ]
        },
        {
          "output_type": "stream",
          "name": "stdout",
          "text": [
            "loss        : 0.2843\n",
            "accuracy    : 0.9483\n",
            "auc         : 0.9789\n",
            "f1          : 0.9481\n",
            "precision   : 0.9473\n",
            "recall      : 0.9489\n",
            "mcc         : 0.8965\n",
            "Fold 5, Epoch 6: AUC = 0.9789\n"
          ]
        },
        {
          "output_type": "stream",
          "name": "stderr",
          "text": [
            "/usr/local/lib/python3.11/dist-packages/optuna/trial/_trial.py:497: UserWarning: The reported value is ignored because this `step` 5 is already reported.\n",
            "  warnings.warn(\n"
          ]
        },
        {
          "output_type": "display_data",
          "data": {
            "text/plain": [
              "<Figure size 1000x800 with 1 Axes>"
            ],
            "image/png": "[encoded data removed]"
          },
          "metadata": {}
        },
        {
          "output_type": "stream",
          "name": "stderr",
          "text": [
            "[I 2025-05-15 00:40:33,794] Trial 1 finished with value: 0.3285929692884286 and parameters: {'hidden_dim': 256, 'num_layers': 3, 'dropout': 0.44109421644371405, 'lr': 1.0052156317193808e-06, 'batch_size': 8, 'max_epochs': 6}. Best is trial 0 with value: 0.11541547279738493.\n",
            "<ipython-input-19-abad7e40b256>:6: FutureWarning: suggest_loguniform has been deprecated in v3.0.0. This feature will be removed in v6.0.0. See https://github.com/optuna/optuna/releases/tag/v3.0.0. Use suggest_float(..., log=True) instead.\n",
            "  lr = trial.suggest_loguniform(\"lr\", 1e-6, 1e-5)\n",
            "<ipython-input-19-abad7e40b256>:34: FutureWarning: `torch.cuda.amp.GradScaler(args...)` is deprecated. Please use `torch.amp.GradScaler('cuda', args...)` instead.\n",
            "  scaler = GradScaler()\n"
          ]
        },
        {
          "output_type": "stream",
          "name": "stdout",
          "text": [
            "Cross-Validation Losses: [0.3614491021136443, 0.37984964112440744, 0.3230125978589058, 0.29430453663071, 0.2843489687144756]\n"
          ]
        },
        {
          "output_type": "stream",
          "name": "stderr",
          "text": [
            "Training: 100%|██████████| 1199/1199 [02:03<00:00,  9.73it/s, loss=0.4550, acc=0.7951]\n"
          ]
        },
        {
          "output_type": "stream",
          "name": "stdout",
          "text": [
            "loss        : 0.4625\n",
            "accuracy    : 0.9066\n",
            "auc         : 0.9526\n",
            "f1          : 0.9075\n",
            "precision   : 0.8986\n",
            "recall      : 0.9166\n",
            "mcc         : 0.8133\n",
            "Fold 1, Epoch 1: AUC = 0.9526\n"
          ]
        },
        {
          "output_type": "stream",
          "name": "stderr",
          "text": [
            "Training: 100%|██████████| 1199/1199 [02:02<00:00,  9.75it/s, loss=0.3848, acc=0.9248]\n"
          ]
        },
        {
          "output_type": "stream",
          "name": "stdout",
          "text": [
            "loss        : 0.3089\n",
            "accuracy    : 0.9362\n",
            "auc         : 0.9750\n",
            "f1          : 0.9368\n",
            "precision   : 0.9287\n",
            "recall      : 0.9450\n",
            "mcc         : 0.8725\n",
            "Fold 1, Epoch 2: AUC = 0.9750\n"
          ]
        },
        {
          "output_type": "stream",
          "name": "stderr",
          "text": [
            "Training: 100%|██████████| 1199/1199 [02:02<00:00,  9.75it/s, loss=0.1535, acc=0.9438]\n"
          ]
        },
        {
          "output_type": "stream",
          "name": "stdout",
          "text": [
            "loss        : 0.2451\n",
            "accuracy    : 0.9433\n",
            "auc         : 0.9812\n",
            "f1          : 0.9439\n",
            "precision   : 0.9332\n",
            "recall      : 0.9550\n",
            "mcc         : 0.8868\n",
            "Fold 1, Epoch 3: AUC = 0.9812\n"
          ]
        },
        {
          "output_type": "stream",
          "name": "stderr",
          "text": [
            "Training: 100%|██████████| 1199/1199 [02:03<00:00,  9.68it/s, loss=0.4146, acc=0.9537]\n"
          ]
        },
        {
          "output_type": "stream",
          "name": "stdout",
          "text": [
            "loss        : 0.2116\n",
            "accuracy    : 0.9491\n",
            "auc         : 0.9840\n",
            "f1          : 0.9494\n",
            "precision   : 0.9447\n",
            "recall      : 0.9541\n",
            "mcc         : 0.8983\n",
            "Fold 1, Epoch 4: AUC = 0.9840\n"
          ]
        },
        {
          "output_type": "stream",
          "name": "stderr",
          "text": [
            "Training: 100%|██████████| 1199/1199 [02:02<00:00,  9.80it/s, loss=0.1335, acc=0.9594]\n"
          ]
        },
        {
          "output_type": "stream",
          "name": "stdout",
          "text": [
            "loss        : 0.1894\n",
            "accuracy    : 0.9500\n",
            "auc         : 0.9857\n",
            "f1          : 0.9503\n",
            "precision   : 0.9440\n",
            "recall      : 0.9566\n",
            "mcc         : 0.9000\n",
            "Fold 1, Epoch 5: AUC = 0.9857\n"
          ]
        },
        {
          "output_type": "stream",
          "name": "stderr",
          "text": [
            "Training: 100%|██████████| 1199/1199 [02:03<00:00,  9.73it/s, loss=0.5072, acc=0.9658]\n"
          ]
        },
        {
          "output_type": "stream",
          "name": "stdout",
          "text": [
            "loss        : 0.1743\n",
            "accuracy    : 0.9545\n",
            "auc         : 0.9866\n",
            "f1          : 0.9550\n",
            "precision   : 0.9453\n",
            "recall      : 0.9650\n",
            "mcc         : 0.9093\n",
            "Fold 1, Epoch 6: AUC = 0.9866\n"
          ]
        },
        {
          "output_type": "stream",
          "name": "stderr",
          "text": [
            "<ipython-input-19-abad7e40b256>:34: FutureWarning: `torch.cuda.amp.GradScaler(args...)` is deprecated. Please use `torch.amp.GradScaler('cuda', args...)` instead.\n",
            "  scaler = GradScaler()\n",
            "Training: 100%|██████████| 1199/1199 [02:04<00:00,  9.60it/s, loss=0.5704, acc=0.7413]\n",
            "/usr/local/lib/python3.11/dist-packages/optuna/trial/_trial.py:497: UserWarning: The reported value is ignored because this `step` 0 is already reported.\n",
            "  warnings.warn(\n"
          ]
        },
        {
          "output_type": "stream",
          "name": "stdout",
          "text": [
            "loss        : 0.4349\n",
            "accuracy    : 0.9053\n",
            "auc         : 0.9644\n",
            "f1          : 0.9063\n",
            "precision   : 0.8855\n",
            "recall      : 0.9281\n",
            "mcc         : 0.8117\n",
            "Fold 2, Epoch 1: AUC = 0.9644\n"
          ]
        },
        {
          "output_type": "stream",
          "name": "stderr",
          "text": [
            "Training: 100%|██████████| 1199/1199 [02:03<00:00,  9.73it/s, loss=0.2556, acc=0.9241]\n",
            "/usr/local/lib/python3.11/dist-packages/optuna/trial/_trial.py:497: UserWarning: The reported value is ignored because this `step` 1 is already reported.\n",
            "  warnings.warn(\n"
          ]
        },
        {
          "output_type": "stream",
          "name": "stdout",
          "text": [
            "loss        : 0.3014\n",
            "accuracy    : 0.9345\n",
            "auc         : 0.9747\n",
            "f1          : 0.9340\n",
            "precision   : 0.9296\n",
            "recall      : 0.9383\n",
            "mcc         : 0.8691\n",
            "Fold 2, Epoch 2: AUC = 0.9747\n"
          ]
        },
        {
          "output_type": "stream",
          "name": "stderr",
          "text": [
            "Training: 100%|██████████| 1199/1199 [02:03<00:00,  9.69it/s, loss=0.1916, acc=0.9423]\n",
            "/usr/local/lib/python3.11/dist-packages/optuna/trial/_trial.py:497: UserWarning: The reported value is ignored because this `step` 2 is already reported.\n",
            "  warnings.warn(\n"
          ]
        },
        {
          "output_type": "stream",
          "name": "stdout",
          "text": [
            "loss        : 0.2417\n",
            "accuracy    : 0.9458\n",
            "auc         : 0.9788\n",
            "f1          : 0.9454\n",
            "precision   : 0.9398\n",
            "recall      : 0.9510\n",
            "mcc         : 0.8916\n",
            "Fold 2, Epoch 3: AUC = 0.9788\n"
          ]
        },
        {
          "output_type": "stream",
          "name": "stderr",
          "text": [
            "Training: 100%|██████████| 1199/1199 [02:03<00:00,  9.68it/s, loss=0.4580, acc=0.9533]\n",
            "/usr/local/lib/python3.11/dist-packages/optuna/trial/_trial.py:497: UserWarning: The reported value is ignored because this `step` 3 is already reported.\n",
            "  warnings.warn(\n"
          ]
        },
        {
          "output_type": "stream",
          "name": "stdout",
          "text": [
            "loss        : 0.2090\n",
            "accuracy    : 0.9504\n",
            "auc         : 0.9815\n",
            "f1          : 0.9499\n",
            "precision   : 0.9471\n",
            "recall      : 0.9527\n",
            "mcc         : 0.9008\n",
            "Fold 2, Epoch 4: AUC = 0.9815\n"
          ]
        },
        {
          "output_type": "stream",
          "name": "stderr",
          "text": [
            "Training: 100%|██████████| 1199/1199 [02:02<00:00,  9.76it/s, loss=0.1198, acc=0.9594]\n",
            "/usr/local/lib/python3.11/dist-packages/optuna/trial/_trial.py:497: UserWarning: The reported value is ignored because this `step` 4 is already reported.\n",
            "  warnings.warn(\n"
          ]
        },
        {
          "output_type": "stream",
          "name": "stdout",
          "text": [
            "loss        : 0.1868\n",
            "accuracy    : 0.9550\n",
            "auc         : 0.9835\n",
            "f1          : 0.9544\n",
            "precision   : 0.9544\n",
            "recall      : 0.9544\n",
            "mcc         : 0.9099\n",
            "Fold 2, Epoch 5: AUC = 0.9835\n"
          ]
        },
        {
          "output_type": "stream",
          "name": "stderr",
          "text": [
            "Training: 100%|██████████| 1199/1199 [02:03<00:00,  9.72it/s, loss=0.1112, acc=0.9612]\n"
          ]
        },
        {
          "output_type": "stream",
          "name": "stdout",
          "text": [
            "loss        : 0.1728\n",
            "accuracy    : 0.9541\n",
            "auc         : 0.9844\n",
            "f1          : 0.9535\n",
            "precision   : 0.9543\n",
            "recall      : 0.9527\n",
            "mcc         : 0.9082\n",
            "Fold 2, Epoch 6: AUC = 0.9844\n"
          ]
        },
        {
          "output_type": "stream",
          "name": "stderr",
          "text": [
            "/usr/local/lib/python3.11/dist-packages/optuna/trial/_trial.py:497: UserWarning: The reported value is ignored because this `step` 5 is already reported.\n",
            "  warnings.warn(\n",
            "<ipython-input-19-abad7e40b256>:34: FutureWarning: `torch.cuda.amp.GradScaler(args...)` is deprecated. Please use `torch.amp.GradScaler('cuda', args...)` instead.\n",
            "  scaler = GradScaler()\n",
            "Training: 100%|██████████| 1199/1199 [02:05<00:00,  9.53it/s, loss=0.7295, acc=0.8519]\n",
            "/usr/local/lib/python3.11/dist-packages/optuna/trial/_trial.py:497: UserWarning: The reported value is ignored because this `step` 0 is already reported.\n",
            "  warnings.warn(\n"
          ]
        },
        {
          "output_type": "stream",
          "name": "stdout",
          "text": [
            "loss        : 0.3929\n",
            "accuracy    : 0.9237\n",
            "auc         : 0.9711\n",
            "f1          : 0.9261\n",
            "precision   : 0.9153\n",
            "recall      : 0.9370\n",
            "mcc         : 0.8475\n",
            "Fold 3, Epoch 1: AUC = 0.9711\n"
          ]
        },
        {
          "output_type": "stream",
          "name": "stderr",
          "text": [
            "Training: 100%|██████████| 1199/1199 [02:05<00:00,  9.59it/s, loss=0.2152, acc=0.9397]\n",
            "/usr/local/lib/python3.11/dist-packages/optuna/trial/_trial.py:497: UserWarning: The reported value is ignored because this `step` 1 is already reported.\n",
            "  warnings.warn(\n"
          ]
        },
        {
          "output_type": "stream",
          "name": "stdout",
          "text": [
            "loss        : 0.2685\n",
            "accuracy    : 0.9429\n",
            "auc         : 0.9762\n",
            "f1          : 0.9436\n",
            "precision   : 0.9495\n",
            "recall      : 0.9379\n",
            "mcc         : 0.8858\n",
            "Fold 3, Epoch 2: AUC = 0.9762\n"
          ]
        },
        {
          "output_type": "stream",
          "name": "stderr",
          "text": [
            "Training: 100%|██████████| 1199/1199 [02:05<00:00,  9.55it/s, loss=0.1126, acc=0.9530]\n",
            "/usr/local/lib/python3.11/dist-packages/optuna/trial/_trial.py:497: UserWarning: The reported value is ignored because this `step` 2 is already reported.\n",
            "  warnings.warn(\n"
          ]
        },
        {
          "output_type": "stream",
          "name": "stdout",
          "text": [
            "loss        : 0.2202\n",
            "accuracy    : 0.9520\n",
            "auc         : 0.9781\n",
            "f1          : 0.9528\n",
            "precision   : 0.9556\n",
            "recall      : 0.9501\n",
            "mcc         : 0.9041\n",
            "Fold 3, Epoch 3: AUC = 0.9781\n"
          ]
        },
        {
          "output_type": "stream",
          "name": "stderr",
          "text": [
            "Training: 100%|██████████| 1199/1199 [02:04<00:00,  9.60it/s, loss=0.1258, acc=0.9568]\n",
            "/usr/local/lib/python3.11/dist-packages/optuna/trial/_trial.py:497: UserWarning: The reported value is ignored because this `step` 3 is already reported.\n",
            "  warnings.warn(\n"
          ]
        },
        {
          "output_type": "stream",
          "name": "stdout",
          "text": [
            "loss        : 0.1967\n",
            "accuracy    : 0.9541\n",
            "auc         : 0.9796\n",
            "f1          : 0.9552\n",
            "precision   : 0.9521\n",
            "recall      : 0.9583\n",
            "mcc         : 0.9082\n",
            "Fold 3, Epoch 4: AUC = 0.9796\n"
          ]
        },
        {
          "output_type": "stream",
          "name": "stderr",
          "text": [
            "Training: 100%|██████████| 1199/1199 [02:05<00:00,  9.55it/s, loss=0.0968, acc=0.9626]\n",
            "/usr/local/lib/python3.11/dist-packages/optuna/trial/_trial.py:497: UserWarning: The reported value is ignored because this `step` 4 is already reported.\n",
            "  warnings.warn(\n"
          ]
        },
        {
          "output_type": "stream",
          "name": "stdout",
          "text": [
            "loss        : 0.1763\n",
            "accuracy    : 0.9575\n",
            "auc         : 0.9806\n",
            "f1          : 0.9578\n",
            "precision   : 0.9690\n",
            "recall      : 0.9469\n",
            "mcc         : 0.9152\n",
            "Fold 3, Epoch 5: AUC = 0.9806\n"
          ]
        },
        {
          "output_type": "stream",
          "name": "stderr",
          "text": [
            "Training: 100%|██████████| 1199/1199 [02:04<00:00,  9.61it/s, loss=0.0736, acc=0.9654]\n"
          ]
        },
        {
          "output_type": "stream",
          "name": "stdout",
          "text": [
            "loss        : 0.1635\n",
            "accuracy    : 0.9595\n",
            "auc         : 0.9818\n",
            "f1          : 0.9600\n",
            "precision   : 0.9684\n",
            "recall      : 0.9518\n",
            "mcc         : 0.9192\n",
            "Fold 3, Epoch 6: AUC = 0.9818\n"
          ]
        },
        {
          "output_type": "stream",
          "name": "stderr",
          "text": [
            "/usr/local/lib/python3.11/dist-packages/optuna/trial/_trial.py:497: UserWarning: The reported value is ignored because this `step` 5 is already reported.\n",
            "  warnings.warn(\n",
            "<ipython-input-19-abad7e40b256>:34: FutureWarning: `torch.cuda.amp.GradScaler(args...)` is deprecated. Please use `torch.amp.GradScaler('cuda', args...)` instead.\n",
            "  scaler = GradScaler()\n",
            "Training: 100%|██████████| 1199/1199 [02:05<00:00,  9.57it/s, loss=0.5329, acc=0.8010]\n",
            "/usr/local/lib/python3.11/dist-packages/optuna/trial/_trial.py:497: UserWarning: The reported value is ignored because this `step` 0 is already reported.\n",
            "  warnings.warn(\n"
          ]
        },
        {
          "output_type": "stream",
          "name": "stdout",
          "text": [
            "loss        : 0.4100\n",
            "accuracy    : 0.9266\n",
            "auc         : 0.9712\n",
            "f1          : 0.9256\n",
            "precision   : 0.9359\n",
            "recall      : 0.9156\n",
            "mcc         : 0.8533\n",
            "Fold 4, Epoch 1: AUC = 0.9712\n"
          ]
        },
        {
          "output_type": "stream",
          "name": "stderr",
          "text": [
            "Training: 100%|██████████| 1199/1199 [02:05<00:00,  9.56it/s, loss=0.5691, acc=0.9353]\n",
            "/usr/local/lib/python3.11/dist-packages/optuna/trial/_trial.py:497: UserWarning: The reported value is ignored because this `step` 1 is already reported.\n",
            "  warnings.warn(\n"
          ]
        },
        {
          "output_type": "stream",
          "name": "stdout",
          "text": [
            "loss        : 0.2773\n",
            "accuracy    : 0.9433\n",
            "auc         : 0.9785\n",
            "f1          : 0.9428\n",
            "precision   : 0.9492\n",
            "recall      : 0.9365\n",
            "mcc         : 0.8866\n",
            "Fold 4, Epoch 2: AUC = 0.9785\n"
          ]
        },
        {
          "output_type": "stream",
          "name": "stderr",
          "text": [
            "Training: 100%|██████████| 1199/1199 [02:05<00:00,  9.57it/s, loss=0.2158, acc=0.9494]\n",
            "/usr/local/lib/python3.11/dist-packages/optuna/trial/_trial.py:497: UserWarning: The reported value is ignored because this `step` 2 is already reported.\n",
            "  warnings.warn(\n"
          ]
        },
        {
          "output_type": "stream",
          "name": "stdout",
          "text": [
            "loss        : 0.2251\n",
            "accuracy    : 0.9508\n",
            "auc         : 0.9801\n",
            "f1          : 0.9503\n",
            "precision   : 0.9568\n",
            "recall      : 0.9440\n",
            "mcc         : 0.9016\n",
            "Fold 4, Epoch 3: AUC = 0.9801\n"
          ]
        },
        {
          "output_type": "stream",
          "name": "stderr",
          "text": [
            "Training: 100%|██████████| 1199/1199 [02:05<00:00,  9.59it/s, loss=0.1250, acc=0.9582]\n",
            "/usr/local/lib/python3.11/dist-packages/optuna/trial/_trial.py:497: UserWarning: The reported value is ignored because this `step` 3 is already reported.\n",
            "  warnings.warn(\n"
          ]
        },
        {
          "output_type": "stream",
          "name": "stdout",
          "text": [
            "loss        : 0.2003\n",
            "accuracy    : 0.9504\n",
            "auc         : 0.9829\n",
            "f1          : 0.9502\n",
            "precision   : 0.9506\n",
            "recall      : 0.9498\n",
            "mcc         : 0.9007\n",
            "Fold 4, Epoch 4: AUC = 0.9829\n"
          ]
        },
        {
          "output_type": "stream",
          "name": "stderr",
          "text": [
            "Training: 100%|██████████| 1199/1199 [02:04<00:00,  9.64it/s, loss=0.1011, acc=0.9610]\n",
            "/usr/local/lib/python3.11/dist-packages/optuna/trial/_trial.py:497: UserWarning: The reported value is ignored because this `step` 4 is already reported.\n",
            "  warnings.warn(\n"
          ]
        },
        {
          "output_type": "stream",
          "name": "stdout",
          "text": [
            "loss        : 0.1783\n",
            "accuracy    : 0.9533\n",
            "auc         : 0.9836\n",
            "f1          : 0.9530\n",
            "precision   : 0.9570\n",
            "recall      : 0.9490\n",
            "mcc         : 0.9066\n",
            "Fold 4, Epoch 5: AUC = 0.9836\n"
          ]
        },
        {
          "output_type": "stream",
          "name": "stderr",
          "text": [
            "Training: 100%|██████████| 1199/1199 [02:05<00:00,  9.55it/s, loss=0.1020, acc=0.9647]\n"
          ]
        },
        {
          "output_type": "stream",
          "name": "stdout",
          "text": [
            "loss        : 0.1713\n",
            "accuracy    : 0.9520\n",
            "auc         : 0.9848\n",
            "f1          : 0.9521\n",
            "precision   : 0.9485\n",
            "recall      : 0.9557\n",
            "mcc         : 0.9041\n",
            "Fold 4, Epoch 6: AUC = 0.9848\n"
          ]
        },
        {
          "output_type": "stream",
          "name": "stderr",
          "text": [
            "/usr/local/lib/python3.11/dist-packages/optuna/trial/_trial.py:497: UserWarning: The reported value is ignored because this `step` 5 is already reported.\n",
            "  warnings.warn(\n",
            "<ipython-input-19-abad7e40b256>:34: FutureWarning: `torch.cuda.amp.GradScaler(args...)` is deprecated. Please use `torch.amp.GradScaler('cuda', args...)` instead.\n",
            "  scaler = GradScaler()\n",
            "Training: 100%|██████████| 1199/1199 [02:03<00:00,  9.68it/s, loss=0.4087, acc=0.8239]\n",
            "/usr/local/lib/python3.11/dist-packages/optuna/trial/_trial.py:497: UserWarning: The reported value is ignored because this `step` 0 is already reported.\n",
            "  warnings.warn(\n"
          ]
        },
        {
          "output_type": "stream",
          "name": "stdout",
          "text": [
            "loss        : 0.4195\n",
            "accuracy    : 0.9195\n",
            "auc         : 0.9645\n",
            "f1          : 0.9194\n",
            "precision   : 0.9160\n",
            "recall      : 0.9229\n",
            "mcc         : 0.8390\n",
            "Fold 5, Epoch 1: AUC = 0.9645\n"
          ]
        },
        {
          "output_type": "stream",
          "name": "stderr",
          "text": [
            "Training: 100%|██████████| 1199/1199 [02:04<00:00,  9.63it/s, loss=0.2749, acc=0.9333]\n",
            "/usr/local/lib/python3.11/dist-packages/optuna/trial/_trial.py:497: UserWarning: The reported value is ignored because this `step` 1 is already reported.\n",
            "  warnings.warn(\n"
          ]
        },
        {
          "output_type": "stream",
          "name": "stdout",
          "text": [
            "loss        : 0.2837\n",
            "accuracy    : 0.9433\n",
            "auc         : 0.9758\n",
            "f1          : 0.9429\n",
            "precision   : 0.9445\n",
            "recall      : 0.9413\n",
            "mcc         : 0.8865\n",
            "Fold 5, Epoch 2: AUC = 0.9758\n"
          ]
        },
        {
          "output_type": "stream",
          "name": "stderr",
          "text": [
            "Training: 100%|██████████| 1199/1199 [02:04<00:00,  9.63it/s, loss=0.5217, acc=0.9513]\n",
            "/usr/local/lib/python3.11/dist-packages/optuna/trial/_trial.py:497: UserWarning: The reported value is ignored because this `step` 2 is already reported.\n",
            "  warnings.warn(\n"
          ]
        },
        {
          "output_type": "stream",
          "name": "stdout",
          "text": [
            "loss        : 0.2312\n",
            "accuracy    : 0.9483\n",
            "auc         : 0.9783\n",
            "f1          : 0.9471\n",
            "precision   : 0.9636\n",
            "recall      : 0.9313\n",
            "mcc         : 0.8970\n",
            "Fold 5, Epoch 3: AUC = 0.9783\n"
          ]
        },
        {
          "output_type": "stream",
          "name": "stderr",
          "text": [
            "Training: 100%|██████████| 1199/1199 [02:05<00:00,  9.59it/s, loss=0.1095, acc=0.9570]\n",
            "/usr/local/lib/python3.11/dist-packages/optuna/trial/_trial.py:497: UserWarning: The reported value is ignored because this `step` 3 is already reported.\n",
            "  warnings.warn(\n"
          ]
        },
        {
          "output_type": "stream",
          "name": "stdout",
          "text": [
            "loss        : 0.1979\n",
            "accuracy    : 0.9541\n",
            "auc         : 0.9802\n",
            "f1          : 0.9537\n",
            "precision   : 0.9577\n",
            "recall      : 0.9497\n",
            "mcc         : 0.9082\n",
            "Fold 5, Epoch 4: AUC = 0.9802\n"
          ]
        },
        {
          "output_type": "stream",
          "name": "stderr",
          "text": [
            "Training: 100%|██████████| 1199/1199 [02:03<00:00,  9.67it/s, loss=0.0901, acc=0.9610]\n",
            "/usr/local/lib/python3.11/dist-packages/optuna/trial/_trial.py:497: UserWarning: The reported value is ignored because this `step` 4 is already reported.\n",
            "  warnings.warn(\n"
          ]
        },
        {
          "output_type": "stream",
          "name": "stdout",
          "text": [
            "loss        : 0.1784\n",
            "accuracy    : 0.9554\n",
            "auc         : 0.9813\n",
            "f1          : 0.9552\n",
            "precision   : 0.9548\n",
            "recall      : 0.9556\n",
            "mcc         : 0.9107\n",
            "Fold 5, Epoch 5: AUC = 0.9813\n"
          ]
        },
        {
          "output_type": "stream",
          "name": "stderr",
          "text": [
            "Training: 100%|██████████| 1199/1199 [02:03<00:00,  9.69it/s, loss=0.0821, acc=0.9650]\n"
          ]
        },
        {
          "output_type": "stream",
          "name": "stdout",
          "text": [
            "loss        : 0.1631\n",
            "accuracy    : 0.9587\n",
            "auc         : 0.9826\n",
            "f1          : 0.9582\n",
            "precision   : 0.9659\n",
            "recall      : 0.9505\n",
            "mcc         : 0.9175\n",
            "Fold 5, Epoch 6: AUC = 0.9826\n"
          ]
        },
        {
          "output_type": "stream",
          "name": "stderr",
          "text": [
            "/usr/local/lib/python3.11/dist-packages/optuna/trial/_trial.py:497: UserWarning: The reported value is ignored because this `step` 5 is already reported.\n",
            "  warnings.warn(\n"
          ]
        },
        {
          "output_type": "display_data",
          "data": {
            "text/plain": [
              "<Figure size 1000x800 with 1 Axes>"
            ],
            "image/png": "[encoded data removed]"
          },
          "metadata": {}
        },
        {
          "output_type": "stream",
          "name": "stderr",
          "text": [
            "[I 2025-05-15 01:57:22,945] Trial 2 finished with value: 0.16901979108403128 and parameters: {'hidden_dim': 64, 'num_layers': 1, 'dropout': 0.15408407134764676, 'lr': 1.3069922651243291e-06, 'batch_size': 8, 'max_epochs': 6}. Best is trial 0 with value: 0.11541547279738493.\n",
            "<ipython-input-19-abad7e40b256>:6: FutureWarning: suggest_loguniform has been deprecated in v3.0.0. This feature will be removed in v6.0.0. See https://github.com/optuna/optuna/releases/tag/v3.0.0. Use suggest_float(..., log=True) instead.\n",
            "  lr = trial.suggest_loguniform(\"lr\", 1e-6, 1e-5)\n",
            "<ipython-input-19-abad7e40b256>:34: FutureWarning: `torch.cuda.amp.GradScaler(args...)` is deprecated. Please use `torch.amp.GradScaler('cuda', args...)` instead.\n",
            "  scaler = GradScaler()\n"
          ]
        },
        {
          "output_type": "stream",
          "name": "stdout",
          "text": [
            "Cross-Validation Losses: [0.1743405337134997, 0.1728436296681563, 0.1635418634985884, 0.1713198064515988, 0.1630531220883131]\n"
          ]
        },
        {
          "output_type": "stream",
          "name": "stderr",
          "text": [
            "Training: 100%|██████████| 2398/2398 [02:08<00:00, 18.69it/s, loss=0.8027, acc=0.8205]\n"
          ]
        },
        {
          "output_type": "stream",
          "name": "stdout",
          "text": [
            "loss        : 0.5297\n",
            "accuracy    : 0.9254\n",
            "auc         : 0.9716\n",
            "f1          : 0.9260\n",
            "precision   : 0.9180\n",
            "recall      : 0.9341\n",
            "mcc         : 0.8508\n",
            "Fold 1, Epoch 1: AUC = 0.9716\n"
          ]
        },
        {
          "output_type": "stream",
          "name": "stderr",
          "text": [
            "Training: 100%|██████████| 2398/2398 [02:08<00:00, 18.62it/s, loss=0.4001, acc=0.9407]\n"
          ]
        },
        {
          "output_type": "stream",
          "name": "stdout",
          "text": [
            "loss        : 0.3693\n",
            "accuracy    : 0.9454\n",
            "auc         : 0.9783\n",
            "f1          : 0.9447\n",
            "precision   : 0.9556\n",
            "recall      : 0.9341\n",
            "mcc         : 0.8910\n",
            "Fold 1, Epoch 2: AUC = 0.9783\n"
          ]
        },
        {
          "output_type": "stream",
          "name": "stderr",
          "text": [
            "Training: 100%|██████████| 2398/2398 [02:08<00:00, 18.67it/s, loss=0.1424, acc=0.9548]\n"
          ]
        },
        {
          "output_type": "stream",
          "name": "stdout",
          "text": [
            "loss        : 0.2565\n",
            "accuracy    : 0.9516\n",
            "auc         : 0.9827\n",
            "f1          : 0.9521\n",
            "precision   : 0.9435\n",
            "recall      : 0.9608\n",
            "mcc         : 0.9034\n",
            "Fold 1, Epoch 3: AUC = 0.9827\n"
          ]
        },
        {
          "output_type": "stream",
          "name": "stderr",
          "text": [
            "Training: 100%|██████████| 2398/2398 [02:09<00:00, 18.58it/s, loss=0.1069, acc=0.9610]\n"
          ]
        },
        {
          "output_type": "stream",
          "name": "stdout",
          "text": [
            "loss        : 0.1932\n",
            "accuracy    : 0.9525\n",
            "auc         : 0.9852\n",
            "f1          : 0.9527\n",
            "precision   : 0.9472\n",
            "recall      : 0.9583\n",
            "mcc         : 0.9050\n",
            "Fold 1, Epoch 4: AUC = 0.9852\n"
          ]
        },
        {
          "output_type": "stream",
          "name": "stderr",
          "text": [
            "Training: 100%|██████████| 2398/2398 [02:08<00:00, 18.66it/s, loss=0.0692, acc=0.9665]\n"
          ]
        },
        {
          "output_type": "stream",
          "name": "stdout",
          "text": [
            "loss        : 0.1579\n",
            "accuracy    : 0.9604\n",
            "auc         : 0.9876\n",
            "f1          : 0.9604\n",
            "precision   : 0.9600\n",
            "recall      : 0.9608\n",
            "mcc         : 0.9208\n",
            "Fold 1, Epoch 5: AUC = 0.9876\n"
          ]
        },
        {
          "output_type": "stream",
          "name": "stderr",
          "text": [
            "Training: 100%|██████████| 2398/2398 [02:08<00:00, 18.65it/s, loss=0.0306, acc=0.9714]\n"
          ]
        },
        {
          "output_type": "stream",
          "name": "stdout",
          "text": [
            "loss        : 0.1459\n",
            "accuracy    : 0.9616\n",
            "auc         : 0.9883\n",
            "f1          : 0.9617\n",
            "precision   : 0.9601\n",
            "recall      : 0.9633\n",
            "mcc         : 0.9233\n",
            "Fold 1, Epoch 6: AUC = 0.9883\n"
          ]
        },
        {
          "output_type": "stream",
          "name": "stderr",
          "text": [
            "Training: 100%|██████████| 2398/2398 [02:08<00:00, 18.62it/s, loss=0.0803, acc=0.9759]\n"
          ]
        },
        {
          "output_type": "stream",
          "name": "stdout",
          "text": [
            "loss        : 0.1335\n",
            "accuracy    : 0.9629\n",
            "auc         : 0.9898\n",
            "f1          : 0.9630\n",
            "precision   : 0.9594\n",
            "recall      : 0.9666\n",
            "mcc         : 0.9258\n",
            "Fold 1, Epoch 7: AUC = 0.9898\n"
          ]
        },
        {
          "output_type": "stream",
          "name": "stderr",
          "text": [
            "Training: 100%|██████████| 2398/2398 [02:08<00:00, 18.66it/s, loss=0.0269, acc=0.9795]\n"
          ]
        },
        {
          "output_type": "stream",
          "name": "stdout",
          "text": [
            "loss        : 0.1187\n",
            "accuracy    : 0.9691\n",
            "auc         : 0.9902\n",
            "f1          : 0.9690\n",
            "precision   : 0.9731\n",
            "recall      : 0.9650\n",
            "mcc         : 0.9383\n",
            "Fold 1, Epoch 8: AUC = 0.9902\n"
          ]
        },
        {
          "output_type": "stream",
          "name": "stderr",
          "text": [
            "Training: 100%|██████████| 2398/2398 [02:08<00:00, 18.60it/s, loss=0.0275, acc=0.9828]\n"
          ]
        },
        {
          "output_type": "stream",
          "name": "stdout",
          "text": [
            "loss        : 0.1227\n",
            "accuracy    : 0.9679\n",
            "auc         : 0.9906\n",
            "f1          : 0.9681\n",
            "precision   : 0.9629\n",
            "recall      : 0.9733\n",
            "mcc         : 0.9358\n",
            "Fold 1, Epoch 9: AUC = 0.9906\n"
          ]
        },
        {
          "output_type": "stream",
          "name": "stderr",
          "text": [
            "Training: 100%|██████████| 2398/2398 [02:08<00:00, 18.66it/s, loss=0.0286, acc=0.9848]\n"
          ]
        },
        {
          "output_type": "stream",
          "name": "stdout",
          "text": [
            "loss        : 0.1348\n",
            "accuracy    : 0.9646\n",
            "auc         : 0.9919\n",
            "f1          : 0.9650\n",
            "precision   : 0.9536\n",
            "recall      : 0.9766\n",
            "mcc         : 0.9294\n",
            "Fold 1, Epoch 10: AUC = 0.9919\n"
          ]
        },
        {
          "output_type": "stream",
          "name": "stderr",
          "text": [
            "<ipython-input-19-abad7e40b256>:34: FutureWarning: `torch.cuda.amp.GradScaler(args...)` is deprecated. Please use `torch.amp.GradScaler('cuda', args...)` instead.\n",
            "  scaler = GradScaler()\n",
            "Training: 100%|██████████| 2398/2398 [02:08<00:00, 18.60it/s, loss=0.6434, acc=0.7634]\n",
            "/usr/local/lib/python3.11/dist-packages/optuna/trial/_trial.py:497: UserWarning: The reported value is ignored because this `step` 0 is already reported.\n",
            "  warnings.warn(\n"
          ]
        },
        {
          "output_type": "stream",
          "name": "stdout",
          "text": [
            "loss        : 0.5912\n",
            "accuracy    : 0.9291\n",
            "auc         : 0.9688\n",
            "f1          : 0.9288\n",
            "precision   : 0.9210\n",
            "recall      : 0.9366\n",
            "mcc         : 0.8583\n",
            "Fold 2, Epoch 1: AUC = 0.9688\n"
          ]
        },
        {
          "output_type": "stream",
          "name": "stderr",
          "text": [
            "Training: 100%|██████████| 2398/2398 [02:08<00:00, 18.62it/s, loss=0.4407, acc=0.9385]\n",
            "/usr/local/lib/python3.11/dist-packages/optuna/trial/_trial.py:497: UserWarning: The reported value is ignored because this `step` 1 is already reported.\n",
            "  warnings.warn(\n"
          ]
        },
        {
          "output_type": "stream",
          "name": "stdout",
          "text": [
            "loss        : 0.4277\n",
            "accuracy    : 0.9487\n",
            "auc         : 0.9777\n",
            "f1          : 0.9481\n",
            "precision   : 0.9469\n",
            "recall      : 0.9493\n",
            "mcc         : 0.8974\n",
            "Fold 2, Epoch 2: AUC = 0.9777\n"
          ]
        },
        {
          "output_type": "stream",
          "name": "stderr",
          "text": [
            "Training: 100%|██████████| 2398/2398 [02:08<00:00, 18.65it/s, loss=0.2193, acc=0.9581]\n",
            "/usr/local/lib/python3.11/dist-packages/optuna/trial/_trial.py:497: UserWarning: The reported value is ignored because this `step` 2 is already reported.\n",
            "  warnings.warn(\n"
          ]
        },
        {
          "output_type": "stream",
          "name": "stdout",
          "text": [
            "loss        : 0.2843\n",
            "accuracy    : 0.9558\n",
            "auc         : 0.9820\n",
            "f1          : 0.9551\n",
            "precision   : 0.9575\n",
            "recall      : 0.9527\n",
            "mcc         : 0.9116\n",
            "Fold 2, Epoch 3: AUC = 0.9820\n"
          ]
        },
        {
          "output_type": "stream",
          "name": "stderr",
          "text": [
            "Training: 100%|██████████| 2398/2398 [02:09<00:00, 18.55it/s, loss=0.1986, acc=0.9654]\n",
            "/usr/local/lib/python3.11/dist-packages/optuna/trial/_trial.py:497: UserWarning: The reported value is ignored because this `step` 3 is already reported.\n",
            "  warnings.warn(\n"
          ]
        },
        {
          "output_type": "stream",
          "name": "stdout",
          "text": [
            "loss        : 0.2050\n",
            "accuracy    : 0.9579\n",
            "auc         : 0.9829\n",
            "f1          : 0.9577\n",
            "precision   : 0.9486\n",
            "recall      : 0.9670\n",
            "mcc         : 0.9159\n",
            "Fold 2, Epoch 4: AUC = 0.9829\n"
          ]
        },
        {
          "output_type": "stream",
          "name": "stderr",
          "text": [
            "Training: 100%|██████████| 2398/2398 [02:08<00:00, 18.60it/s, loss=1.2960, acc=0.9683]\n",
            "/usr/local/lib/python3.11/dist-packages/optuna/trial/_trial.py:497: UserWarning: The reported value is ignored because this `step` 4 is already reported.\n",
            "  warnings.warn(\n"
          ]
        },
        {
          "output_type": "stream",
          "name": "stdout",
          "text": [
            "loss        : 0.1613\n",
            "accuracy    : 0.9625\n",
            "auc         : 0.9862\n",
            "f1          : 0.9620\n",
            "precision   : 0.9620\n",
            "recall      : 0.9620\n",
            "mcc         : 0.9249\n",
            "Fold 2, Epoch 5: AUC = 0.9862\n"
          ]
        },
        {
          "output_type": "stream",
          "name": "stderr",
          "text": [
            "Training: 100%|██████████| 2398/2398 [02:09<00:00, 18.52it/s, loss=0.0428, acc=0.9708]\n",
            "/usr/local/lib/python3.11/dist-packages/optuna/trial/_trial.py:497: UserWarning: The reported value is ignored because this `step` 5 is already reported.\n",
            "  warnings.warn(\n"
          ]
        },
        {
          "output_type": "stream",
          "name": "stdout",
          "text": [
            "loss        : 0.1472\n",
            "accuracy    : 0.9637\n",
            "auc         : 0.9866\n",
            "f1          : 0.9634\n",
            "precision   : 0.9590\n",
            "recall      : 0.9679\n",
            "mcc         : 0.9275\n",
            "Fold 2, Epoch 6: AUC = 0.9866\n"
          ]
        },
        {
          "output_type": "stream",
          "name": "stderr",
          "text": [
            "Training: 100%|██████████| 2398/2398 [02:08<00:00, 18.64it/s, loss=0.1215, acc=0.9755]\n",
            "/usr/local/lib/python3.11/dist-packages/optuna/trial/_trial.py:497: UserWarning: The reported value is ignored because this `step` 6 is already reported.\n",
            "  warnings.warn(\n"
          ]
        },
        {
          "output_type": "stream",
          "name": "stdout",
          "text": [
            "loss        : 0.1251\n",
            "accuracy    : 0.9662\n",
            "auc         : 0.9882\n",
            "f1          : 0.9656\n",
            "precision   : 0.9709\n",
            "recall      : 0.9603\n",
            "mcc         : 0.9325\n",
            "Fold 2, Epoch 7: AUC = 0.9882\n"
          ]
        },
        {
          "output_type": "stream",
          "name": "stderr",
          "text": [
            "Training: 100%|██████████| 2398/2398 [02:09<00:00, 18.55it/s, loss=0.0364, acc=0.9775]\n",
            "/usr/local/lib/python3.11/dist-packages/optuna/trial/_trial.py:497: UserWarning: The reported value is ignored because this `step` 7 is already reported.\n",
            "  warnings.warn(\n"
          ]
        },
        {
          "output_type": "stream",
          "name": "stdout",
          "text": [
            "loss        : 0.1219\n",
            "accuracy    : 0.9700\n",
            "auc         : 0.9892\n",
            "f1          : 0.9696\n",
            "precision   : 0.9672\n",
            "recall      : 0.9721\n",
            "mcc         : 0.9400\n",
            "Fold 2, Epoch 8: AUC = 0.9892\n"
          ]
        },
        {
          "output_type": "stream",
          "name": "stderr",
          "text": [
            "Training: 100%|██████████| 2398/2398 [02:08<00:00, 18.62it/s, loss=0.0316, acc=0.9809]\n",
            "/usr/local/lib/python3.11/dist-packages/optuna/trial/_trial.py:497: UserWarning: The reported value is ignored because this `step` 8 is already reported.\n",
            "  warnings.warn(\n"
          ]
        },
        {
          "output_type": "stream",
          "name": "stdout",
          "text": [
            "loss        : 0.1228\n",
            "accuracy    : 0.9712\n",
            "auc         : 0.9897\n",
            "f1          : 0.9711\n",
            "precision   : 0.9626\n",
            "recall      : 0.9797\n",
            "mcc         : 0.9426\n",
            "Fold 2, Epoch 9: AUC = 0.9897\n"
          ]
        },
        {
          "output_type": "stream",
          "name": "stderr",
          "text": [
            "Training:  60%|██████    | 1450/2398 [01:18<00:50, 18.87it/s, loss=0.0172, acc=0.9843]"
          ]
        }
      ]
    },
    {
      "cell_type": "code",
      "source": [
        "print(study.best_trial.params)"
      ],
      "metadata": {
        "id": "6AwnW2cEToy1"
      },
      "execution_count": null,
      "outputs": []
    },
    {
      "cell_type": "code",
      "source": [
        "#A Train-Validation function with learning curve to select best dropout rate to prevent overfitting\n",
        "def select_dropout_rate(model, train_loader, val_loader, optimizer, criterion, epochs, device, early_stopping):\n",
        "    model.train()\n",
        "    train_losses = []\n",
        "    val_losses = []\n",
        "    train_aucs = []\n",
        "    val_aucs = []\n",
        "\n",
        "    for epoch in range(epochs):\n",
        "        # Train\n",
        "        model.train()\n",
        "        total_loss = 0\n",
        "        progress_bar = tqdm(train_loader, desc=\"Training\")\n",
        "        for x, y in progress_bar:\n",
        "            x = x.to(device)\n",
        "            y = y.to(device)\n",
        "            optimizer.zero_grad()\n",
        "            logits = model(x)\n",
        "            loss = criterion(logits, y.float())\n",
        "            loss.backward()\n",
        "            optimizer.step()\n",
        "            total_loss += loss.item() * x.size(0)\n",
        "\n",
        "        avg_train_loss = total_loss / len(train_loader.dataset)\n",
        "        train_losses.append(avg_train_loss)\n",
        "\n",
        "        # Evaluate on train set\n",
        "        train_metrics = evaluate(model, train_loader, criterion, device)\n",
        "        train_aucs.append(train_metrics[\"auc\"])\n",
        "\n",
        "        # Evaluate on validation set\n",
        "        val_metrics = evaluate(model, val_loader, criterion, device)\n",
        "        val_losses.append(val_metrics[\"loss\"])\n",
        "        val_aucs.append(val_metrics[\"auc\"])\n",
        "\n",
        "        print(f\"Epoch {epoch+1}/{epochs}, Train Loss: {avg_train_loss:.4f}, Val Loss: {val_losses[-1]:.4f}, \"\n",
        "              f\"Train AUC: {train_aucs[-1]:.4f}, Val AUC: {val_aucs[-1]:.4f}\")\n",
        "\n",
        "        # Early Stopping\n",
        "        if early_stopping:\n",
        "            early_stopping.step(val_losses[-1])\n",
        "            if early_stopping.early_stop:\n",
        "                print(f\"Early stopping triggered at epoch {epoch+1}\")\n",
        "                break\n",
        "\n",
        "    # Plot learning curves\n",
        "    epochs_range = range(1, len(train_losses) + 1)\n",
        "\n",
        "    plt.figure(figsize=(15, 5))\n",
        "\n",
        "    # Plot loss curves\n",
        "    plt.subplot(1, 2, 1)\n",
        "    plt.plot(epochs_range, train_losses, 'bo-', label='Training Loss')\n",
        "    plt.plot(epochs_range, val_losses, 'ro-', label='Validation Loss')\n",
        "    plt.title('Learning Curves - Loss')\n",
        "    plt.xlabel('Epochs')\n",
        "    plt.ylabel('Loss')\n",
        "    plt.legend()\n",
        "    plt.grid(True, alpha=0.3)\n",
        "\n",
        "    # Plot AUC curves\n",
        "    plt.subplot(1, 2, 2)\n",
        "    plt.plot(epochs_range, train_aucs, 'bo-', label='Training AUC')\n",
        "    plt.plot(epochs_range, val_aucs, 'ro-', label='Validation AUC')\n",
        "    plt.title('Learning Curves - AUC-ROC')\n",
        "    plt.xlabel('Epochs')\n",
        "    plt.ylabel('AUC-ROC')\n",
        "    plt.legend()\n",
        "    plt.grid(True, alpha=0.3)\n",
        "\n",
        "    plt.tight_layout()\n",
        "    plt.savefig('learning_curves.png')\n",
        "    plt.show()\n",
        "\n",
        "    return train_losses, val_losses, train_aucs, val_aucs"
      ],
      "metadata": {
        "id": "42psZloej42G"
      },
      "execution_count": 10,
      "outputs": []
    },
    {
      "cell_type": "code",
      "source": [
        "# Prepare datasets for dropout rate selection\n",
        "train_dataset = ProteinDataset(train_sequences, train_labels, MAX_LEN)\n",
        "val_dataset = ProteinDataset(val_sequences, val_labels, MAX_LEN)\n",
        "\n",
        "\n",
        "# DataLoaders\n",
        "train_loader = DataLoader(train_dataset, batch_size=4,\n",
        "                         shuffle=True, collate_fn=collate_fn)\n",
        "val_loader = DataLoader(val_dataset, batch_size=4,\n",
        "                       collate_fn=collate_fn)\n"
      ],
      "metadata": {
        "id": "9YYajEAGkUuP"
      },
      "execution_count": 11,
      "outputs": []
    },
    {
      "cell_type": "code",
      "source": [
        "device = torch.device(\"cuda\" if torch.cuda.is_available() else \"cpu\")\n",
        "\n",
        "#Set up the selection of droupout rate\n",
        "dropouts = [0.3, 0.4, 0.5, 0.6]\n",
        "\n",
        "for dropout in dropouts:\n",
        "\n",
        "  # Load pretrained ESM model for selection of dropout rate\n",
        "  esm_model, _ = esm.pretrained.esm2_t6_8M_UR50D()\n",
        "  esm_model = esm_model.cuda()\n",
        "\n",
        "  tuning_model = ESMClassifier(\n",
        "      esm_model,\n",
        "      hidden_dim=128, #Taken from Optuna's hyperparameter tuning result\n",
        "      num_layers=2, #Taken from Optuna's hyperparameter tuning result\n",
        "      dropout=dropout\n",
        "  ).cuda()\n",
        "\n",
        "  optimizer = torch.optim.AdamW(tuning_model.parameters(), lr=8.293674908605468e-06)\n",
        "  criterion = nn.BCEWithLogitsLoss()\n",
        "\n",
        "  early_stopping = EarlyStopping(patience=3, min_delta=0.001)\n",
        "\n",
        "\n",
        "  # Training+Validation with learning curves\n",
        "  train_losses, val_losses, train_aucs, val_aucs = select_dropout_rate(\n",
        "      tuning_model,\n",
        "      train_loader,\n",
        "      val_loader,\n",
        "      optimizer,\n",
        "      criterion,\n",
        "      10, #Taken from Optuna's hyperparameter tuning result\n",
        "      device,\n",
        "      early_stopping=early_stopping\n",
        "  )\n",
        "\n",
        "  print(f\"Dropout Rate: {dropout}, Mean Train Loss: {np.mean(train_losses)}, Mean Train AUC: {np.mean(train_aucs)}, \"\n",
        "        f\"Smallest Validation Loss: {min(val_losses)}, Mean Validation Loss: {np.mean(val_losses)}, Mean Validation AUC: {np.mean(val_aucs)}\")\n",
        "\n",
        "\n"
      ],
      "metadata": {
        "id": "lL92xvBxkXvH",
        "colab": {
          "base_uri": "https://localhost:8080/",
          "height": 1000
        },
        "collapsed": true,
        "outputId": "fdff1f2a-5348-4f52-a05d-4a193db23e51"
      },
      "execution_count": 14,
      "outputs": [
        {
          "output_type": "stream",
          "name": "stderr",
          "text": [
            "Training: 100%|██████████| 2997/2997 [03:02<00:00, 16.39it/s]\n"
          ]
        },
        {
          "output_type": "stream",
          "name": "stdout",
          "text": [
            "loss        : 0.1190\n",
            "accuracy    : 0.9676\n",
            "auc         : 0.9896\n",
            "f1          : 0.9677\n",
            "precision   : 0.9664\n",
            "recall      : 0.9690\n",
            "mcc         : 0.9353\n",
            "loss        : 0.1259\n",
            "accuracy    : 0.9646\n",
            "auc         : 0.9896\n",
            "f1          : 0.9646\n",
            "precision   : 0.9646\n",
            "recall      : 0.9646\n",
            "mcc         : 0.9293\n",
            "Epoch 1/10, Train Loss: 0.2997, Val Loss: 0.1259, Train AUC: 0.9896, Val AUC: 0.9896\n"
          ]
        },
        {
          "output_type": "stream",
          "name": "stderr",
          "text": [
            "Training: 100%|██████████| 2997/2997 [03:01<00:00, 16.53it/s]\n"
          ]
        },
        {
          "output_type": "stream",
          "name": "stdout",
          "text": [
            "loss        : 0.0853\n",
            "accuracy    : 0.9759\n",
            "auc         : 0.9943\n",
            "f1          : 0.9761\n",
            "precision   : 0.9674\n",
            "recall      : 0.9850\n",
            "mcc         : 0.9519\n",
            "loss        : 0.1090\n",
            "accuracy    : 0.9656\n",
            "auc         : 0.9934\n",
            "f1          : 0.9663\n",
            "precision   : 0.9492\n",
            "recall      : 0.9840\n",
            "mcc         : 0.9319\n",
            "Epoch 2/10, Train Loss: 0.1167, Val Loss: 0.1090, Train AUC: 0.9943, Val AUC: 0.9934\n"
          ]
        },
        {
          "output_type": "stream",
          "name": "stderr",
          "text": [
            "Training: 100%|██████████| 2997/2997 [03:01<00:00, 16.53it/s]\n"
          ]
        },
        {
          "output_type": "stream",
          "name": "stdout",
          "text": [
            "loss        : 0.0523\n",
            "accuracy    : 0.9874\n",
            "auc         : 0.9974\n",
            "f1          : 0.9873\n",
            "precision   : 0.9931\n",
            "recall      : 0.9816\n",
            "mcc         : 0.9749\n",
            "loss        : 0.0737\n",
            "accuracy    : 0.9797\n",
            "auc         : 0.9952\n",
            "f1          : 0.9795\n",
            "precision   : 0.9871\n",
            "recall      : 0.9720\n",
            "mcc         : 0.9594\n",
            "Epoch 3/10, Train Loss: 0.0760, Val Loss: 0.0737, Train AUC: 0.9974, Val AUC: 0.9952\n"
          ]
        },
        {
          "output_type": "stream",
          "name": "stderr",
          "text": [
            "Training: 100%|██████████| 2997/2997 [03:01<00:00, 16.54it/s]\n"
          ]
        },
        {
          "output_type": "stream",
          "name": "stdout",
          "text": [
            "loss        : 0.0267\n",
            "accuracy    : 0.9941\n",
            "auc         : 0.9990\n",
            "f1          : 0.9941\n",
            "precision   : 0.9973\n",
            "recall      : 0.9908\n",
            "mcc         : 0.9882\n",
            "loss        : 0.0705\n",
            "accuracy    : 0.9817\n",
            "auc         : 0.9953\n",
            "f1          : 0.9816\n",
            "precision   : 0.9859\n",
            "recall      : 0.9773\n",
            "mcc         : 0.9633\n",
            "Epoch 4/10, Train Loss: 0.0495, Val Loss: 0.0705, Train AUC: 0.9990, Val AUC: 0.9953\n",
            "Early stopping triggered at epoch 4\n"
          ]
        },
        {
          "output_type": "display_data",
          "data": {
            "text/plain": [
              "<Figure size 1500x500 with 2 Axes>"
            ],
            "image/png": "[encoded data removed]"
          },
          "metadata": {}
        },
        {
          "output_type": "stream",
          "name": "stdout",
          "text": [
            "Dropout Rate: 0.3, Mean Train Loss: 0.13545770812169425, Mean Train AUC: 0.9950775349924499, Smallest Validation Loss: 0.07048840867634863, Mean Validation Loss: 0.0947823137298692, Mean Validation AUC: 0.993383514293051\n"
          ]
        },
        {
          "output_type": "stream",
          "name": "stderr",
          "text": [
            "Training: 100%|██████████| 2997/2997 [03:01<00:00, 16.47it/s]\n"
          ]
        },
        {
          "output_type": "stream",
          "name": "stdout",
          "text": [
            "loss        : 0.1597\n",
            "accuracy    : 0.9553\n",
            "auc         : 0.9834\n",
            "f1          : 0.9540\n",
            "precision   : 0.9816\n",
            "recall      : 0.9279\n",
            "mcc         : 0.9119\n",
            "loss        : 0.1717\n",
            "accuracy    : 0.9483\n",
            "auc         : 0.9826\n",
            "f1          : 0.9466\n",
            "precision   : 0.9793\n",
            "recall      : 0.9159\n",
            "mcc         : 0.8985\n",
            "Epoch 1/10, Train Loss: 0.3393, Val Loss: 0.1717, Train AUC: 0.9834, Val AUC: 0.9826\n"
          ]
        },
        {
          "output_type": "stream",
          "name": "stderr",
          "text": [
            "Training: 100%|██████████| 2997/2997 [03:02<00:00, 16.43it/s]\n"
          ]
        },
        {
          "output_type": "stream",
          "name": "stdout",
          "text": [
            "loss        : 0.0925\n",
            "accuracy    : 0.9758\n",
            "auc         : 0.9917\n",
            "f1          : 0.9758\n",
            "precision   : 0.9753\n",
            "recall      : 0.9763\n",
            "mcc         : 0.9516\n",
            "loss        : 0.1146\n",
            "accuracy    : 0.9670\n",
            "auc         : 0.9909\n",
            "f1          : 0.9671\n",
            "precision   : 0.9630\n",
            "recall      : 0.9713\n",
            "mcc         : 0.9340\n",
            "Epoch 2/10, Train Loss: 0.1385, Val Loss: 0.1146, Train AUC: 0.9917, Val AUC: 0.9909\n"
          ]
        },
        {
          "output_type": "stream",
          "name": "stderr",
          "text": [
            "Training: 100%|██████████| 2997/2997 [03:00<00:00, 16.58it/s]\n"
          ]
        },
        {
          "output_type": "stream",
          "name": "stdout",
          "text": [
            "loss        : 0.0669\n",
            "accuracy    : 0.9834\n",
            "auc         : 0.9950\n",
            "f1          : 0.9833\n",
            "precision   : 0.9914\n",
            "recall      : 0.9753\n",
            "mcc         : 0.9669\n",
            "loss        : 0.0916\n",
            "accuracy    : 0.9760\n",
            "auc         : 0.9918\n",
            "f1          : 0.9758\n",
            "precision   : 0.9831\n",
            "recall      : 0.9686\n",
            "mcc         : 0.9521\n",
            "Epoch 3/10, Train Loss: 0.0979, Val Loss: 0.0916, Train AUC: 0.9950, Val AUC: 0.9918\n"
          ]
        },
        {
          "output_type": "stream",
          "name": "stderr",
          "text": [
            "Training: 100%|██████████| 2997/2997 [03:01<00:00, 16.55it/s]\n"
          ]
        },
        {
          "output_type": "stream",
          "name": "stdout",
          "text": [
            "loss        : 0.0377\n",
            "accuracy    : 0.9915\n",
            "auc         : 0.9979\n",
            "f1          : 0.9915\n",
            "precision   : 0.9955\n",
            "recall      : 0.9875\n",
            "mcc         : 0.9830\n",
            "loss        : 0.0831\n",
            "accuracy    : 0.9753\n",
            "auc         : 0.9938\n",
            "f1          : 0.9752\n",
            "precision   : 0.9785\n",
            "recall      : 0.9720\n",
            "mcc         : 0.9507\n",
            "Epoch 4/10, Train Loss: 0.0653, Val Loss: 0.0831, Train AUC: 0.9979, Val AUC: 0.9938\n",
            "Early stopping triggered at epoch 4\n"
          ]
        },
        {
          "output_type": "display_data",
          "data": {
            "text/plain": [
              "<Figure size 1500x500 with 2 Axes>"
            ],
            "image/png": "[encoded data removed]"
          },
          "metadata": {}
        },
        {
          "output_type": "stream",
          "name": "stdout",
          "text": [
            "Dropout Rate: 0.4, Mean Train Loss: 0.16027249990962872, Mean Train AUC: 0.9919939438103437, Smallest Validation Loss: 0.08307141534394274, Mean Validation Loss: 0.11526020950645519, Mean Validation AUC: 0.9897567357557918\n"
          ]
        },
        {
          "output_type": "stream",
          "name": "stderr",
          "text": [
            "Training: 100%|██████████| 2997/2997 [03:02<00:00, 16.44it/s]\n"
          ]
        },
        {
          "output_type": "stream",
          "name": "stdout",
          "text": [
            "loss        : 0.1449\n",
            "accuracy    : 0.9618\n",
            "auc         : 0.9863\n",
            "f1          : 0.9618\n",
            "precision   : 0.9618\n",
            "recall      : 0.9618\n",
            "mcc         : 0.9236\n",
            "loss        : 0.1464\n",
            "accuracy    : 0.9630\n",
            "auc         : 0.9872\n",
            "f1          : 0.9629\n",
            "precision   : 0.9639\n",
            "recall      : 0.9620\n",
            "mcc         : 0.9260\n",
            "Epoch 1/10, Train Loss: 0.3501, Val Loss: 0.1464, Train AUC: 0.9863, Val AUC: 0.9872\n"
          ]
        },
        {
          "output_type": "stream",
          "name": "stderr",
          "text": [
            "Training: 100%|██████████| 2997/2997 [03:02<00:00, 16.43it/s]\n"
          ]
        },
        {
          "output_type": "stream",
          "name": "stdout",
          "text": [
            "loss        : 0.1033\n",
            "accuracy    : 0.9712\n",
            "auc         : 0.9913\n",
            "f1          : 0.9710\n",
            "precision   : 0.9782\n",
            "recall      : 0.9640\n",
            "mcc         : 0.9425\n",
            "loss        : 0.1214\n",
            "accuracy    : 0.9650\n",
            "auc         : 0.9902\n",
            "f1          : 0.9648\n",
            "precision   : 0.9709\n",
            "recall      : 0.9586\n",
            "mcc         : 0.9300\n",
            "Epoch 2/10, Train Loss: 0.1435, Val Loss: 0.1214, Train AUC: 0.9913, Val AUC: 0.9902\n"
          ]
        },
        {
          "output_type": "stream",
          "name": "stderr",
          "text": [
            "Training: 100%|██████████| 2997/2997 [03:01<00:00, 16.48it/s]\n"
          ]
        },
        {
          "output_type": "stream",
          "name": "stdout",
          "text": [
            "loss        : 0.0795\n",
            "accuracy    : 0.9768\n",
            "auc         : 0.9951\n",
            "f1          : 0.9765\n",
            "precision   : 0.9916\n",
            "recall      : 0.9618\n",
            "mcc         : 0.9541\n",
            "loss        : 0.1035\n",
            "accuracy    : 0.9703\n",
            "auc         : 0.9929\n",
            "f1          : 0.9699\n",
            "precision   : 0.9849\n",
            "recall      : 0.9553\n",
            "mcc         : 0.9411\n",
            "Epoch 3/10, Train Loss: 0.1001, Val Loss: 0.1035, Train AUC: 0.9951, Val AUC: 0.9929\n"
          ]
        },
        {
          "output_type": "stream",
          "name": "stderr",
          "text": [
            "Training: 100%|██████████| 2997/2997 [03:02<00:00, 16.46it/s]\n"
          ]
        },
        {
          "output_type": "stream",
          "name": "stdout",
          "text": [
            "loss        : 0.0425\n",
            "accuracy    : 0.9887\n",
            "auc         : 0.9975\n",
            "f1          : 0.9888\n",
            "precision   : 0.9862\n",
            "recall      : 0.9913\n",
            "mcc         : 0.9775\n",
            "loss        : 0.0945\n",
            "accuracy    : 0.9760\n",
            "auc         : 0.9939\n",
            "f1          : 0.9762\n",
            "precision   : 0.9673\n",
            "recall      : 0.9853\n",
            "mcc         : 0.9521\n",
            "Epoch 4/10, Train Loss: 0.0716, Val Loss: 0.0945, Train AUC: 0.9975, Val AUC: 0.9939\n",
            "Early stopping triggered at epoch 4\n"
          ]
        },
        {
          "output_type": "display_data",
          "data": {
            "text/plain": [
              "<Figure size 1500x500 with 2 Axes>"
            ],
            "image/png": "[encoded data removed]"
          },
          "metadata": {}
        },
        {
          "output_type": "stream",
          "name": "stdout",
          "text": [
            "Dropout Rate: 0.5, Mean Train Loss: 0.16629428728258905, Mean Train AUC: 0.9925497701850443, Smallest Validation Loss: 0.09446871628860633, Mean Validation Loss: 0.11644849568015586, Mean Validation AUC: 0.9910445077683544\n"
          ]
        },
        {
          "output_type": "stream",
          "name": "stderr",
          "text": [
            "Training: 100%|██████████| 2997/2997 [03:01<00:00, 16.49it/s]\n"
          ]
        },
        {
          "output_type": "stream",
          "name": "stdout",
          "text": [
            "loss        : 0.1774\n",
            "accuracy    : 0.9560\n",
            "auc         : 0.9837\n",
            "f1          : 0.9557\n",
            "precision   : 0.9631\n",
            "recall      : 0.9484\n",
            "mcc         : 0.9122\n",
            "loss        : 0.1804\n",
            "accuracy    : 0.9536\n",
            "auc         : 0.9846\n",
            "f1          : 0.9534\n",
            "precision   : 0.9588\n",
            "recall      : 0.9480\n",
            "mcc         : 0.9073\n",
            "Epoch 1/10, Train Loss: 0.4116, Val Loss: 0.1804, Train AUC: 0.9837, Val AUC: 0.9846\n"
          ]
        },
        {
          "output_type": "stream",
          "name": "stderr",
          "text": [
            "Training: 100%|██████████| 2997/2997 [03:01<00:00, 16.47it/s]\n"
          ]
        },
        {
          "output_type": "stream",
          "name": "stdout",
          "text": [
            "loss        : 0.1032\n",
            "accuracy    : 0.9730\n",
            "auc         : 0.9917\n",
            "f1          : 0.9726\n",
            "precision   : 0.9858\n",
            "recall      : 0.9598\n",
            "mcc         : 0.9463\n",
            "loss        : 0.1148\n",
            "accuracy    : 0.9696\n",
            "auc         : 0.9921\n",
            "f1          : 0.9692\n",
            "precision   : 0.9829\n",
            "recall      : 0.9560\n",
            "mcc         : 0.9396\n",
            "Epoch 2/10, Train Loss: 0.1697, Val Loss: 0.1148, Train AUC: 0.9917, Val AUC: 0.9921\n"
          ]
        },
        {
          "output_type": "stream",
          "name": "stderr",
          "text": [
            "Training: 100%|██████████| 2997/2997 [03:01<00:00, 16.52it/s]\n"
          ]
        },
        {
          "output_type": "stream",
          "name": "stdout",
          "text": [
            "loss        : 0.0623\n",
            "accuracy    : 0.9842\n",
            "auc         : 0.9962\n",
            "f1          : 0.9841\n",
            "precision   : 0.9895\n",
            "recall      : 0.9788\n",
            "mcc         : 0.9685\n",
            "loss        : 0.0879\n",
            "accuracy    : 0.9733\n",
            "auc         : 0.9940\n",
            "f1          : 0.9733\n",
            "precision   : 0.9733\n",
            "recall      : 0.9733\n",
            "mcc         : 0.9466\n",
            "Epoch 3/10, Train Loss: 0.1143, Val Loss: 0.0879, Train AUC: 0.9962, Val AUC: 0.9940\n"
          ]
        },
        {
          "output_type": "stream",
          "name": "stderr",
          "text": [
            "Training: 100%|██████████| 2997/2997 [03:01<00:00, 16.55it/s]\n"
          ]
        },
        {
          "output_type": "stream",
          "name": "stdout",
          "text": [
            "loss        : 0.0482\n",
            "accuracy    : 0.9864\n",
            "auc         : 0.9978\n",
            "f1          : 0.9864\n",
            "precision   : 0.9879\n",
            "recall      : 0.9848\n",
            "mcc         : 0.9728\n",
            "loss        : 0.0860\n",
            "accuracy    : 0.9746\n",
            "auc         : 0.9938\n",
            "f1          : 0.9748\n",
            "precision   : 0.9690\n",
            "recall      : 0.9807\n",
            "mcc         : 0.9494\n",
            "Epoch 4/10, Train Loss: 0.0755, Val Loss: 0.0860, Train AUC: 0.9978, Val AUC: 0.9938\n",
            "Early stopping triggered at epoch 4\n"
          ]
        },
        {
          "output_type": "display_data",
          "data": {
            "text/plain": [
              "<Figure size 1500x500 with 2 Axes>"
            ],
            "image/png": "[encoded data removed]"
          },
          "metadata": {}
        },
        {
          "output_type": "stream",
          "name": "stdout",
          "text": [
            "Dropout Rate: 0.6, Mean Train Loss: 0.19279240434286646, Mean Train AUC: 0.9923540108064911, Smallest Validation Loss: 0.08596901450430354, Mean Validation Loss: 0.11728867188158135, Mean Validation AUC: 0.9911304556606784\n"
          ]
        }
      ]
    },
    {
      "cell_type": "code",
      "source": [
        "#Define the best parameters for training base on Optuna and dropout rate selection result\n",
        "best_params = {'hidden_dim': 128, 'num_layers': 2, 'dropout': 0.3, 'lr': 8.293674908605468e-06, 'batch_size': 4, 'max_epochs': 4}"
      ],
      "metadata": {
        "id": "-AgltnPr6rxv"
      },
      "execution_count": 15,
      "outputs": []
    },
    {
      "cell_type": "code",
      "source": [
        "#Final Training function using all training data\n",
        "def train_final_model(model, train_loader, optimizer, criterion, epochs, device):\n",
        "    model.train()\n",
        "    train_losses = []\n",
        "    train_aucs = []\n",
        "\n",
        "    for epoch in range(epochs):\n",
        "        # Train\n",
        "        model.train()\n",
        "        total_loss = 0\n",
        "        progress_bar = tqdm(train_loader, desc=\"Training\")\n",
        "        for x, y in progress_bar:\n",
        "            x = x.to(device)\n",
        "            y = y.to(device)\n",
        "            optimizer.zero_grad()\n",
        "            logits = model(x)\n",
        "            loss = criterion(logits, y.float())\n",
        "            loss.backward()\n",
        "            optimizer.step()\n",
        "            total_loss += loss.item() * x.size(0)\n",
        "\n",
        "        avg_train_loss = total_loss / len(train_loader.dataset)\n",
        "        train_losses.append(avg_train_loss)\n",
        "\n",
        "\n",
        "        print(f\"Epoch {epoch+1}/{epochs}, Train Loss: {avg_train_loss:.4f}\")\n",
        "\n",
        "\n",
        "\n",
        "    return train_losses"
      ],
      "metadata": {
        "id": "mXlOynWorUgP"
      },
      "execution_count": 16,
      "outputs": []
    },
    {
      "cell_type": "code",
      "source": [
        "# Define a function to create a model with the best parameters\n",
        "def create_best_model(esm_model):\n",
        "    return ESMClassifier(\n",
        "        esm_model,\n",
        "        hidden_dim=best_params[\"hidden_dim\"],\n",
        "        num_layers=best_params[\"num_layers\"],\n",
        "        dropout=best_params[\"dropout\"]\n",
        "    )"
      ],
      "metadata": {
        "id": "W6dneILmUqR8"
      },
      "execution_count": 17,
      "outputs": []
    },
    {
      "cell_type": "code",
      "source": [
        "# Extract sequences and labels for final training\n",
        "final_train_sequences = df_train[\"sequence\"].tolist()\n",
        "final_train_labels = df_train[\"label\"].tolist()\n"
      ],
      "metadata": {
        "id": "nDDwRuZaqc07"
      },
      "execution_count": 18,
      "outputs": []
    },
    {
      "cell_type": "code",
      "source": [
        "# Prepare datasets for final training using all training data and evaluate on hold-out test set\n",
        "final_train_dataset = ProteinDataset(final_train_sequences, final_train_labels, MAX_LEN)\n",
        "\n",
        "test_dataset = ProteinDataset(test_sequences, test_labels, MAX_LEN)\n",
        "\n",
        "# DataLoaders\n",
        "final_train_loader = DataLoader(final_train_dataset, batch_size=best_params[\"batch_size\"],\n",
        "                         shuffle=True, collate_fn=collate_fn)\n",
        "\n",
        "test_loader = DataLoader(test_dataset, batch_size=best_params[\"batch_size\"],\n",
        "                        collate_fn=collate_fn)"
      ],
      "metadata": {
        "id": "GiNPaIfbKzPv"
      },
      "execution_count": 19,
      "outputs": []
    },
    {
      "cell_type": "code",
      "source": [
        "device = torch.device(\"cuda\" if torch.cuda.is_available() else \"cpu\")\n",
        "# Load pretrained ESM model for final training\n",
        "esm_model, _ = esm.pretrained.esm2_t6_8M_UR50D()\n",
        "esm_model = esm_model.cuda()\n",
        "\n",
        "# Initialize final classifier\n",
        "final_model = create_best_model(esm_model).cuda()\n",
        "\n",
        "# Optimizer and loss\n",
        "optimizer = torch.optim.AdamW(final_model.parameters(), lr=best_params[\"lr\"])\n",
        "criterion = nn.BCEWithLogitsLoss()\n",
        "\n",
        "# Final Training with learning curves\n",
        "train_losses = train_final_model(\n",
        "    final_model,\n",
        "    final_train_loader,\n",
        "    optimizer,\n",
        "    criterion,\n",
        "    best_params[\"max_epochs\"],\n",
        "    device\n",
        ")\n",
        "\n",
        "\n"
      ],
      "metadata": {
        "id": "ABY3T8LE8q6y",
        "colab": {
          "base_uri": "https://localhost:8080/"
        },
        "outputId": "c073034a-33cc-4ebf-89ab-61c6f43e0232",
        "collapsed": true
      },
      "execution_count": 20,
      "outputs": [
        {
          "output_type": "stream",
          "name": "stderr",
          "text": [
            "Training: 100%|██████████| 3747/3747 [03:46<00:00, 16.58it/s]\n"
          ]
        },
        {
          "output_type": "stream",
          "name": "stdout",
          "text": [
            "Epoch 1/4, Train Loss: 0.2763\n"
          ]
        },
        {
          "output_type": "stream",
          "name": "stderr",
          "text": [
            "Training: 100%|██████████| 3747/3747 [03:46<00:00, 16.55it/s]\n"
          ]
        },
        {
          "output_type": "stream",
          "name": "stdout",
          "text": [
            "Epoch 2/4, Train Loss: 0.1111\n"
          ]
        },
        {
          "output_type": "stream",
          "name": "stderr",
          "text": [
            "Training: 100%|██████████| 3747/3747 [03:46<00:00, 16.55it/s]\n"
          ]
        },
        {
          "output_type": "stream",
          "name": "stdout",
          "text": [
            "Epoch 3/4, Train Loss: 0.0719\n"
          ]
        },
        {
          "output_type": "stream",
          "name": "stderr",
          "text": [
            "Training: 100%|██████████| 3747/3747 [03:46<00:00, 16.56it/s]"
          ]
        },
        {
          "output_type": "stream",
          "name": "stdout",
          "text": [
            "Epoch 4/4, Train Loss: 0.0448\n"
          ]
        },
        {
          "output_type": "stream",
          "name": "stderr",
          "text": [
            "\n"
          ]
        }
      ]
    },
    {
      "cell_type": "code",
      "source": [
        "# Evaluate on Test set\n",
        "print(\"\\n📊 Final Evaluation on Test Set:\")\n",
        "final_metrics = evaluate(final_model, test_loader, criterion, device)"
      ],
      "metadata": {
        "colab": {
          "base_uri": "https://localhost:8080/"
        },
        "id": "3I40BX0hGlWB",
        "outputId": "ecb601cd-3cfa-4ed4-b24e-815b7fc09481",
        "collapsed": true
      },
      "execution_count": 21,
      "outputs": [
        {
          "output_type": "stream",
          "name": "stdout",
          "text": [
            "\n",
            "📊 Final Evaluation on Test Set:\n",
            "loss        : 0.5835\n",
            "accuracy    : 0.8316\n",
            "auc         : 0.9476\n",
            "f1          : 0.8033\n",
            "precision   : 0.9658\n",
            "recall      : 0.6876\n",
            "mcc         : 0.6926\n"
          ]
        }
      ]
    },
    {
      "cell_type": "code",
      "source": [
        "def perform_y_scrambling(model_fn, train_data, test_data, best_params, device, n_iterations=5):\n",
        "    \"\"\"\n",
        "    Perform Y-scrambling to validate the model's performance using the test dataset.\n",
        "\n",
        "    Args:\n",
        "        model_fn: Function to create a new model\n",
        "        train_data: Training dataset\n",
        "        test_data: Test dataset for evaluation\n",
        "        best_params: Best hyperparameters from optimization\n",
        "        device: Device as string (\"cuda\" or \"cpu\")\n",
        "        n_iterations: Number of scrambling iterations\n",
        "\n",
        "    Returns:\n",
        "        Tuple of real_scores and scrambled_scores\n",
        "    \"\"\"\n",
        "    print(\"\\n🔀 Performing Y-Scrambling Analysis\")\n",
        "    real_scores = []\n",
        "    scrambled_scores = []\n",
        "\n",
        "    # Create DataLoader for test dataset (evaluation)\n",
        "    eval_loader = DataLoader(test_data, batch_size=best_params[\"batch_size\"],\n",
        "                             collate_fn=collate_fn)\n",
        "\n",
        "    # --- Train real model on unshuffled data (once) ---\n",
        "    real_train_loader = DataLoader(train_data, batch_size=best_params[\"batch_size\"],\n",
        "                                   shuffle=True, collate_fn=collate_fn)\n",
        "\n",
        "    def train_model(train_loader):\n",
        "        esm_model, _ = esm.pretrained.esm2_t6_8M_UR50D()\n",
        "        esm_model = esm_model.to(device)\n",
        "        model = model_fn(esm_model).to(device)\n",
        "\n",
        "        optimizer = torch.optim.AdamW(model.parameters(), lr=best_params[\"lr\"])\n",
        "        criterion = nn.BCEWithLogitsLoss()\n",
        "        scaler = GradScaler()\n",
        "\n",
        "        for _ in range(1): #best_params[\"max_epochs\"]\n",
        "            train_epoch(model, train_loader, criterion, optimizer, scaler, device)\n",
        "\n",
        "        return model\n",
        "\n",
        "    print(\"\\n🔁 Training real model for comparison...\")\n",
        "    real_model = train_model(real_train_loader)\n",
        "    criterion = nn.BCEWithLogitsLoss()\n",
        "    real_metrics = evaluate(real_model, eval_loader, criterion, device)\n",
        "    real_scores.append(real_metrics[\"auc\"])\n",
        "\n",
        "    # --- Perform scrambling ---\n",
        "    for i in range(n_iterations):\n",
        "        print(f\"\\nScrambling Iteration {i+1}/{n_iterations}\")\n",
        "\n",
        "        # Get sequences and labels from training data\n",
        "        train_seqs, train_labels = zip(*train_data)\n",
        "\n",
        "        # Shuffle labels\n",
        "        shuffled_labels = random.sample(train_labels, len(train_labels))\n",
        "\n",
        "        # Create new dataset that returns (x, y) tuples\n",
        "        scrambled_data = ProteinDataset(train_seqs, shuffled_labels, max_length=MAX_LEN)\n",
        "\n",
        "        # Use the same collate_fn to ensure format matches original training\n",
        "        scrambled_loader = DataLoader(scrambled_data, batch_size=best_params[\"batch_size\"],\n",
        "                                      shuffle=True, collate_fn=collate_fn)\n",
        "\n",
        "        # Train model on scrambled labels\n",
        "        scrambled_model = train_model(scrambled_loader)\n",
        "        scrambled_metrics = evaluate(scrambled_model, eval_loader, criterion, device)\n",
        "        scrambled_scores.append(scrambled_metrics[\"auc\"])\n",
        "\n",
        "        print(f\"Real AUC: {real_scores[0]:.4f}, Scrambled AUC: {scrambled_scores[-1]:.4f}\")\n",
        "\n",
        "    # --- Plot ---\n",
        "    plt.figure(figsize=(10, 6))\n",
        "    plt.axhline(y=real_scores[0], color='r', linestyle='-', label=f'Real Data (AUC={real_scores[0]:.4f})')\n",
        "    plt.axhline(y=0.5, color='k', linestyle='--', label='Random Chance')\n",
        "    plt.plot(range(1, n_iterations+1), scrambled_scores, 'bo-', label='Scrambled Data')\n",
        "    plt.xlabel('Iteration')\n",
        "    plt.ylabel('AUC-ROC Score')\n",
        "    plt.title('Y-Scrambling Analysis')\n",
        "    plt.legend()\n",
        "    plt.grid(True, alpha=0.3)\n",
        "    plt.savefig('y_scrambling_results.png')\n",
        "    plt.show()\n",
        "\n",
        "    # --- Summary ---\n",
        "    mean_scrambled = np.mean(scrambled_scores)\n",
        "    std_scrambled = np.std(scrambled_scores)\n",
        "\n",
        "    print(f\"\\nY-Scrambling Results:\")\n",
        "    print(f\"Real Data AUC: {real_scores[0]:.4f}\")\n",
        "    print(f\"Scrambled Data Mean AUC: {mean_scrambled:.4f} ± {std_scrambled:.4f}\")\n",
        "    print(f\"Performance Gap: {real_scores[0] - mean_scrambled:.4f}\")\n",
        "\n",
        "    if real_scores[0] > mean_scrambled + 2 * std_scrambled:\n",
        "        print(\"✅ The model performance is significantly better than random chance.\")\n",
        "    else:\n",
        "        print(\"⚠️ The model may be finding patterns in random noise.\")\n",
        "\n",
        "    return real_scores, scrambled_scores\n"
      ],
      "metadata": {
        "id": "QC1C81OM523K"
      },
      "execution_count": 23,
      "outputs": []
    },
    {
      "cell_type": "code",
      "source": [
        "device = \"cuda\" if torch.cuda.is_available() else \"cpu\"\n",
        "# Now perform Y-scrambling to validate the model's performance\n",
        "print(\"\\n🔍 Validating model with Y-scrambling...\")\n",
        "real_scores, scrambled_scores = perform_y_scrambling(\n",
        "    create_best_model,\n",
        "    train_dataset,\n",
        "    test_dataset,\n",
        "    best_params,\n",
        "    device=device,\n",
        "    n_iterations=5, #add more interations later\n",
        ")\n"
      ],
      "metadata": {
        "id": "JxT7j8i68uv2",
        "colab": {
          "base_uri": "https://localhost:8080/",
          "height": 1000
        },
        "outputId": "460f1808-509f-4e56-f746-e625087b55d9",
        "collapsed": true
      },
      "execution_count": 24,
      "outputs": [
        {
          "output_type": "stream",
          "name": "stderr",
          "text": [
            "<ipython-input-23-1abf43e3d6aa>:35: FutureWarning: `torch.cuda.amp.GradScaler(args...)` is deprecated. Please use `torch.amp.GradScaler('cuda', args...)` instead.\n",
            "  scaler = GradScaler()\n"
          ]
        },
        {
          "output_type": "stream",
          "name": "stdout",
          "text": [
            "\n",
            "🔍 Validating model with Y-scrambling...\n",
            "\n",
            "🔀 Performing Y-Scrambling Analysis\n",
            "\n",
            "🔁 Training real model for comparison...\n"
          ]
        },
        {
          "output_type": "stream",
          "name": "stderr",
          "text": [
            "Training: 100%|██████████| 2997/2997 [02:40<00:00, 18.67it/s, loss=0.0335, acc=0.9226]\n",
            "<ipython-input-23-1abf43e3d6aa>:35: FutureWarning: `torch.cuda.amp.GradScaler(args...)` is deprecated. Please use `torch.amp.GradScaler('cuda', args...)` instead.\n",
            "  scaler = GradScaler()\n"
          ]
        },
        {
          "output_type": "stream",
          "name": "stdout",
          "text": [
            "loss        : 0.3861\n",
            "accuracy    : 0.8538\n",
            "auc         : 0.9461\n",
            "f1          : 0.8360\n",
            "precision   : 0.9517\n",
            "recall      : 0.7454\n",
            "mcc         : 0.7248\n",
            "\n",
            "Scrambling Iteration 1/5\n"
          ]
        },
        {
          "output_type": "stream",
          "name": "stderr",
          "text": [
            "Training: 100%|██████████| 2997/2997 [02:41<00:00, 18.54it/s, loss=0.6974, acc=0.4999]\n",
            "<ipython-input-23-1abf43e3d6aa>:35: FutureWarning: `torch.cuda.amp.GradScaler(args...)` is deprecated. Please use `torch.amp.GradScaler('cuda', args...)` instead.\n",
            "  scaler = GradScaler()\n"
          ]
        },
        {
          "output_type": "stream",
          "name": "stdout",
          "text": [
            "loss        : 0.6908\n",
            "accuracy    : 0.5016\n",
            "auc         : 0.8122\n",
            "f1          : 0.6671\n",
            "precision   : 0.5008\n",
            "recall      : 0.9989\n",
            "mcc         : 0.0312\n",
            "Real AUC: 0.9461, Scrambled AUC: 0.8122\n",
            "\n",
            "Scrambling Iteration 2/5\n"
          ]
        },
        {
          "output_type": "stream",
          "name": "stderr",
          "text": [
            "Training: 100%|██████████| 2997/2997 [02:40<00:00, 18.63it/s, loss=0.6750, acc=0.4992]\n",
            "<ipython-input-23-1abf43e3d6aa>:35: FutureWarning: `torch.cuda.amp.GradScaler(args...)` is deprecated. Please use `torch.amp.GradScaler('cuda', args...)` instead.\n",
            "  scaler = GradScaler()\n"
          ]
        },
        {
          "output_type": "stream",
          "name": "stdout",
          "text": [
            "loss        : 0.6932\n",
            "accuracy    : 0.4995\n",
            "auc         : 0.5356\n",
            "f1          : 0.0000\n",
            "precision   : 0.0000\n",
            "recall      : 0.0000\n",
            "mcc         : -0.0233\n",
            "Real AUC: 0.9461, Scrambled AUC: 0.5356\n",
            "\n",
            "Scrambling Iteration 3/5\n"
          ]
        },
        {
          "output_type": "stream",
          "name": "stderr",
          "text": [
            "Training: 100%|██████████| 2997/2997 [02:41<00:00, 18.61it/s, loss=0.7113, acc=0.4995]\n",
            "<ipython-input-23-1abf43e3d6aa>:35: FutureWarning: `torch.cuda.amp.GradScaler(args...)` is deprecated. Please use `torch.amp.GradScaler('cuda', args...)` instead.\n",
            "  scaler = GradScaler()\n"
          ]
        },
        {
          "output_type": "stream",
          "name": "stdout",
          "text": [
            "loss        : 0.6929\n",
            "accuracy    : 0.5397\n",
            "auc         : 0.5204\n",
            "f1          : 0.6517\n",
            "precision   : 0.5242\n",
            "recall      : 0.8611\n",
            "mcc         : 0.1037\n",
            "Real AUC: 0.9461, Scrambled AUC: 0.5204\n",
            "\n",
            "Scrambling Iteration 4/5\n"
          ]
        },
        {
          "output_type": "stream",
          "name": "stderr",
          "text": [
            "Training: 100%|██████████| 2997/2997 [02:41<00:00, 18.58it/s, loss=0.6880, acc=0.5018]\n",
            "<ipython-input-23-1abf43e3d6aa>:35: FutureWarning: `torch.cuda.amp.GradScaler(args...)` is deprecated. Please use `torch.amp.GradScaler('cuda', args...)` instead.\n",
            "  scaler = GradScaler()\n"
          ]
        },
        {
          "output_type": "stream",
          "name": "stdout",
          "text": [
            "loss        : 0.6914\n",
            "accuracy    : 0.5251\n",
            "auc         : 0.6032\n",
            "f1          : 0.6688\n",
            "precision   : 0.5135\n",
            "recall      : 0.9589\n",
            "mcc         : 0.1011\n",
            "Real AUC: 0.9461, Scrambled AUC: 0.6032\n",
            "\n",
            "Scrambling Iteration 5/5\n"
          ]
        },
        {
          "output_type": "stream",
          "name": "stderr",
          "text": [
            "Training: 100%|██████████| 2997/2997 [02:41<00:00, 18.51it/s, loss=0.7023, acc=0.5009]\n"
          ]
        },
        {
          "output_type": "stream",
          "name": "stdout",
          "text": [
            "loss        : 0.6998\n",
            "accuracy    : 0.3086\n",
            "auc         : 0.2203\n",
            "f1          : 0.4149\n",
            "precision   : 0.3596\n",
            "recall      : 0.4903\n",
            "mcc         : -0.4108\n",
            "Real AUC: 0.9461, Scrambled AUC: 0.2203\n"
          ]
        },
        {
          "output_type": "display_data",
          "data": {
            "text/plain": [
              "<Figure size 1000x600 with 1 Axes>"
            ],
            "image/png": "[encoded data removed]"
          },
          "metadata": {}
        },
        {
          "output_type": "stream",
          "name": "stdout",
          "text": [
            "\n",
            "Y-Scrambling Results:\n",
            "Real Data AUC: 0.9461\n",
            "Scrambled Data Mean AUC: 0.5383 ± 0.1901\n",
            "Performance Gap: 0.4078\n",
            "✅ The model performance is significantly better than random chance.\n"
          ]
        }
      ]
    },
    {
      "cell_type": "code",
      "source": [
        "# Save the model including additional metadata for interpretability\n",
        "torch.save({\n",
        "    'model_state_dict': final_model.state_dict(),\n",
        "    'esm_model_name': 'esm2_t6_8M_UR50D',  # Store which ESM version was used\n",
        "    'optimizer_state_dict': optimizer.state_dict(),\n",
        "    'hyperparameters': best_params,\n",
        "    'test_metrics': final_metrics,\n",
        "    'alphabet': alphabet.__dict__,  # Save alphabet for correct tokenization later\n",
        "    'model_architecture': {\n",
        "        'hidden_dim': best_params[\"hidden_dim\"],\n",
        "        'num_layers': best_params.get(\"num_layers\", 1),\n",
        "        'dropout': best_params[\"dropout\"]\n",
        "    }\n",
        "}, 'fine-tuned_esm2_allergen_classifier-final_version.pt')\n",
        "\n",
        "print(\"\\n✅ Model training complete and saved to 'fine-tuned_esm2_allergen_classifier-final_version.pt'\")\n",
        "print(\"The saved model contains all necessary metadata for later interpretability analysis.\")"
      ],
      "metadata": {
        "id": "7Zp8e9QCA3sX",
        "colab": {
          "base_uri": "https://localhost:8080/"
        },
        "outputId": "67b81dd1-1974-4574-efb3-9243ab7d5fce",
        "collapsed": true
      },
      "execution_count": 22,
      "outputs": [
        {
          "output_type": "stream",
          "name": "stdout",
          "text": [
            "\n",
            "✅ Model training complete and saved to 'fine-tuned_esm2_allergen_classifier-final_version.pt'\n",
            "The saved model contains all necessary metadata for later interpretability analysis.\n"
          ]
        }
      ]
    }
  ]
}