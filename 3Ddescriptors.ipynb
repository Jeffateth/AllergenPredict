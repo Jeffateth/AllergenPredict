{
  "nbformat": 4,
  "nbformat_minor": 0,
  "metadata": {
    "colab": {
      "provenance": [],
      "authorship_tag": "ABX9TyOwDC9r1Ua+FdOggGJl7RT4",
      "include_colab_link": true
    },
    "kernelspec": {
      "name": "python3",
      "display_name": "Python 3"
    },
    "language_info": {
      "name": "python"
    }
  },
  "cells": [
    {
      "cell_type": "markdown",
      "metadata": {
        "id": "view-in-github",
        "colab_type": "text"
      },
      "source": [
        "<a href=\"https://colab.research.google.com/github/Jeffateth/AllergenPredict/blob/main/3Ddescriptors.ipynb\" target=\"_parent\"><img src=\"https://colab.research.google.com/assets/colab-badge.svg\" alt=\"Open In Colab\"/></a>"
      ]
    },
    {
      "cell_type": "code",
      "execution_count": 1,
      "metadata": {
        "colab": {
          "base_uri": "https://localhost:8080/"
        },
        "id": "urLydM6SSNdD",
        "outputId": "226013a3-7147-4125-8819-2d04a2b73afe"
      },
      "outputs": [
        {
          "output_type": "stream",
          "name": "stdout",
          "text": [
            "Requirement already satisfied: numpy in /usr/local/lib/python3.11/dist-packages (2.0.2)\n",
            "Requirement already satisfied: pandas in /usr/local/lib/python3.11/dist-packages (2.2.2)\n",
            "Requirement already satisfied: mdtraj in /usr/local/lib/python3.11/dist-packages (1.10.3)\n",
            "Requirement already satisfied: biopython in /usr/local/lib/python3.11/dist-packages (1.85)\n",
            "Requirement already satisfied: python-dateutil>=2.8.2 in /usr/local/lib/python3.11/dist-packages (from pandas) (2.9.0.post0)\n",
            "Requirement already satisfied: pytz>=2020.1 in /usr/local/lib/python3.11/dist-packages (from pandas) (2025.2)\n",
            "Requirement already satisfied: tzdata>=2022.7 in /usr/local/lib/python3.11/dist-packages (from pandas) (2025.2)\n",
            "Requirement already satisfied: scipy in /usr/local/lib/python3.11/dist-packages (from mdtraj) (1.15.2)\n",
            "Requirement already satisfied: pyparsing in /usr/local/lib/python3.11/dist-packages (from mdtraj) (3.2.3)\n",
            "Requirement already satisfied: packaging in /usr/local/lib/python3.11/dist-packages (from mdtraj) (24.2)\n",
            "Requirement already satisfied: netCDF4 in /usr/local/lib/python3.11/dist-packages (from mdtraj) (1.7.2)\n",
            "Requirement already satisfied: six>=1.5 in /usr/local/lib/python3.11/dist-packages (from python-dateutil>=2.8.2->pandas) (1.17.0)\n",
            "Requirement already satisfied: cftime in /usr/local/lib/python3.11/dist-packages (from netCDF4->mdtraj) (1.6.4.post1)\n",
            "Requirement already satisfied: certifi in /usr/local/lib/python3.11/dist-packages (from netCDF4->mdtraj) (2025.1.31)\n"
          ]
        }
      ],
      "source": [
        "!pip install numpy pandas mdtraj biopython\n",
        "#!pip install git+https://github.com/openmm/pdbfixer.git"
      ]
    },
    {
      "cell_type": "code",
      "source": [
        "!rm analyze_protein.py\n",
        "!touch analyze_protein.py"
      ],
      "metadata": {
        "id": "2rD-OBG2STjr"
      },
      "execution_count": 2,
      "outputs": []
    },
    {
      "cell_type": "code",
      "source": [
        "%%writefile analyze_protein.py\n",
        "#!/usr/bin/env python3\n",
        "\"\"\"\n",
        "Compute global 3D descriptors for a protein structure (PDB).\n",
        "Includes total SASA, secondary structure content, contact order,\n",
        "radius of gyration, compactness, and contact map.\n",
        "\n",
        "Usage:\n",
        "    python analyze_protein.py <structure.pdb>\n",
        "\"\"\"\n",
        "\n",
        "import sys\n",
        "import os\n",
        "import subprocess\n",
        "import matplotlib.pyplot as plt\n",
        "\n",
        "# Auto-install required packages\n",
        "def install(pkg):\n",
        "    subprocess.check_call([sys.executable, \"-m\", \"pip\", \"install\", pkg])\n",
        "\n",
        "for pkg in (\"numpy\", \"pandas\", \"mdtraj\", \"matplotlib\"):\n",
        "    try: __import__(pkg)\n",
        "    except ImportError: install(pkg)\n",
        "\n",
        "import numpy as np\n",
        "import pandas as pd\n",
        "import mdtraj as md\n",
        "\n",
        "def compute_contact_map_matrix(traj, cutoff=0.8):\n",
        "    atom_indices = [a.index for a in traj.topology.atoms if a.name == 'CA']\n",
        "    ca_traj = traj.atom_slice(atom_indices)\n",
        "    pairs = [(i, j) for i in range(len(atom_indices)) for j in range(i+1, len(atom_indices))]\n",
        "    distances, _ = md.compute_contacts(ca_traj, contacts=pairs, scheme='ca')\n",
        "    n = len(atom_indices)\n",
        "    contact_map = np.zeros((n, n), dtype=int)\n",
        "    for (i, j), d in zip(pairs, distances[0]):\n",
        "        if d < cutoff:\n",
        "            contact_map[i, j] = 1\n",
        "            contact_map[j, i] = 1\n",
        "    return contact_map\n",
        "\n",
        "def compute_global_descriptors(traj):\n",
        "    sasa = md.shrake_rupley(traj)[0].sum() * 100  # Å²\n",
        "    rg = md.compute_rg(traj)[0] * 10  # convert to Å\n",
        "    n_residues = traj.n_residues\n",
        "    compactness = n_residues / rg if rg > 0 else 0\n",
        "\n",
        "    try:\n",
        "        sec = md.compute_dssp(traj)[0]\n",
        "        ss_content = {k: sum(sec == k) / n_residues for k in ['H', 'E', 'C']}\n",
        "    except Exception:\n",
        "        print(\"Warning: DSSP not found or failed. Skipping secondary structure content.\")\n",
        "        ss_content = {'H': 0, 'E': 0, 'C': 0}\n",
        "\n",
        "    cmap = compute_contact_map_matrix(traj, cutoff=0.8)\n",
        "    contacts = np.argwhere(np.triu(cmap, k=1))\n",
        "    if len(contacts) == 0:\n",
        "        contact_order = 0\n",
        "    else:\n",
        "        seq_sep = np.abs(contacts[:, 0] - contacts[:, 1])\n",
        "        contact_order = np.sum(seq_sep) / (n_residues * len(contacts))\n",
        "\n",
        "    return {\n",
        "        'Total_SASA': sasa,\n",
        "        'Radius_of_Gyration': rg,\n",
        "        'Compactness': compactness,\n",
        "        'Contact_Order': contact_order,\n",
        "        'SS_Helix': ss_content.get('H', 0),\n",
        "        'SS_Strand': ss_content.get('E', 0),\n",
        "        'SS_Coil': ss_content.get('C', 0)\n",
        "    }, cmap\n",
        "\n",
        "def plot_contact_map(cmap, output):\n",
        "    plt.figure(figsize=(6, 6))\n",
        "    plt.imshow(cmap, cmap='Greys', origin='lower')\n",
        "    plt.title(\"Contact Map\")\n",
        "    plt.xlabel(\"Residue Index\")\n",
        "    plt.ylabel(\"Residue Index\")\n",
        "    plt.colorbar(label=\"Contact (0/1)\")\n",
        "    plt.tight_layout()\n",
        "    plt.savefig(output, dpi=300)\n",
        "    plt.close()\n",
        "\n",
        "def main(pdb_path):\n",
        "    base = os.path.splitext(os.path.basename(pdb_path))[0]\n",
        "    print(f\"→ Processing: {pdb_path}\")\n",
        "    traj = md.load(pdb_path)\n",
        "    global_desc, cmap = compute_global_descriptors(traj)\n",
        "\n",
        "    pd.Series(global_desc).to_csv(f\"{base}_3d_descriptors.csv\")\n",
        "    np.save(f\"{base}_contact_map.npy\", cmap)\n",
        "    plot_contact_map(cmap, output=f\"{base}_contact_map.png\")\n",
        "\n",
        "    print(f\"→ Saved '{base}_3d_descriptors.csv', '{base}_contact_map.npy', and '{base}_contact_map.png'.\")\n",
        "\n",
        "def analyze_global(pdb_path):\n",
        "    \"\"\"Wrapper for calling the global analysis programmatically.\"\"\"\n",
        "    traj = md.load(pdb_path)\n",
        "    global_desc, cmap = compute_global_descriptors(traj)\n",
        "\n",
        "    base = os.path.splitext(os.path.basename(pdb_path))[0]\n",
        "    pd.Series(global_desc).to_csv(f\"{base}_3d_descriptors.csv\")\n",
        "    np.save(f\"{base}_contact_map.npy\", cmap)\n",
        "    plot_contact_map(cmap, output=f\"{base}_contact_map.png\")\n",
        "\n",
        "    return global_desc, cmap\n",
        "\n",
        "if __name__ == \"__main__\":\n",
        "    if len(sys.argv) != 2:\n",
        "        print(\"Usage: python analyze_protein.py <input.pdb>\")\n",
        "    else:\n",
        "        main(sys.argv[1])"
      ],
      "metadata": {
        "colab": {
          "base_uri": "https://localhost:8080/"
        },
        "id": "3caNfumISXOE",
        "outputId": "42795595-62ec-4d6a-afc8-badc526ac35a"
      },
      "execution_count": 3,
      "outputs": [
        {
          "output_type": "stream",
          "name": "stdout",
          "text": [
            "Overwriting analyze_protein.py\n"
          ]
        }
      ]
    },
    {
      "cell_type": "code",
      "source": [
        "# Import the script (it must be in the same folder or in your PYTHONPATH)\n",
        "import analyze_protein\n",
        "\n",
        "\n",
        "# Call the analyze function directly\n",
        "desc, cmap = analyze_protein.analyze_global(\"\")   # replace with your filename"
      ],
      "metadata": {
        "id": "nFSaImdNSwN-"
      },
      "execution_count": 6,
      "outputs": []
    },
    {
      "cell_type": "code",
      "source": [
        "import pandas as pd\n",
        "pd.Series(desc)"
      ],
      "metadata": {
        "colab": {
          "base_uri": "https://localhost:8080/",
          "height": 304
        },
        "id": "fJX87BI324RP",
        "outputId": "db5a2385-048b-4b57-ddef-b2a590a634ee"
      },
      "execution_count": 7,
      "outputs": [
        {
          "output_type": "execute_result",
          "data": {
            "text/plain": [
              "Total_SASA            62607.410156\n",
              "Radius_of_Gyration       42.278835\n",
              "Compactness              33.255410\n",
              "Contact_Order             0.026836\n",
              "SS_Helix                  0.364865\n",
              "SS_Strand                 0.137980\n",
              "SS_Coil                   0.495733\n",
              "dtype: float64"
            ],
            "text/html": [
              "<div>\n",
              "<style scoped>\n",
              "    .dataframe tbody tr th:only-of-type {\n",
              "        vertical-align: middle;\n",
              "    }\n",
              "\n",
              "    .dataframe tbody tr th {\n",
              "        vertical-align: top;\n",
              "    }\n",
              "\n",
              "    .dataframe thead th {\n",
              "        text-align: right;\n",
              "    }\n",
              "</style>\n",
              "<table border=\"1\" class=\"dataframe\">\n",
              "  <thead>\n",
              "    <tr style=\"text-align: right;\">\n",
              "      <th></th>\n",
              "      <th>0</th>\n",
              "    </tr>\n",
              "  </thead>\n",
              "  <tbody>\n",
              "    <tr>\n",
              "      <th>Total_SASA</th>\n",
              "      <td>62607.410156</td>\n",
              "    </tr>\n",
              "    <tr>\n",
              "      <th>Radius_of_Gyration</th>\n",
              "      <td>42.278835</td>\n",
              "    </tr>\n",
              "    <tr>\n",
              "      <th>Compactness</th>\n",
              "      <td>33.255410</td>\n",
              "    </tr>\n",
              "    <tr>\n",
              "      <th>Contact_Order</th>\n",
              "      <td>0.026836</td>\n",
              "    </tr>\n",
              "    <tr>\n",
              "      <th>SS_Helix</th>\n",
              "      <td>0.364865</td>\n",
              "    </tr>\n",
              "    <tr>\n",
              "      <th>SS_Strand</th>\n",
              "      <td>0.137980</td>\n",
              "    </tr>\n",
              "    <tr>\n",
              "      <th>SS_Coil</th>\n",
              "      <td>0.495733</td>\n",
              "    </tr>\n",
              "  </tbody>\n",
              "</table>\n",
              "</div><br><label><b>dtype:</b> float64</label>"
            ]
          },
          "metadata": {},
          "execution_count": 7
        }
      ]
    }
  ]
}