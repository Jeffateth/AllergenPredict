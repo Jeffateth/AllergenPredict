{
  "cells": [
    {
      "cell_type": "code",
      "execution_count": null,
      "metadata": {},
      "outputs": [],
      "source": [
        "pip install pandas requests"
      ]
    },
    {
      "cell_type": "code",
      "execution_count": 1,
      "metadata": {
        "colab": {
          "base_uri": "https://localhost:8080/"
        },
        "id": "ilcsg8tr0Nus",
        "outputId": "51539802-d822-4c85-e3b1-9b964e288f2b"
      },
      "outputs": [
        {
          "name": "stdout",
          "output_type": "stream",
          "text": [
            "⬇️ Downloading train_positive\n",
            "⬇️ Downloading train_negative\n",
            "✅ Saved train set: 16120 entries\n",
            "Saved files in: /Users/jianzhouyao/AllergenPredict\n",
            "⬇️ Downloading test_positive\n",
            "⬇️ Downloading test_negative\n",
            "✅ Saved test set: 4030 entries\n",
            "Saved files in: /Users/jianzhouyao/AllergenPredict\n"
          ]
        }
      ],
      "source": [
        "import pandas as pd\n",
        "import requests\n",
        "import os # Ensure the script is run in a directory where you have write permissions\n",
        "\n",
        "# URLs\n",
        "datasets = {\n",
        "    \"train_positive\": (\"https://webs.iiitd.edu.in/raghava/algpred2/datasets/train_positive.txt\", 1),\n",
        "    \"train_negative\": (\"https://webs.iiitd.edu.in/raghava/algpred2/datasets/train_negative.txt\", 0),\n",
        "    \"test_positive\": (\"https://webs.iiitd.edu.in/raghava/algpred2/datasets/validation_positive.txt\", 1),\n",
        "    \"test_negative\": (\"https://webs.iiitd.edu.in/raghava/algpred2/datasets/validation_negative.txt\", 0)\n",
        "}\n",
        "\n",
        "# Fasta parser\n",
        "def parse_fasta(text, label):\n",
        "    entries, cur_id, cur_seq = [], None, \"\"\n",
        "    for line in text.strip().splitlines():\n",
        "        line = line.strip()\n",
        "        if line.startswith(\">\"):\n",
        "            if cur_id:\n",
        "                entries.append((cur_id, cur_seq, label))\n",
        "            cur_id = line[1:]\n",
        "            cur_seq = \"\"\n",
        "        else:\n",
        "            cur_seq += line\n",
        "    if cur_id and cur_seq:\n",
        "        entries.append((cur_id, cur_seq, label))\n",
        "    return entries\n",
        "\n",
        "# Process each\n",
        "for setname in [\"train\", \"test\"]:\n",
        "    entries = []\n",
        "    for k, (url, label) in datasets.items():\n",
        "        if k.startswith(setname):\n",
        "            print(f\"⬇️ Downloading {k}\")\n",
        "            r = requests.get(url)\n",
        "            entries.extend(parse_fasta(r.text, label))\n",
        "    df = pd.DataFrame(entries, columns=[\"id\", \"sequence\", \"label\"])\n",
        "    df.to_csv(f\"algpred2_{setname}.csv\", index=False)\n",
        "    print(f\"✅ Saved {setname} set: {len(df)} entries\")\n",
        "    print(\"Saved files in:\", os.getcwd())\n"
      ]
    },
    {
      "cell_type": "code",
      "execution_count": null,
      "metadata": {
        "colab": {
          "base_uri": "https://localhost:8080/"
        },
        "collapsed": true,
        "id": "GWihiZlc0iLM",
        "outputId": "5dd26515-2f1b-476d-ba01-380f1b73b4e7"
      },
      "outputs": [
        {
          "name": "stdout",
          "output_type": "stream",
          "text": [
            "Collecting fair-esm\n",
            "  Downloading fair_esm-2.0.0-py3-none-any.whl.metadata (37 kB)\n",
            "Requirement already satisfied: torch in /usr/local/lib/python3.11/dist-packages (2.6.0+cu124)\n",
            "Requirement already satisfied: pandas in /usr/local/lib/python3.11/dist-packages (2.2.2)\n",
            "Requirement already satisfied: tqdm in /usr/local/lib/python3.11/dist-packages (4.67.1)\n",
            "Requirement already satisfied: filelock in /usr/local/lib/python3.11/dist-packages (from torch) (3.18.0)\n",
            "Requirement already satisfied: typing-extensions>=4.10.0 in /usr/local/lib/python3.11/dist-packages (from torch) (4.13.0)\n",
            "Requirement already satisfied: networkx in /usr/local/lib/python3.11/dist-packages (from torch) (3.4.2)\n",
            "Requirement already satisfied: jinja2 in /usr/local/lib/python3.11/dist-packages (from torch) (3.1.6)\n",
            "Requirement already satisfied: fsspec in /usr/local/lib/python3.11/dist-packages (from torch) (2025.3.2)\n",
            "Collecting nvidia-cuda-nvrtc-cu12==12.4.127 (from torch)\n",
            "  Downloading nvidia_cuda_nvrtc_cu12-12.4.127-py3-none-manylinux2014_x86_64.whl.metadata (1.5 kB)\n",
            "Collecting nvidia-cuda-runtime-cu12==12.4.127 (from torch)\n",
            "  Downloading nvidia_cuda_runtime_cu12-12.4.127-py3-none-manylinux2014_x86_64.whl.metadata (1.5 kB)\n",
            "Collecting nvidia-cuda-cupti-cu12==12.4.127 (from torch)\n",
            "  Downloading nvidia_cuda_cupti_cu12-12.4.127-py3-none-manylinux2014_x86_64.whl.metadata (1.6 kB)\n",
            "Collecting nvidia-cudnn-cu12==9.1.0.70 (from torch)\n",
            "  Downloading nvidia_cudnn_cu12-9.1.0.70-py3-none-manylinux2014_x86_64.whl.metadata (1.6 kB)\n",
            "Collecting nvidia-cublas-cu12==12.4.5.8 (from torch)\n",
            "  Downloading nvidia_cublas_cu12-12.4.5.8-py3-none-manylinux2014_x86_64.whl.metadata (1.5 kB)\n",
            "Collecting nvidia-cufft-cu12==11.2.1.3 (from torch)\n",
            "  Downloading nvidia_cufft_cu12-11.2.1.3-py3-none-manylinux2014_x86_64.whl.metadata (1.5 kB)\n",
            "Collecting nvidia-curand-cu12==10.3.5.147 (from torch)\n",
            "  Downloading nvidia_curand_cu12-10.3.5.147-py3-none-manylinux2014_x86_64.whl.metadata (1.5 kB)\n",
            "Collecting nvidia-cusolver-cu12==11.6.1.9 (from torch)\n",
            "  Downloading nvidia_cusolver_cu12-11.6.1.9-py3-none-manylinux2014_x86_64.whl.metadata (1.6 kB)\n",
            "Collecting nvidia-cusparse-cu12==12.3.1.170 (from torch)\n",
            "  Downloading nvidia_cusparse_cu12-12.3.1.170-py3-none-manylinux2014_x86_64.whl.metadata (1.6 kB)\n",
            "Requirement already satisfied: nvidia-cusparselt-cu12==0.6.2 in /usr/local/lib/python3.11/dist-packages (from torch) (0.6.2)\n",
            "Requirement already satisfied: nvidia-nccl-cu12==2.21.5 in /usr/local/lib/python3.11/dist-packages (from torch) (2.21.5)\n",
            "Requirement already satisfied: nvidia-nvtx-cu12==12.4.127 in /usr/local/lib/python3.11/dist-packages (from torch) (12.4.127)\n",
            "Collecting nvidia-nvjitlink-cu12==12.4.127 (from torch)\n",
            "  Downloading nvidia_nvjitlink_cu12-12.4.127-py3-none-manylinux2014_x86_64.whl.metadata (1.5 kB)\n",
            "Requirement already satisfied: triton==3.2.0 in /usr/local/lib/python3.11/dist-packages (from torch) (3.2.0)\n",
            "Requirement already satisfied: sympy==1.13.1 in /usr/local/lib/python3.11/dist-packages (from torch) (1.13.1)\n",
            "Requirement already satisfied: mpmath<1.4,>=1.1.0 in /usr/local/lib/python3.11/dist-packages (from sympy==1.13.1->torch) (1.3.0)\n",
            "Requirement already satisfied: numpy>=1.23.2 in /usr/local/lib/python3.11/dist-packages (from pandas) (2.0.2)\n",
            "Requirement already satisfied: python-dateutil>=2.8.2 in /usr/local/lib/python3.11/dist-packages (from pandas) (2.8.2)\n",
            "Requirement already satisfied: pytz>=2020.1 in /usr/local/lib/python3.11/dist-packages (from pandas) (2025.2)\n",
            "Requirement already satisfied: tzdata>=2022.7 in /usr/local/lib/python3.11/dist-packages (from pandas) (2025.2)\n",
            "Requirement already satisfied: six>=1.5 in /usr/local/lib/python3.11/dist-packages (from python-dateutil>=2.8.2->pandas) (1.17.0)\n",
            "Requirement already satisfied: MarkupSafe>=2.0 in /usr/local/lib/python3.11/dist-packages (from jinja2->torch) (3.0.2)\n",
            "Downloading fair_esm-2.0.0-py3-none-any.whl (93 kB)\n",
            "\u001b[2K   \u001b[90m━━━━━━━━━━━━━━━━━━━━━━━━━━━━━━━━━━━━━━━━\u001b[0m \u001b[32m93.1/93.1 kB\u001b[0m \u001b[31m9.3 MB/s\u001b[0m eta \u001b[36m0:00:00\u001b[0m\n",
            "\u001b[?25hDownloading nvidia_cublas_cu12-12.4.5.8-py3-none-manylinux2014_x86_64.whl (363.4 MB)\n",
            "\u001b[2K   \u001b[90m━━━━━━━━━━━━━━━━━━━━━━━━━━━━━━━━━━━━━━━━\u001b[0m \u001b[32m363.4/363.4 MB\u001b[0m \u001b[31m4.4 MB/s\u001b[0m eta \u001b[36m0:00:00\u001b[0m\n",
            "\u001b[?25hDownloading nvidia_cuda_cupti_cu12-12.4.127-py3-none-manylinux2014_x86_64.whl (13.8 MB)\n",
            "\u001b[2K   \u001b[90m━━━━━━━━━━━━━━━━━━━━━━━━━━━━━━━━━━━━━━━━\u001b[0m \u001b[32m13.8/13.8 MB\u001b[0m \u001b[31m76.5 MB/s\u001b[0m eta \u001b[36m0:00:00\u001b[0m\n",
            "\u001b[?25hDownloading nvidia_cuda_nvrtc_cu12-12.4.127-py3-none-manylinux2014_x86_64.whl (24.6 MB)\n",
            "\u001b[2K   \u001b[90m━━━━━━━━━━━━━━━━━━━━━━━━━━━━━━━━━━━━━━━━\u001b[0m \u001b[32m24.6/24.6 MB\u001b[0m \u001b[31m58.3 MB/s\u001b[0m eta \u001b[36m0:00:00\u001b[0m\n",
            "\u001b[?25hDownloading nvidia_cuda_runtime_cu12-12.4.127-py3-none-manylinux2014_x86_64.whl (883 kB)\n",
            "\u001b[2K   \u001b[90m━━━━━━━━━━━━━━━━━━━━━━━━━━━━━━━━━━━━━━━━\u001b[0m \u001b[32m883.7/883.7 kB\u001b[0m \u001b[31m47.2 MB/s\u001b[0m eta \u001b[36m0:00:00\u001b[0m\n",
            "\u001b[?25hDownloading nvidia_cudnn_cu12-9.1.0.70-py3-none-manylinux2014_x86_64.whl (664.8 MB)\n",
            "\u001b[2K   \u001b[90m━━━━━━━━━━━━━━━━━━━━━━━━━━━━━━━━━━━━━━━━\u001b[0m \u001b[32m664.8/664.8 MB\u001b[0m \u001b[31m2.6 MB/s\u001b[0m eta \u001b[36m0:00:00\u001b[0m\n",
            "\u001b[?25hDownloading nvidia_cufft_cu12-11.2.1.3-py3-none-manylinux2014_x86_64.whl (211.5 MB)\n",
            "\u001b[2K   \u001b[90m━━━━━━━━━━━━━━━━━━━━━━━━━━━━━━━━━━━━━━━━\u001b[0m \u001b[32m211.5/211.5 MB\u001b[0m \u001b[31m5.6 MB/s\u001b[0m eta \u001b[36m0:00:00\u001b[0m\n",
            "\u001b[?25hDownloading nvidia_curand_cu12-10.3.5.147-py3-none-manylinux2014_x86_64.whl (56.3 MB)\n",
            "\u001b[2K   \u001b[90m━━━━━━━━━━━━━━━━━━━━━━━━━━━━━━━━━━━━━━━━\u001b[0m \u001b[32m56.3/56.3 MB\u001b[0m \u001b[31m12.7 MB/s\u001b[0m eta \u001b[36m0:00:00\u001b[0m\n",
            "\u001b[?25hDownloading nvidia_cusolver_cu12-11.6.1.9-py3-none-manylinux2014_x86_64.whl (127.9 MB)\n",
            "\u001b[2K   \u001b[90m━━━━━━━━━━━━━━━━━━━━━━━━━━━━━━━━━━━━━━━━\u001b[0m \u001b[32m127.9/127.9 MB\u001b[0m \u001b[31m7.4 MB/s\u001b[0m eta \u001b[36m0:00:00\u001b[0m\n",
            "\u001b[?25hDownloading nvidia_cusparse_cu12-12.3.1.170-py3-none-manylinux2014_x86_64.whl (207.5 MB)\n",
            "\u001b[2K   \u001b[90m━━━━━━━━━━━━━━━━━━━━━━━━━━━━━━━━━━━━━━━━\u001b[0m \u001b[32m207.5/207.5 MB\u001b[0m \u001b[31m5.9 MB/s\u001b[0m eta \u001b[36m0:00:00\u001b[0m\n",
            "\u001b[?25hDownloading nvidia_nvjitlink_cu12-12.4.127-py3-none-manylinux2014_x86_64.whl (21.1 MB)\n",
            "\u001b[2K   \u001b[90m━━━━━━━━━━━━━━━━━━━━━━━━━━━━━━━━━━━━━━━━\u001b[0m \u001b[32m21.1/21.1 MB\u001b[0m \u001b[31m91.8 MB/s\u001b[0m eta \u001b[36m0:00:00\u001b[0m\n",
            "\u001b[?25hInstalling collected packages: fair-esm, nvidia-nvjitlink-cu12, nvidia-curand-cu12, nvidia-cufft-cu12, nvidia-cuda-runtime-cu12, nvidia-cuda-nvrtc-cu12, nvidia-cuda-cupti-cu12, nvidia-cublas-cu12, nvidia-cusparse-cu12, nvidia-cudnn-cu12, nvidia-cusolver-cu12\n",
            "  Attempting uninstall: nvidia-nvjitlink-cu12\n",
            "    Found existing installation: nvidia-nvjitlink-cu12 12.5.82\n",
            "    Uninstalling nvidia-nvjitlink-cu12-12.5.82:\n",
            "      Successfully uninstalled nvidia-nvjitlink-cu12-12.5.82\n",
            "  Attempting uninstall: nvidia-curand-cu12\n",
            "    Found existing installation: nvidia-curand-cu12 10.3.6.82\n",
            "    Uninstalling nvidia-curand-cu12-10.3.6.82:\n",
            "      Successfully uninstalled nvidia-curand-cu12-10.3.6.82\n",
            "  Attempting uninstall: nvidia-cufft-cu12\n",
            "    Found existing installation: nvidia-cufft-cu12 11.2.3.61\n",
            "    Uninstalling nvidia-cufft-cu12-11.2.3.61:\n",
            "      Successfully uninstalled nvidia-cufft-cu12-11.2.3.61\n",
            "  Attempting uninstall: nvidia-cuda-runtime-cu12\n",
            "    Found existing installation: nvidia-cuda-runtime-cu12 12.5.82\n",
            "    Uninstalling nvidia-cuda-runtime-cu12-12.5.82:\n",
            "      Successfully uninstalled nvidia-cuda-runtime-cu12-12.5.82\n",
            "  Attempting uninstall: nvidia-cuda-nvrtc-cu12\n",
            "    Found existing installation: nvidia-cuda-nvrtc-cu12 12.5.82\n",
            "    Uninstalling nvidia-cuda-nvrtc-cu12-12.5.82:\n",
            "      Successfully uninstalled nvidia-cuda-nvrtc-cu12-12.5.82\n",
            "  Attempting uninstall: nvidia-cuda-cupti-cu12\n",
            "    Found existing installation: nvidia-cuda-cupti-cu12 12.5.82\n",
            "    Uninstalling nvidia-cuda-cupti-cu12-12.5.82:\n",
            "      Successfully uninstalled nvidia-cuda-cupti-cu12-12.5.82\n",
            "  Attempting uninstall: nvidia-cublas-cu12\n",
            "    Found existing installation: nvidia-cublas-cu12 12.5.3.2\n",
            "    Uninstalling nvidia-cublas-cu12-12.5.3.2:\n",
            "      Successfully uninstalled nvidia-cublas-cu12-12.5.3.2\n",
            "  Attempting uninstall: nvidia-cusparse-cu12\n",
            "    Found existing installation: nvidia-cusparse-cu12 12.5.1.3\n",
            "    Uninstalling nvidia-cusparse-cu12-12.5.1.3:\n",
            "      Successfully uninstalled nvidia-cusparse-cu12-12.5.1.3\n",
            "  Attempting uninstall: nvidia-cudnn-cu12\n",
            "    Found existing installation: nvidia-cudnn-cu12 9.3.0.75\n",
            "    Uninstalling nvidia-cudnn-cu12-9.3.0.75:\n",
            "      Successfully uninstalled nvidia-cudnn-cu12-9.3.0.75\n",
            "  Attempting uninstall: nvidia-cusolver-cu12\n",
            "    Found existing installation: nvidia-cusolver-cu12 11.6.3.83\n",
            "    Uninstalling nvidia-cusolver-cu12-11.6.3.83:\n",
            "      Successfully uninstalled nvidia-cusolver-cu12-11.6.3.83\n",
            "Successfully installed fair-esm-2.0.0 nvidia-cublas-cu12-12.4.5.8 nvidia-cuda-cupti-cu12-12.4.127 nvidia-cuda-nvrtc-cu12-12.4.127 nvidia-cuda-runtime-cu12-12.4.127 nvidia-cudnn-cu12-9.1.0.70 nvidia-cufft-cu12-11.2.1.3 nvidia-curand-cu12-10.3.5.147 nvidia-cusolver-cu12-11.6.1.9 nvidia-cusparse-cu12-12.3.1.170 nvidia-nvjitlink-cu12-12.4.127\n"
          ]
        }
      ],
      "source": [
        "!pip install fair-esm torch pandas tqdm"
      ]
    },
    {
      "cell_type": "code",
      "execution_count": null,
      "metadata": {
        "colab": {
          "base_uri": "https://localhost:8080/"
        },
        "collapsed": true,
        "id": "1_Jv62ty0mrA",
        "outputId": "d3dc380c-4d96-4870-df6c-c58da8a90c08"
      },
      "outputs": [
        {
          "name": "stdout",
          "output_type": "stream",
          "text": [
            "🔁 Resuming from algpred2_train_esm2_embeddings_temp.csv — 1716 entries already processed.\n",
            "⚙️  Extracting embeddings using ESM-2 for algpred2_train.csv... (14404 sequences remaining)\n"
          ]
        },
        {
          "name": "stderr",
          "output_type": "stream",
          "text": [
            "100%|██████████| 14404/14404 [50:54<00:00,  4.72it/s]\n"
          ]
        },
        {
          "name": "stdout",
          "output_type": "stream",
          "text": [
            "✅ Final embeddings saved to 'algpred2_train_esm2_embeddings.csv'\n",
            "\n",
            "⚙️  Extracting embeddings using ESM-2 for algpred2_test.csv... (4030 sequences remaining)\n"
          ]
        },
        {
          "name": "stderr",
          "output_type": "stream",
          "text": [
            "100%|██████████| 4030/4030 [13:19<00:00,  5.04it/s]"
          ]
        },
        {
          "name": "stdout",
          "output_type": "stream",
          "text": [
            "✅ Final embeddings saved to 'algpred2_test_esm2_embeddings.csv'\n",
            "\n"
          ]
        },
        {
          "name": "stderr",
          "output_type": "stream",
          "text": [
            "\n"
          ]
        }
      ],
      "source": [
        "import pandas as pd\n",
        "import torch\n",
        "import esm\n",
        "from tqdm import tqdm\n",
        "import os\n",
        "import csv\n",
        "\n",
        "for dataset in [\"algpred2_train.csv\", \"algpred2_test.csv\"]:\n",
        "    # Determine base name\n",
        "    base = os.path.splitext(os.path.basename(dataset))[0]\n",
        "\n",
        "    # Load dataset\n",
        "    df = pd.read_csv(dataset)\n",
        "    sequences = list(df[\"sequence\"])\n",
        "    labels = list(df[\"label\"])\n",
        "    ids = list(df[\"id\"])\n",
        "\n",
        "    # Load ESM-2 model\n",
        "    model, alphabet = esm.pretrained.esm2_t33_650M_UR50D()\n",
        "    batch_converter = alphabet.get_batch_converter()\n",
        "    model.eval()\n",
        "\n",
        "    # Device\n",
        "    device = torch.device(\"cuda\" if torch.cuda.is_available() else \"cpu\")\n",
        "    model = model.to(device)\n",
        "\n",
        "    # Output files (unique per dataset)\n",
        "    temp_file = f\"{base}_esm2_embeddings_temp.csv\"\n",
        "    final_file = f\"{base}_esm2_embeddings.csv\"\n",
        "\n",
        "    # Already processed IDs (for resuming)\n",
        "    if os.path.exists(temp_file):\n",
        "        processed_ids = set(pd.read_csv(temp_file, usecols=[\"id\"])[\"id\"])\n",
        "        print(f\"🔁 Resuming from {temp_file} — {len(processed_ids)} entries already processed.\")\n",
        "    else:\n",
        "        processed_ids = set()\n",
        "\n",
        "    # Filter data\n",
        "    remaining_data = [(ids[i], sequences[i], labels[i]) for i in range(len(ids)) if ids[i] not in processed_ids]\n",
        "\n",
        "    # Batch setup\n",
        "    batch_size = 1\n",
        "    write_header = not os.path.exists(temp_file)\n",
        "    feature_dim = 1280\n",
        "    fieldnames = [\"id\", \"label\"] + [f\"f{k}\" for k in range(feature_dim)]\n",
        "\n",
        "    print(f\"⚙️  Extracting embeddings using ESM-2 for {dataset}... ({len(remaining_data)} sequences remaining)\")\n",
        "\n",
        "    with open(temp_file, mode=\"a\", newline=\"\") as f:\n",
        "        writer = csv.DictWriter(f, fieldnames=fieldnames)\n",
        "        if write_header:\n",
        "            writer.writeheader()\n",
        "\n",
        "        for i in tqdm(range(0, len(remaining_data), batch_size)):\n",
        "            batch = remaining_data[i:i + batch_size]\n",
        "            batch_ids = [x[0] for x in batch]\n",
        "            batch_seqs = [x[1] for x in batch]\n",
        "            batch_labels = [x[2] for x in batch]\n",
        "\n",
        "            batch_data = [(batch_ids[j], batch_seqs[j]) for j in range(len(batch_seqs))]\n",
        "            _, _, batch_tokens = batch_converter(batch_data)\n",
        "            batch_tokens = batch_tokens.to(device)\n",
        "\n",
        "            with torch.no_grad():\n",
        "                outputs = model(batch_tokens, repr_layers=[33])  # Layer 33 for T33\n",
        "                token_representations = outputs[\"representations\"][33]\n",
        "\n",
        "            rows = []\n",
        "            for j, (_, seq) in enumerate(batch_data):\n",
        "                representation = token_representations[j, 1:len(seq)+1].mean(0)\n",
        "                entry = {\n",
        "                    \"id\": batch_ids[j],\n",
        "                    \"label\": batch_labels[j],\n",
        "                }\n",
        "                for k in range(feature_dim):\n",
        "                    entry[f\"f{k}\"] = representation[k].item()\n",
        "                rows.append(entry)\n",
        "\n",
        "            writer.writerows(rows)\n",
        "\n",
        "    # Final save\n",
        "    os.replace(temp_file, final_file)\n",
        "    print(f\"✅ Final embeddings saved to '{final_file}'\\n\")\n"
      ]
    },
    {
      "cell_type": "code",
      "execution_count": null,
      "metadata": {
        "colab": {
          "base_uri": "https://localhost:8080/"
        },
        "collapsed": true,
        "id": "Bbgdtsm87X__",
        "outputId": "b4270396-a363-4706-a737-987c55eb4120"
      },
      "outputs": [
        {
          "name": "stdout",
          "output_type": "stream",
          "text": [
            "     id                                           sequence  label\n",
            "0  P_13  MGKPFTLSLSSLCLLLLSSACFAISSSKLNECQLNNLNALEPDHRV...      1\n",
            "1  P_14  MGVFTFEDEINSPVAPATLYKALVTDADNVIPKALDSFKSVENVEG...      1\n",
            "2  P_17  MAEDEDNQQGQGEGLKYLGFVQDAATYAVTTFSNVYLFAKDKSGPL...      1\n",
            "3  P_46  MGVFNYEVETPSVISAARLFKSYVLDGDKLIPKVAPQAITSVENVG...      1\n",
            "4  P_47  MGVFNYEVETPSVIPAARLFKSYVLDGDKLIPKVAPQAITSVENVE...      1\n",
            "(16120, 3)\n"
          ]
        }
      ],
      "source": [
        "import pandas as pd\n",
        "\n",
        "df = pd.read_csv(\"algpred2_train.csv\")\n",
        "print(df.head())\n",
        "print(df.shape)  # Rows, features"
      ]
    },
    {
      "cell_type": "code",
      "execution_count": null,
      "metadata": {
        "colab": {
          "base_uri": "https://localhost:8080/"
        },
        "id": "dvQ6gYSmeMsx",
        "outputId": "1142ed8f-53ac-4819-df54-1a4aa4c1357e"
      },
      "outputs": [
        {
          "name": "stdout",
          "output_type": "stream",
          "text": [
            "📁 Train+Val size: (16120, 1280), Test size: (4030, 1280)\n",
            "\n",
            "📉 DummyClassifier (Stratified) on Train+Val:\n",
            "\n",
            "📊 Dummy ROC-AUC: 0.4991 ± 0.0000\n",
            "\n",
            "🚀 5-Fold Cross-Validation (XGBoost) on Train+Val...\n",
            "\n"
          ]
        },
        {
          "name": "stderr",
          "output_type": "stream",
          "text": [
            "/usr/local/lib/python3.11/dist-packages/xgboost/core.py:158: UserWarning: [00:28:42] WARNING: /workspace/src/learner.cc:740: \n",
            "Parameters: { \"use_label_encoder\" } are not used.\n",
            "\n",
            "  warnings.warn(smsg, UserWarning)\n"
          ]
        },
        {
          "name": "stdout",
          "output_type": "stream",
          "text": [
            "📂 Fold 1 AUC: 0.9977\n",
            "              precision    recall  f1-score   support\n",
            "\n",
            "           0     0.9900    0.9845    0.9872      1612\n",
            "           1     0.9846    0.9901    0.9873      1612\n",
            "\n",
            "    accuracy                         0.9873      3224\n",
            "   macro avg     0.9873    0.9873    0.9873      3224\n",
            "weighted avg     0.9873    0.9873    0.9873      3224\n",
            "\n",
            "------\n"
          ]
        },
        {
          "name": "stderr",
          "output_type": "stream",
          "text": [
            "/usr/local/lib/python3.11/dist-packages/xgboost/core.py:158: UserWarning: [00:29:16] WARNING: /workspace/src/learner.cc:740: \n",
            "Parameters: { \"use_label_encoder\" } are not used.\n",
            "\n",
            "  warnings.warn(smsg, UserWarning)\n"
          ]
        },
        {
          "name": "stdout",
          "output_type": "stream",
          "text": [
            "📂 Fold 2 AUC: 0.9982\n",
            "              precision    recall  f1-score   support\n",
            "\n",
            "           0     0.9863    0.9845    0.9854      1612\n",
            "           1     0.9845    0.9864    0.9854      1612\n",
            "\n",
            "    accuracy                         0.9854      3224\n",
            "   macro avg     0.9854    0.9854    0.9854      3224\n",
            "weighted avg     0.9854    0.9854    0.9854      3224\n",
            "\n",
            "------\n"
          ]
        },
        {
          "name": "stderr",
          "output_type": "stream",
          "text": [
            "/usr/local/lib/python3.11/dist-packages/xgboost/core.py:158: UserWarning: [00:29:50] WARNING: /workspace/src/learner.cc:740: \n",
            "Parameters: { \"use_label_encoder\" } are not used.\n",
            "\n",
            "  warnings.warn(smsg, UserWarning)\n"
          ]
        },
        {
          "name": "stdout",
          "output_type": "stream",
          "text": [
            "📂 Fold 3 AUC: 0.9988\n",
            "              precision    recall  f1-score   support\n",
            "\n",
            "           0     0.9906    0.9833    0.9869      1612\n",
            "           1     0.9834    0.9907    0.9870      1612\n",
            "\n",
            "    accuracy                         0.9870      3224\n",
            "   macro avg     0.9870    0.9870    0.9870      3224\n",
            "weighted avg     0.9870    0.9870    0.9870      3224\n",
            "\n",
            "------\n"
          ]
        },
        {
          "name": "stderr",
          "output_type": "stream",
          "text": [
            "/usr/local/lib/python3.11/dist-packages/xgboost/core.py:158: UserWarning: [00:30:24] WARNING: /workspace/src/learner.cc:740: \n",
            "Parameters: { \"use_label_encoder\" } are not used.\n",
            "\n",
            "  warnings.warn(smsg, UserWarning)\n"
          ]
        },
        {
          "name": "stdout",
          "output_type": "stream",
          "text": [
            "📂 Fold 4 AUC: 0.9981\n",
            "              precision    recall  f1-score   support\n",
            "\n",
            "           0     0.9839    0.9851    0.9845      1612\n",
            "           1     0.9851    0.9839    0.9845      1612\n",
            "\n",
            "    accuracy                         0.9845      3224\n",
            "   macro avg     0.9845    0.9845    0.9845      3224\n",
            "weighted avg     0.9845    0.9845    0.9845      3224\n",
            "\n",
            "------\n"
          ]
        },
        {
          "name": "stderr",
          "output_type": "stream",
          "text": [
            "/usr/local/lib/python3.11/dist-packages/xgboost/core.py:158: UserWarning: [00:30:58] WARNING: /workspace/src/learner.cc:740: \n",
            "Parameters: { \"use_label_encoder\" } are not used.\n",
            "\n",
            "  warnings.warn(smsg, UserWarning)\n"
          ]
        },
        {
          "name": "stdout",
          "output_type": "stream",
          "text": [
            "📂 Fold 5 AUC: 0.9988\n",
            "              precision    recall  f1-score   support\n",
            "\n",
            "           0     0.9882    0.9864    0.9873      1612\n",
            "           1     0.9864    0.9882    0.9873      1612\n",
            "\n",
            "    accuracy                         0.9873      3224\n",
            "   macro avg     0.9873    0.9873    0.9873      3224\n",
            "weighted avg     0.9873    0.9873    0.9873      3224\n",
            "\n",
            "------\n",
            "\n",
            "✅ Mean CV ROC-AUC: 0.9983 ± 0.0004\n",
            "\n",
            "🔒 Final Evaluation on Hold-Out Test Set...\n",
            "\n"
          ]
        },
        {
          "name": "stderr",
          "output_type": "stream",
          "text": [
            "/usr/local/lib/python3.11/dist-packages/xgboost/core.py:158: UserWarning: [00:31:34] WARNING: /workspace/src/learner.cc:740: \n",
            "Parameters: { \"use_label_encoder\" } are not used.\n",
            "\n",
            "  warnings.warn(smsg, UserWarning)\n"
          ]
        },
        {
          "name": "stdout",
          "output_type": "stream",
          "text": [
            "              precision    recall  f1-score   support\n",
            "\n",
            "           0     0.7800    0.9906    0.8728      2015\n",
            "           1     0.9871    0.7206    0.8330      2015\n",
            "\n",
            "    accuracy                         0.8556      4030\n",
            "   macro avg     0.8835    0.8556    0.8529      4030\n",
            "weighted avg     0.8835    0.8556    0.8529      4030\n",
            "\n",
            "🎯 Final Test ROC-AUC: 0.9793\n",
            "\n",
            "🧪 Y-Scrambling (sanity check) on Train+Val...\n",
            "\n"
          ]
        },
        {
          "name": "stderr",
          "output_type": "stream",
          "text": [
            "/usr/local/lib/python3.11/dist-packages/xgboost/core.py:158: UserWarning: [00:32:13] WARNING: /workspace/src/learner.cc:740: \n",
            "Parameters: { \"use_label_encoder\" } are not used.\n",
            "\n",
            "  warnings.warn(smsg, UserWarning)\n",
            "/usr/local/lib/python3.11/dist-packages/xgboost/core.py:158: UserWarning: [00:33:03] WARNING: /workspace/src/learner.cc:740: \n",
            "Parameters: { \"use_label_encoder\" } are not used.\n",
            "\n",
            "  warnings.warn(smsg, UserWarning)\n",
            "/usr/local/lib/python3.11/dist-packages/xgboost/core.py:158: UserWarning: [00:33:54] WARNING: /workspace/src/learner.cc:740: \n",
            "Parameters: { \"use_label_encoder\" } are not used.\n",
            "\n",
            "  warnings.warn(smsg, UserWarning)\n",
            "/usr/local/lib/python3.11/dist-packages/xgboost/core.py:158: UserWarning: [00:34:43] WARNING: /workspace/src/learner.cc:740: \n",
            "Parameters: { \"use_label_encoder\" } are not used.\n",
            "\n",
            "  warnings.warn(smsg, UserWarning)\n",
            "/usr/local/lib/python3.11/dist-packages/xgboost/core.py:158: UserWarning: [00:35:32] WARNING: /workspace/src/learner.cc:740: \n",
            "Parameters: { \"use_label_encoder\" } are not used.\n",
            "\n",
            "  warnings.warn(smsg, UserWarning)\n"
          ]
        },
        {
          "name": "stdout",
          "output_type": "stream",
          "text": [
            "🔀 Y-Scrambled ROC-AUC: 0.4913 ± 0.0076\n",
            "👉 This should be near 0.5 if your real model learned something.\n"
          ]
        }
      ],
      "source": [
        "import pandas as pd\n",
        "import numpy as np\n",
        "from sklearn.model_selection import StratifiedKFold, train_test_split\n",
        "from sklearn.metrics import roc_auc_score, classification_report\n",
        "from sklearn.dummy import DummyClassifier\n",
        "import xgboost as xgb\n",
        "import random\n",
        "\n",
        "# ====================================\n",
        "# Step 1: Load Data (Proper Separation)\n",
        "# ====================================\n",
        "df_train = pd.read_csv(\"algpred2_train_esm2_embeddings.csv\")\n",
        "df_test = pd.read_csv(\"algpred2_test_esm2_embeddings.csv\")\n",
        "\n",
        "feature_cols = [f\"f{i}\" for i in range(1280)]  # Adjust if using larger model\n",
        "X_temp = df_train[feature_cols].values\n",
        "y_temp = df_train[\"label\"].values\n",
        "\n",
        "X_test = df_test[feature_cols].values\n",
        "y_test = df_test[\"label\"].values\n",
        "\n",
        "print(f\"📁 Train+Val size: {X_temp.shape}, Test size: {X_test.shape}\")\n",
        "\n",
        "\n",
        "# ====================================\n",
        "# Step 3: Dummy Classifier Baseline (on Train+Val)\n",
        "# ====================================\n",
        "print(\"\\n📉 DummyClassifier (Stratified) on Train+Val:\\n\")\n",
        "dummy = DummyClassifier(strategy=\"stratified\", random_state=42)\n",
        "dummy_aucs = []\n",
        "cv = StratifiedKFold(n_splits=5, shuffle=True, random_state=42)\n",
        "\n",
        "for train_idx, val_idx in cv.split(X_temp, y_temp):\n",
        "    dummy.fit(X_temp[train_idx], y_temp[train_idx])\n",
        "    y_dummy_proba = dummy.predict_proba(X_temp[val_idx])[:, 1]\n",
        "    auc = roc_auc_score(y_temp[val_idx], y_dummy_proba)\n",
        "    dummy_aucs.append(auc)\n",
        "\n",
        "print(f\"📊 Dummy ROC-AUC: {np.mean(dummy_aucs):.4f} ± {np.std(dummy_aucs):.4f}\")\n",
        "\n",
        "# ====================================\n",
        "# Step 4: Cross-Validation on Train+Val (XGBoost)\n",
        "# ====================================\n",
        "print(\"\\n🚀 5-Fold Cross-Validation (XGBoost) on Train+Val...\\n\")\n",
        "xgb_aucs = []\n",
        "\n",
        "for fold, (train_idx, val_idx) in enumerate(cv.split(X_temp, y_temp)):\n",
        "    X_train, X_val = X_temp[train_idx], X_temp[val_idx]\n",
        "    y_train, y_val = y_temp[train_idx], y_temp[val_idx]\n",
        "\n",
        "    clf = xgb.XGBClassifier(use_label_encoder=False, eval_metric=\"logloss\", random_state=42)\n",
        "    clf.fit(X_train, y_train)\n",
        "\n",
        "    y_pred = clf.predict(X_val)\n",
        "    y_proba = clf.predict_proba(X_val)[:, 1]\n",
        "\n",
        "    auc = roc_auc_score(y_val, y_proba)\n",
        "    xgb_aucs.append(auc)\n",
        "\n",
        "    print(f\"📂 Fold {fold+1} AUC: {auc:.4f}\")\n",
        "    print(classification_report(y_val, y_pred, digits=4))\n",
        "    print(\"------\")\n",
        "\n",
        "print(f\"\\n✅ Mean CV ROC-AUC: {np.mean(xgb_aucs):.4f} ± {np.std(xgb_aucs):.4f}\")\n",
        "\n",
        "# ====================================\n",
        "# Step 5: Final Test Set Evaluation\n",
        "# ====================================\n",
        "print(\"\\n🔒 Final Evaluation on Hold-Out Test Set...\\n\")\n",
        "clf_final = xgb.XGBClassifier(use_label_encoder=False, eval_metric=\"logloss\", random_state=42)\n",
        "clf_final.fit(X_temp, y_temp)\n",
        "\n",
        "y_test_pred = clf_final.predict(X_test)\n",
        "y_test_proba = clf_final.predict_proba(X_test)[:, 1]\n",
        "\n",
        "test_auc = roc_auc_score(y_test, y_test_proba)\n",
        "print(classification_report(y_test, y_test_pred, digits=4))\n",
        "print(f\"🎯 Final Test ROC-AUC: {test_auc:.4f}\")\n",
        "\n",
        "# ====================================\n",
        "# Step 6: Y-Scrambling Control\n",
        "# ====================================\n",
        "print(\"\\n🧪 Y-Scrambling (sanity check) on Train+Val...\\n\")\n",
        "y_temp_scrambled = y_temp.copy()\n",
        "random.seed(42)\n",
        "random.shuffle(y_temp_scrambled)\n",
        "\n",
        "scrambled_aucs = []\n",
        "for train_idx, val_idx in cv.split(X_temp, y_temp_scrambled):\n",
        "    X_train, X_val = X_temp[train_idx], X_temp[val_idx]\n",
        "    y_train, y_val = y_temp_scrambled[train_idx], y_temp_scrambled[val_idx]\n",
        "\n",
        "    clf_scrambled = xgb.XGBClassifier(use_label_encoder=False, eval_metric=\"logloss\", random_state=42)\n",
        "    clf_scrambled.fit(X_train, y_train)\n",
        "    y_proba_scrambled = clf_scrambled.predict_proba(X_val)[:, 1]\n",
        "\n",
        "    auc = roc_auc_score(y_val, y_proba_scrambled)\n",
        "    scrambled_aucs.append(auc)\n",
        "\n",
        "print(f\"🔀 Y-Scrambled ROC-AUC: {np.mean(scrambled_aucs):.4f} ± {np.std(scrambled_aucs):.4f}\")\n",
        "print(\"👉 This should be near 0.5 if your real model learned something.\")\n"
      ]
    },
    {
      "cell_type": "code",
      "execution_count": null,
      "metadata": {
        "id": "v1qxkMygeYDt"
      },
      "outputs": [],
      "source": []
    }
  ],
  "metadata": {
    "accelerator": "GPU",
    "colab": {
      "gpuType": "T4",
      "provenance": []
    },
    "kernelspec": {
      "display_name": "base",
      "language": "python",
      "name": "python3"
    },
    "language_info": {
      "codemirror_mode": {
        "name": "ipython",
        "version": 3
      },
      "file_extension": ".py",
      "mimetype": "text/x-python",
      "name": "python",
      "nbconvert_exporter": "python",
      "pygments_lexer": "ipython3",
      "version": "3.12.7"
    }
  },
  "nbformat": 4,
  "nbformat_minor": 0
}
