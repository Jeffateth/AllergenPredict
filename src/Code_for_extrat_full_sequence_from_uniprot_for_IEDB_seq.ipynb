{
 "cells": [
  {
   "cell_type": "code",
   "source": [],
   "metadata": {
    "id": "CcL41pirmqVD"
   },
   "execution_count": null,
   "outputs": []
  },
  {
   "cell_type": "code",
   "execution_count": 10,
   "metadata": {
    "colab": {
     "base_uri": "https://localhost:8080/",
     "output_embedded_package_id": "1ZGrUIgE9h55ffdnDkHv00X7zM37NSG-R"
    },
    "id": "CFVl_mVurAhK",
    "outputId": "8963a692-c5a2-47cb-825a-cea7b115261c",
    "executionInfo": {
     "status": "ok",
     "timestamp": 1743535861362,
     "user_tz": -120,
     "elapsed": 246583,
     "user": {
      "displayName": "Jeff",
      "userId": "15773939950998775573"
     }
    }
   },
   "outputs": [
    {
     "output_type": "display_data",
     "data": {
      "text/plain": "Output hidden; open in https://colab.research.google.com to view."
     },
     "metadata": {}
    }
   ],
   "source": [
    "import pandas as pd\n",
    "import requests\n",
    "from tqdm import tqdm\n",
    "import os\n",
    "\n",
    "# 📥 Load and Clean Data\n",
    "url_pos = (\n",
    "    \"https://raw.githubusercontent.com/Jeffateth/AllergenPredict/main/positive.csv\"\n",
    ")\n",
    "url_neg = (\n",
    "    \"https://raw.githubusercontent.com/Jeffateth/AllergenPredict/main/negative.csv\"\n",
    ")\n",
    "use_columns = [\"Epitope.1\", \"Epitope.11\"]\n",
    "\n",
    "positive_df = pd.read_csv(url_pos, usecols=use_columns)\n",
    "negative_df = pd.read_csv(url_neg, usecols=use_columns)\n",
    "positive_df[\"label\"] = 1\n",
    "negative_df[\"label\"] = 0\n",
    "\n",
    "df = pd.concat([positive_df, negative_df], ignore_index=True)\n",
    "df = df.rename(columns={\"Epitope.1\": \"sequence\", \"Epitope.11\": \"protein_url\"})\n",
    "df = df.sample(frac=1, random_state=42).reset_index(drop=True)\n",
    "\n",
    "# ✅ Filter valid amino acid sequences\n",
    "valid_aa = set(\"ACDEFGHIKLMNPQRSTVWY\")\n",
    "df = df[\n",
    "    df[\"sequence\"].apply(lambda s: isinstance(s, str) and set(s).issubset(valid_aa))\n",
    "]\n",
    "\n",
    "# 🧼 Drop rows with missing or malformed URLs\n",
    "df = df[\n",
    "    df[\"protein_url\"].apply(lambda x: isinstance(x, str) and x.startswith(\"http\"))\n",
    "].reset_index(drop=True)\n",
    "\n",
    "# 🧬 Function to fetch protein sequence from UniProt\n",
    "\n",
    "\n",
    "def fetch_protein_sequence(url):\n",
    "    try:\n",
    "        uniprot_id = url.strip().split(\"/\")[-1]\n",
    "        fasta_url = f\"https://rest.uniprot.org/uniprotkb/{uniprot_id}.fasta\"\n",
    "        response = requests.get(fasta_url)\n",
    "        if response.status_code == 200:\n",
    "            lines = response.text.strip().splitlines()\n",
    "            sequence = \"\".join(line for line in lines if not line.startswith(\">\"))\n",
    "            return sequence\n",
    "        else:\n",
    "            return None\n",
    "    except Exception as e:\n",
    "        print(f\"Error fetching {url}: {e}\")\n",
    "        return None\n",
    "\n",
    "\n",
    "# 📁 Check if we already have a temp file\n",
    "temp_path = \"temp_allergen_sequences.csv\"\n",
    "if os.path.exists(temp_path):\n",
    "    df_existing = pd.read_csv(temp_path)\n",
    "    print(f\"🔁 Resuming from {temp_path}, {len(df_existing)} rows already processed.\")\n",
    "else:\n",
    "    df_existing = df.copy()\n",
    "    df_existing[\"full_protein_sequence\"] = None\n",
    "\n",
    "# ⏳ Process rows and save intermediate results\n",
    "for i in tqdm(range(len(df_existing))):\n",
    "    if pd.isna(df_existing.at[i, \"full_protein_sequence\"]):\n",
    "        url = df_existing.at[i, \"protein_url\"]\n",
    "        seq = fetch_protein_sequence(url)\n",
    "        df_existing.at[i, \"full_protein_sequence\"] = seq\n",
    "\n",
    "        # 🧾 Print preview\n",
    "        print(f\"\\n✅ Row {i}: {url}\")\n",
    "        print(f\"   Sequence (first 60 aa): {seq[:60] if seq else 'None'}\")\n",
    "\n",
    "        # 💾 Save every 10 rows\n",
    "        if i % 10 == 0:\n",
    "            df_existing.to_csv(temp_path, index=False)\n",
    "\n",
    "# ✅ Final save\n",
    "df_existing.to_csv(\"allergen_data_with_full_sequences.csv\", index=False)\n",
    "print(\"\\n🎉 Done! Final result saved.\")"
   ]
  },
  {
   "cell_type": "code",
   "execution_count": null,
   "metadata": {
    "id": "yHBdgQTqrBK_"
   },
   "outputs": [],
   "source": []
  }
 ],
 "metadata": {
  "colab": {
   "provenance": [],
   "authorship_tag": "ABX9TyMV0xvO923AetSOfOOhzBr2"
  },
  "kernelspec": {
   "display_name": "Python 3",
   "name": "python3"
  },
  "language_info": {
   "name": "python"
  }
 },
 "nbformat": 4,
 "nbformat_minor": 0
}