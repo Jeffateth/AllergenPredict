{
 "cells": [
  {
   "cell_type": "code",
   "execution_count": 1,
   "metadata": {},
   "outputs": [
    {
     "name": "stdout",
     "output_type": "stream",
     "text": [
      "File: /Users/jianzhouyao/AllergenPredict/data/algpred2_train_seq.csv\n",
      "Total sequences: 16120\n",
      "Max sequence length: 3326\n",
      "Min sequence length: 50\n",
      "Sequences no longer than 1022: 15494\n",
      "\n",
      "File: /Users/jianzhouyao/AllergenPredict/data/algpred2_test_seq.csv\n",
      "Total sequences: 4030\n",
      "Max sequence length: 3408\n",
      "Min sequence length: 50\n",
      "Sequences no longer than 1022: 3862\n",
      "\n"
     ]
    }
   ],
   "source": [
    "import pandas as pd\n",
    "\n",
    "# Define file paths\n",
    "test_path = \"/Users/jianzhouyao/AllergenPredict/data/algpred2_test_seq.csv\"\n",
    "train_path = \"/Users/jianzhouyao/AllergenPredict/data/algpred2_train_seq.csv\"\n",
    "\n",
    "# Function to analyze a dataset\n",
    "\n",
    "\n",
    "def analyze_sequences(file_path):\n",
    "    df = pd.read_csv(file_path)\n",
    "    df[\"seq_length\"] = df[\"sequence\"].apply(len)\n",
    "\n",
    "    total_seqs = len(df)\n",
    "    max_len = df[\"seq_length\"].max()\n",
    "    min_len = df[\"seq_length\"].min()\n",
    "    num_no_longer_than_1022 = (df[\"seq_length\"] <= 1022).sum()\n",
    "\n",
    "    print(f\"File: {file_path}\")\n",
    "    print(f\"Total sequences: {total_seqs}\")\n",
    "    print(f\"Max sequence length: {max_len}\")\n",
    "    print(f\"Min sequence length: {min_len}\")\n",
    "    print(f\"Sequences no longer than 1022: {num_no_longer_than_1022}\\n\")\n",
    "\n",
    "\n",
    "# Analyze both datasets\n",
    "analyze_sequences(train_path)\n",
    "analyze_sequences(test_path)"
   ]
  },
  {
   "cell_type": "code",
   "execution_count": null,
   "metadata": {},
   "outputs": [],
   "source": []
  }
 ],
 "metadata": {
  "kernelspec": {
   "display_name": "base",
   "language": "python",
   "name": "python3"
  },
  "language_info": {
   "codemirror_mode": {
    "name": "ipython",
    "version": 3
   },
   "file_extension": ".py",
   "mimetype": "text/x-python",
   "name": "python",
   "nbconvert_exporter": "python",
   "pygments_lexer": "ipython3",
   "version": "3.12.7"
  }
 },
 "nbformat": 4,
 "nbformat_minor": 2
}
