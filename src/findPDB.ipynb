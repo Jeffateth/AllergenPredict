{
 "cells": [
  {
   "cell_type": "code",
   "execution_count": null,
   "metadata": {
    "colab": {
     "base_uri": "https://localhost:8080/"
    },
    "id": "_k_zEzVEhiwv",
    "outputId": "4550d88b-4d2f-4655-a0b3-fabe599861a4"
   },
   "outputs": [
    {
     "name": "stdout",
     "output_type": "stream",
     "text": [
      "Results saved to sequence_pdb_matches.csv\n"
     ]
    }
   ],
   "source": [
    "import requests\n",
    "import pandas as pd\n",
    "\n",
    "# Configuration\n",
    "INPUT_FILE = \"https://raw.githubusercontent.com/Jeffateth/AllergenPredict/main/allergen_data_with_full_sequences.csv\"  # change input file\n",
    "SEQUENCE_COLUMN = (\n",
    "    \"full_parent_protein_sequence\"  # specify in which column the sequence is saved\n",
    ")\n",
    "\n",
    "\n",
    "def search_rcsb_by_sequence(sequence):\n",
    "    \"\"\"Search the RCSB PDB by an amino acid sequence using a POST request.\"\"\"\n",
    "    url = \"https://search.rcsb.org/rcsbsearch/v2/query\"\n",
    "\n",
    "    query = {\n",
    "        \"query\": {\n",
    "            \"type\": \"terminal\",\n",
    "            \"service\": \"sequence\",\n",
    "            \"parameters\": {\n",
    "                \"evalue_cutoff\": 0.1,\n",
    "                \"identity_cutoff\": 0.9,\n",
    "                \"target\": \"pdb_protein_sequence\",\n",
    "                \"value\": sequence,\n",
    "            },\n",
    "        },\n",
    "        \"return_type\": \"entry\",\n",
    "    }\n",
    "\n",
    "    headers = {\"Content-Type\": \"application/json\"}\n",
    "\n",
    "    response = requests.post(url, json=query, headers=headers)\n",
    "\n",
    "    if response.status_code == 200:\n",
    "        data = response.json()\n",
    "        pdb_ids = [result[\"identifier\"] for result in data.get(\"result_set\", [])]\n",
    "        return pdb_ids\n",
    "    elif response.status_code == 204:\n",
    "        return []  # No content (no matches found)\n",
    "    else:\n",
    "        print(f\"Error {response.status_code} for sequence: {sequence}\")\n",
    "        return []\n",
    "\n",
    "\n",
    "def main():\n",
    "    # Read the input CSV\n",
    "    df = pd.read_csv(INPUT_FILE)\n",
    "\n",
    "    # Check if the expected column exists\n",
    "    if SEQUENCE_COLUMN not in df.columns:\n",
    "        print(f\"Column '{SEQUENCE_COLUMN}' not found in the input file.\")\n",
    "        return\n",
    "\n",
    "    # Work with the first 1000 sequences and filter out short ones\n",
    "    # df_subset = df.head(1000).copy()\n",
    "    df_subset = df[df[SEQUENCE_COLUMN].str.len() >= 20]\n",
    "\n",
    "    # Create a new column to hold matching PDB codes\n",
    "    df_subset[\"pdb_matches\"] = df_subset[SEQUENCE_COLUMN].apply(\n",
    "        lambda seq: search_rcsb_by_sequence(seq)\n",
    "    )\n",
    "\n",
    "    # Save results\n",
    "    df_subset.to_csv(\"sequence_pdb_matches.csv\", index=False)\n",
    "    print(\"Results saved to sequence_pdb_matches.csv\")\n",
    "\n",
    "\n",
    "if __name__ == \"__main__\":\n",
    "    main()"
   ]
  },
  {
   "cell_type": "code",
   "execution_count": null,
   "metadata": {
    "colab": {
     "base_uri": "https://localhost:8080/"
    },
    "id": "Dz_DDj3_o4LG",
    "outputId": "2f748c3b-8d80-436a-f00f-548d30ffa5e9"
   },
   "outputs": [
    {
     "name": "stdout",
     "output_type": "stream",
     "text": [
      "                    epitope_sequence  \\\n",
      "0    FGGRAEWGTNTADNDDTDGNGHGTHTASTAA   \n",
      "1               TEEEKNRLNFLKKISQRYQK   \n",
      "2      TAIFQDTVRAEMTKVLAPAFKKELERNNQ   \n",
      "3               RQRVEQEQEQEQDEYPYSQR   \n",
      "4           PKHADADNILVIQQGQATVTVANG   \n",
      "..                               ...   \n",
      "155             TALKKAITAMSQAQKAAKPA   \n",
      "156             ELFRQFYQLDAYPSGAWYYV   \n",
      "157             KAKFETFKKEMKAKEAELAK   \n",
      "158         ARQQWELQEDRRCQSQLERANLRP   \n",
      "159             PYSPSQDPDRRDPYSPSPYD   \n",
      "\n",
      "                                   protein_url  label  \\\n",
      "0        http://www.uniprot.org/uniprot/P9WEW4      0   \n",
      "1        http://www.uniprot.org/uniprot/P02663      0   \n",
      "2        http://www.uniprot.org/uniprot/P49273      1   \n",
      "3        http://www.uniprot.org/uniprot/Q9SQH1      1   \n",
      "4        http://www.uniprot.org/uniprot/B3IXL2      1   \n",
      "..                                         ...    ...   \n",
      "155      http://www.uniprot.org/uniprot/P22286      0   \n",
      "156      http://www.uniprot.org/uniprot/P02662      1   \n",
      "157  http://www.uniprot.org/uniprot/A0A3P6NWQ2      0   \n",
      "158      http://www.uniprot.org/uniprot/Q6PSU2      1   \n",
      "159      http://www.uniprot.org/uniprot/Q6PSU2      1   \n",
      "\n",
      "                          full_parent_protein_sequence  \\\n",
      "0    MGFLKLLSTSLATLAVVNAGKLLTANDGDEVVPSSYIVVMNDGVST...   \n",
      "1    MKFFIFTCLLAVALAKNTMEHVSSSEESIISQETYKQEKNMAINPS...   \n",
      "2    MMKLLLIAAAAFVAVSADPIHYDKITEEINKAVDEAVAAIEKSETF...   \n",
      "3    MMVKLSILVALLGALLVVASATRWDPDRGSRGSRWDAPSRGDDQCQ...   \n",
      "4    MRGRVSPLMLLLGILVLASVSATQAKSPYRKTENPCAQRCLQSCQQ...   \n",
      "..                                                 ...   \n",
      "155  MAVQKYTVALFLVALVVGPAASYAADLSYGAPATPAAPAAGYTPAA...   \n",
      "156  MKLLILTCLVAVALARPKHPIKHQGLPQEVLNENLLRFFVAPFPEV...   \n",
      "157  MVVLKASRLPKTMKTLIVAALFCTIGMALADDTPPPPPFLAGAPQD...   \n",
      "158  MAKLTILVALALFLLAAHASARQQWELQGDRRCQSQLERANLRPCE...   \n",
      "159  MAKLTILVALALFLLAAHASARQQWELQGDRRCQSQLERANLRPCE...   \n",
      "\n",
      "                  pdb_matches  \n",
      "0                    ['5Z6O']  \n",
      "1            ['6FS4', '6FS5']  \n",
      "2                    ['3H4Z']  \n",
      "3                          []  \n",
      "4    ['3S7E', '3S7I', '3SMH']  \n",
      "..                        ...  \n",
      "155                        []  \n",
      "156                        []  \n",
      "157                  ['2MAR']  \n",
      "158                  ['8SJ6']  \n",
      "159                        []  \n",
      "\n",
      "[160 rows x 5 columns]\n"
     ]
    }
   ],
   "source": [
    "df_matches = pd.read_csv(\"sequence_pdb_matches.csv\")\n",
    "print(df_matches)"
   ]
  }
 ],
 "metadata": {
  "colab": {
   "provenance": []
  },
  "kernelspec": {
   "display_name": "Python 3",
   "name": "python3"
  },
  "language_info": {
   "name": "python"
  }
 },
 "nbformat": 4,
 "nbformat_minor": 0
}
