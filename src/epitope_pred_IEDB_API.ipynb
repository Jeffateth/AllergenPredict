{
 "cells": [
  {
   "cell_type": "code",
   "execution_count": 2,
   "metadata": {
    "colab": {
     "base_uri": "https://localhost:8080/"
    },
    "id": "AWLv5NY54pAP",
    "executionInfo": {
     "status": "ok",
     "timestamp": 1742497045500,
     "user_tz": -60,
     "elapsed": 1127,
     "user": {
      "displayName": "Jeff",
      "userId": "15773939950998775573"
     }
    },
    "outputId": "af32d802-621d-4cd2-c53c-3ad79d614f95"
   },
   "outputs": [
    {
     "output_type": "stream",
     "name": "stdout",
     "text": [
      "MGVFNYETETTSVIPAARLFKAFILDGDNLFPKVAPQAISSVENIEGNGGPGTIKKISFPEGFPFKYVKDRVDEVDHTNFKYNYSVIEGGPIGDTLEKISNEIKIVATPDGGSILKISNKYHTKGDHEVKAEQVKASKEMGETLLRAVESYLLAHSDAYN\n"
     ]
    }
   ],
   "source": [
    "import requests\n",
    "\n",
    "# Define the UniProt API endpoint\n",
    "uniprot_id = \"P15494\"  # Example: Hemoglobin subunit alpha\n",
    "url = f\"https://rest.uniprot.org/uniprotkb/{uniprot_id}.fasta\"\n",
    "\n",
    "# Send GET request\n",
    "response = requests.get(url)\n",
    "\n",
    "# Check response\n",
    "if response.status_code == 200:\n",
    "    fasta_data = response.text\n",
    "    # Extract only the sequence (remove the FASTA header)\n",
    "    sequence_lines = fasta_data.split(\"\\n\")[1:]  # Skip the first line (header)\n",
    "    raw_sequence = \"\".join(\n",
    "        sequence_lines\n",
    "    )  # Join all sequence lines into a single string\n",
    "    print(raw_sequence)  # Output the single-line sequence\n",
    "else:\n",
    "    print(f\"Error: {response.status_code}\")"
   ]
  },
  {
   "cell_type": "code",
   "execution_count": 3,
   "metadata": {
    "colab": {
     "base_uri": "https://localhost:8080/"
    },
    "id": "huwZeHlN4pAU",
    "executionInfo": {
     "status": "ok",
     "timestamp": 1742497048775,
     "user_tz": -60,
     "elapsed": 1328,
     "user": {
      "displayName": "Jeff",
      "userId": "15773939950998775573"
     }
    },
    "outputId": "ad27e615-594c-4443-d0fb-23c26f6dcb56"
   },
   "outputs": [
    {
     "output_type": "stream",
     "name": "stdout",
     "text": [
      "     Position Residue  Start  End Peptide  Score\n",
      "3           6       Y      4    9  FNYETE  2.098\n",
      "4           7       E      5   10  NYETET  3.497\n",
      "5           8       T      6   11  YETETT  3.138\n",
      "6           9       E      7   12  ETETTS  2.684\n",
      "7          10       T      8   13  TETTSV  1.150\n",
      "27         30       L     28   33  DNLFPK  1.318\n",
      "31         34       V     32   37  PKVAPQ  1.380\n",
      "42         45       I     43   48  ENIEGN  1.195\n",
      "50         53       T     51   56  PGTIKK  1.376\n",
      "54         57       I     55   60  KKISFP  1.118\n",
      "63         66       K     64   69  PFKYVK  1.384\n",
      "64         67       Y     65   70  FKYVKD  1.494\n",
      "65         68       V     66   71  KYVKDR  3.380\n",
      "66         69       K     67   72  YVKDRV  1.254\n",
      "67         70       D     68   73  VKDRVD  1.337\n",
      "68         71       R     69   74  KDRVDE  3.120\n",
      "69         72       V     70   75  DRVDEV  1.158\n",
      "70         73       D     71   76  RVDEVD  1.158\n",
      "72         75       V     73   78  DEVDHT  1.564\n",
      "73         76       D     74   79  EVDHTN  1.506\n",
      "75         78       T     76   81  DHTNFK  2.029\n",
      "76         79       N     77   82  HTNFKY  1.904\n",
      "77         80       F     78   83  TNFKYN  2.250\n",
      "78         81       K     79   84  NFKYNY  2.443\n",
      "79         82       Y     80   85  FKYNYS  2.036\n",
      "80         83       N     81   86  KYNYSV  1.745\n",
      "92         95       T     93   98  GDTLEK  1.514\n",
      "93         96       L     94   99  DTLEKI  1.072\n",
      "96         99       I     97  102  EKISNE  2.013\n",
      "107       110       D    108  113  TPDGGS  1.087\n",
      "114       117       I    115  120  LKISNK  1.107\n",
      "115       118       S    116  121  KISNKY  2.103\n",
      "116       119       N    117  122  ISNKYH  1.431\n",
      "117       120       K    118  123  SNKYHT  2.946\n",
      "118       121       Y    119  124  NKYHTK  4.397\n",
      "119       122       H    120  125  KYHTKG  2.706\n",
      "120       123       T    121  126  YHTKGD  2.259\n",
      "121       124       K    122  127  HTKGDH  1.962\n",
      "122       125       G    123  128  TKGDHE  2.497\n",
      "123       126       D    124  129  KGDHEV  1.284\n",
      "124       127       H    125  130  GDHEVK  1.284\n",
      "125       128       E    126  131  DHEVKA  1.311\n",
      "126       129       V    127  132  HEVKAE  1.360\n",
      "127       130       K    128  133  EVKAEQ  1.730\n",
      "129       132       E    130  135  KAEQVK  1.998\n",
      "130       133       Q    131  136  AEQVKA  1.009\n",
      "131       134       V    132  137  EQVKAS  1.339\n",
      "132       135       K    133  138  QVKASK  1.546\n",
      "133       136       A    134  139  VKASKE  1.546\n",
      "134       137       S    135  140  KASKEM  2.062\n",
      "135       138       K    136  141  ASKEMG  1.020\n",
      "136       139       E    137  142  SKEMGE  1.749\n",
      "137       140       M    138  143  KEMGET  1.883\n",
      "145       148       V    146  151  RAVESY  1.187\n",
      "153       156       S    154  159  AHSDAY  1.082\n",
      "154       157       D    155  160  HSDAYN  1.722\n"
     ]
    }
   ],
   "source": [
    "import requests\n",
    "import pandas as pd\n",
    "from io import StringIO\n",
    "\n",
    "# Define the IEDB API endpoint\n",
    "url = \"http://tools-cluster-interface.iedb.org/tools_api/bcell/\"\n",
    "\n",
    "# Define the API parameters\n",
    "payload = {\"method\": \"Emini\", \"sequence_text\": raw_sequence}\n",
    "\n",
    "# Send a POST request\n",
    "response = requests.post(url, data=payload)\n",
    "\n",
    "# Check response\n",
    "if response.status_code == 200:\n",
    "    # Convert response text to a DataFrame (assuming tab-separated format)\n",
    "    df = pd.read_csv(StringIO(response.text), sep=\"\\t\")\n",
    "\n",
    "    print(df[df[\"Score\"] > 1])\n",
    "\n",
    "else:\n",
    "    print(f\"Error: {response.status_code}\")"
   ]
  },
  {
   "cell_type": "code",
   "execution_count": null,
   "metadata": {
    "id": "0QlZjgwu4pAV"
   },
   "outputs": [],
   "source": []
  }
 ],
 "metadata": {
  "kernelspec": {
   "display_name": ".venv",
   "language": "python",
   "name": "python3"
  },
  "language_info": {
   "codemirror_mode": {
    "name": "ipython",
    "version": 3
   },
   "file_extension": ".py",
   "mimetype": "text/x-python",
   "name": "python",
   "nbconvert_exporter": "python",
   "pygments_lexer": "ipython3",
   "version": "3.12.4"
  },
  "colab": {
   "provenance": []
  }
 },
 "nbformat": 4,
 "nbformat_minor": 0
}